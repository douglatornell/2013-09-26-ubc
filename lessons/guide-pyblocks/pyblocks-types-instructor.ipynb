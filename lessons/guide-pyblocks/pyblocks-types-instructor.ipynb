{
 "metadata": {
  "name": "pyblocks-types-instructor"
 },
 "nbformat": 3,
 "nbformat_minor": 0,
 "worksheets": [
  {
   "cells": [
    {
     "cell_type": "heading",
     "level": 1,
     "metadata": {},
     "source": [
      "Basic Python Using Python: Values and Types (Instructor Version)"
     ]
    },
    {
     "cell_type": "markdown",
     "metadata": {},
     "source": [
      "## Objectives\n",
      "\n",
      "-   Explain what a data type is.\n",
      "-   Identify the types of integers, floating-point numbers, and strings.\n",
      "-   Call simple built-in functions correctly."
     ]
    },
    {
     "cell_type": "markdown",
     "metadata": {},
     "source": [
      "## Lesson\n",
      "\n",
      "Let's take another look at the Python we have written so far:"
     ]
    },
    {
     "cell_type": "code",
     "collapsed": false,
     "input": [
      "temp_fahr = 98.6\n",
      "temp_kelvin = (temp_fahr - 32.0) * (5.0 / 9.0) + 273.15\n",
      "print 'body temperature in Kelvin:', temp_kelvin"
     ],
     "language": "python",
     "metadata": {},
     "outputs": [
      {
       "output_type": "stream",
       "stream": "stdout",
       "text": [
        "body temperature in Kelvin: 310.15\n"
       ]
      }
     ],
     "prompt_number": 1
    },
    {
     "cell_type": "markdown",
     "metadata": {},
     "source": [
      "Why have we written 5.0/9.0 instead of simply 5/9? Let's see what\n",
      "happens if we take out the .0's:"
     ]
    },
    {
     "cell_type": "code",
     "collapsed": false,
     "input": [
      "temp_fahr = 98.6\n",
      "temp_kelvin = (temp_fahr - 32.0) * (5 / 9) + 273.15\n",
      "print 'body temperature in Kelvin:', temp_kelvin"
     ],
     "language": "python",
     "metadata": {},
     "outputs": [
      {
       "output_type": "stream",
       "stream": "stdout",
       "text": [
        "body temperature in Kelvin: 273.15\n"
       ]
      }
     ],
     "prompt_number": 2
    },
    {
     "cell_type": "markdown",
     "metadata": {},
     "source": [
      "That's not right. To understand what's gone wrong, let's look at 5/9:"
     ]
    },
    {
     "cell_type": "code",
     "collapsed": false,
     "input": [
      "print 5/9"
     ],
     "language": "python",
     "metadata": {},
     "outputs": [
      {
       "output_type": "stream",
       "stream": "stdout",
       "text": [
        "0\n"
       ]
      }
     ],
     "prompt_number": 3
    },
    {
     "cell_type": "markdown",
     "metadata": {},
     "source": [
      "The problem is that computers have two different kinds of numbers:\n",
      "[integers](glossary.html#integer) like 1, 2, and 3, and floating-point\n",
      "numbers (or [floats](glossary.html#float)), which have fractional parts.\n",
      "If a number is written without a decimal point, Python stores it as an\n",
      "integer. When it divides one integer by another, it throws away the\n",
      "remainder: to a computer, 5/2 is 2, not 2.5.\n",
      "\n",
      "If a number contains a decimal point, though, Python stores it as a\n",
      "float. When it does division or any other kind of arithmetic, the result\n",
      "is a float if either of the values involved is a float:"
     ]
    },
    {
     "cell_type": "code",
     "collapsed": false,
     "input": [
      "10/3"
     ],
     "language": "python",
     "metadata": {},
     "outputs": [
      {
       "output_type": "pyout",
       "prompt_number": 4,
       "text": [
        "3"
       ]
      }
     ],
     "prompt_number": 4
    },
    {
     "cell_type": "code",
     "collapsed": false,
     "input": [
      "10.0/3"
     ],
     "language": "python",
     "metadata": {},
     "outputs": [
      {
       "output_type": "pyout",
       "prompt_number": 1,
       "text": [
        "3.3333333333333335"
       ]
      }
     ],
     "prompt_number": 1
    },
    {
     "cell_type": "markdown",
     "metadata": {},
     "source": [
      "Computers have both kinds of numbers for two reasons. The first is\n",
      "historical: integer operations were significantly faster on early\n",
      "computers, so allowing people to use them was one way to speed up\n",
      "programs. Secondly, they actually have different purposes: integers are\n",
      "for counting things, and floats for measuring quantities."
     ]
    },
    {
     "cell_type": "markdown",
     "metadata": {},
     "source": [
      "### *Changing the Rules*\n",
      "\n",
      "<em>\n",
      "    Version 3 of Python changed the rules for division so that it creates\n",
      "    fractional numbers when it should. However, we're using Python 2.7, so\n",
      "    10/3 is 3 until further notice.\n",
      "</em>"
     ]
    },
    {
     "cell_type": "markdown",
     "metadata": {},
     "source": [
      "### *Remainder*\n",
      "\n",
      "<em>\n",
      "    Python has another \"division\" operator, written '%', which returns the\n",
      "    remainder that integer division throws away:\n",
      "</em>"
     ]
    },
    {
     "cell_type": "code",
     "collapsed": false,
     "input": [
      "10 % 3"
     ],
     "language": "python",
     "metadata": {},
     "outputs": [
      {
       "output_type": "pyout",
       "prompt_number": 6,
       "text": [
        "1"
       ]
      }
     ],
     "prompt_number": 6
    },
    {
     "cell_type": "code",
     "collapsed": false,
     "input": [
      "15 % 6"
     ],
     "language": "python",
     "metadata": {},
     "outputs": [
      {
       "output_type": "pyout",
       "prompt_number": 7,
       "text": [
        "3"
       ]
      }
     ],
     "prompt_number": 7
    },
    {
     "cell_type": "markdown",
     "metadata": {},
     "source": [
      "Integers and floats are two [types](glossary.html#type) of data. Every\n",
      "value in a program has a specific type that determines how it behaves\n",
      "and what can be done to it. We can find out what type something is using\n",
      "a built-in [function](glossary.html#function) called `type`:"
     ]
    },
    {
     "cell_type": "code",
     "collapsed": false,
     "input": [
      "type(12)"
     ],
     "language": "python",
     "metadata": {},
     "outputs": [
      {
       "output_type": "pyout",
       "prompt_number": 8,
       "text": [
        "int"
       ]
      }
     ],
     "prompt_number": 8
    },
    {
     "cell_type": "code",
     "collapsed": false,
     "input": [
      "type(12.0)"
     ],
     "language": "python",
     "metadata": {},
     "outputs": [
      {
       "output_type": "pyout",
       "prompt_number": 9,
       "text": [
        "float"
       ]
      }
     ],
     "prompt_number": 9
    },
    {
     "cell_type": "markdown",
     "metadata": {},
     "source": [
      "Another common data type is the character string. We can create one by\n",
      "putting characters inside either single or double quotes (as long as we\n",
      "use the same kind at the beginning and end):"
     ]
    },
    {
     "cell_type": "code",
     "collapsed": false,
     "input": [
      "name = \"Alan Turing\"\n",
      "born = 'June 23, 1912'\n",
      "print name, born"
     ],
     "language": "python",
     "metadata": {},
     "outputs": [
      {
       "output_type": "stream",
       "stream": "stdout",
       "text": [
        "Alan Turing June 23, 1912\n"
       ]
      }
     ],
     "prompt_number": 10
    },
    {
     "cell_type": "markdown",
     "metadata": {},
     "source": [
      "We can also \"add\" and \"multiply\" strings:"
     ]
    },
    {
     "cell_type": "code",
     "collapsed": false,
     "input": [
      "full = name + \" (\" + born + \")\"\n",
      "print full"
     ],
     "language": "python",
     "metadata": {},
     "outputs": [
      {
       "output_type": "stream",
       "stream": "stdout",
       "text": [
        "Alan Turing (June 23, 1912)\n"
       ]
      }
     ],
     "prompt_number": 12
    },
    {
     "cell_type": "code",
     "collapsed": false,
     "input": [
      "print \"xo\" * 3"
     ],
     "language": "python",
     "metadata": {},
     "outputs": [
      {
       "output_type": "stream",
       "stream": "stdout",
       "text": [
        "xoxoxo\n"
       ]
      }
     ],
     "prompt_number": 13
    },
    {
     "cell_type": "markdown",
     "metadata": {},
     "source": [
      "What we *can't* do is add numbers and strings:"
     ]
    },
    {
     "cell_type": "code",
     "collapsed": false,
     "input": [
      "print 2 + \"three\""
     ],
     "language": "python",
     "metadata": {},
     "outputs": [
      {
       "ename": "TypeError",
       "evalue": "unsupported operand type(s) for +: 'int' and 'str'",
       "output_type": "pyerr",
       "traceback": [
        "\u001b[0;31m---------------------------------------------------------------------------\u001b[0m\n\u001b[0;31mTypeError\u001b[0m                                 Traceback (most recent call last)",
        "\u001b[0;32m<ipython-input-14-f6f99c093ec8>\u001b[0m in \u001b[0;36m<module>\u001b[0;34m()\u001b[0m\n\u001b[0;32m----> 1\u001b[0;31m \u001b[0;32mprint\u001b[0m \u001b[0;36m2\u001b[0m \u001b[0;34m+\u001b[0m \u001b[0;34m\"three\"\u001b[0m\u001b[0;34m\u001b[0m\u001b[0m\n\u001b[0m",
        "\u001b[0;31mTypeError\u001b[0m: unsupported operand type(s) for +: 'int' and 'str'"
       ]
      }
     ],
     "prompt_number": 14
    },
    {
     "cell_type": "markdown",
     "metadata": {},
     "source": [
      "The reason we can't is that Python won't always know what we actually\n",
      "want. \"2three\" would be a reasonable result in this case, but should\n",
      "`2+\"3\"` produce the integer 5 or the string `\"23\"`? Rather than guessing\n",
      "at the programmer's intentions, Python requires us to tell it whether to\n",
      "convert the number to a string or the string to a number so that it\n",
      "knows what kind of addition to do. We do this using `int` and `str`,\n",
      "which are two more built-in functions:"
     ]
    },
    {
     "cell_type": "code",
     "collapsed": false,
     "input": [
      "print 2 + int(\"3\")"
     ],
     "language": "python",
     "metadata": {},
     "outputs": [
      {
       "output_type": "stream",
       "stream": "stdout",
       "text": [
        "5\n"
       ]
      }
     ],
     "prompt_number": 15
    },
    {
     "cell_type": "code",
     "collapsed": false,
     "input": [
      "print str(2) + \"3\""
     ],
     "language": "python",
     "metadata": {},
     "outputs": [
      {
       "output_type": "stream",
       "stream": "stdout",
       "text": [
        "23\n"
       ]
      }
     ],
     "prompt_number": 17
    },
    {
     "cell_type": "markdown",
     "metadata": {},
     "source": [
      "One last fact about types is that variables in Python don't have them:\n",
      "only values do. A variable is a just a name; it can refer to a string at\n",
      "one point in a program, and a float a moment later:"
     ]
    },
    {
     "cell_type": "code",
     "collapsed": false,
     "input": [
      "temp = 'temperature'\n",
      "print temp, type(temp)"
     ],
     "language": "python",
     "metadata": {},
     "outputs": [
      {
       "output_type": "stream",
       "stream": "stdout",
       "text": [
        "temperature <type 'str'>\n"
       ]
      }
     ],
     "prompt_number": 18
    },
    {
     "cell_type": "code",
     "collapsed": false,
     "input": [
      "temp = 37.2\n",
      "print temp, type(temp)"
     ],
     "language": "python",
     "metadata": {},
     "outputs": [
      {
       "output_type": "stream",
       "stream": "stdout",
       "text": [
        "37.2 <type 'float'>\n"
       ]
      }
     ],
     "prompt_number": 19
    },
    {
     "cell_type": "markdown",
     "metadata": {},
     "source": [
      "### *Static vs. Dynamic Typing*\n",
      "\n",
      "<em>\n",
      "    Programmers argue incessantly about whether this is a good idea or not.\n",
      "    In [statically-typed](glossary.html#static-typing) languages like\n",
      "    Fortran, C++, Java, and Haskell, a variable can only store values of a\n",
      "    particular type. This restriction makes it easier for compilers to check\n",
      "    programs' correctness and optimize their performance, but languages like\n",
      "    Python and R, which are designed for interactive use, tend to be\n",
      "    [dynamically typed](glossary.html#dynamic-typing) in order to keep\n",
      "    fingers-on-keyboard typing to a minimum.\n",
      "</em>"
     ]
    },
    {
     "cell_type": "markdown",
     "metadata": {},
     "source": [
      "## Key Points\n",
      "\n",
      "-   The most commonly used data types in Python are integers (`int`),\n",
      "    floating-point numbers (`float`), and strings (`str`).\n",
      "-   Strings can start and end with either single quote (') or double\n",
      "    quote (\").\n",
      "-   Division ('/') produces an `int` result when given `int` values: one\n",
      "    or both arguments must be `float` to get a `float` result.\n",
      "-   The modulo operator ('%') produces the remainder from integer\n",
      "    division.\n",
      "-   \"Adding\" strings concatenates them, multiplying strings by numbers\n",
      "    repeats them.\n",
      "-   Strings and numbers cannot be added because the behavior is\n",
      "    ambiguous: convert one to the other type first.\n",
      "-   Variables in Python do not have types, but values do."
     ]
    }
   ],
   "metadata": {}
  }
 ]
}