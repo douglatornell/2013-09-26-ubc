{
 "metadata": {
  "name": "pyblocks-return-instructor"
 },
 "nbformat": 3,
 "nbformat_minor": 0,
 "worksheets": [
  {
   "cells": [
    {
     "cell_type": "heading",
     "level": 1,
     "metadata": {},
     "source": [
      "Basic Programming Using Python: Returning Values (Instructor Version)"
     ]
    },
    {
     "cell_type": "markdown",
     "metadata": {},
     "source": [
      "## Objectives\n",
      "\n",
      "-   Write functions that return values from arbitrary points.\n",
      "-   Explain why functions *shouldn't* return values at arbitrary points.\n",
      "-   Identify functions that implicitly return `None`."
     ]
    },
    {
     "cell_type": "markdown",
     "metadata": {},
     "source": [
      "## Lesson\n",
      "\n",
      "All of our functions so far have ended with a `return` statement, and\n",
      "that has been the only `return` statement they've contained. Once again,\n",
      "this doesn't have to be the case: it is often easier to write functions\n",
      "that return from several places, though this can also make them harder\n",
      "to read.\n",
      "\n",
      "Let's start with a function that calculates the sign of a number:"
     ]
    },
    {
     "cell_type": "code",
     "collapsed": false,
     "input": [
      "def sign(num):\n",
      "    if num < 0:\n",
      "        return -1\n",
      "    if num == 0:\n",
      "        return 0\n",
      "    return 1"
     ],
     "language": "python",
     "metadata": {},
     "outputs": [],
     "prompt_number": 1
    },
    {
     "cell_type": "markdown",
     "metadata": {},
     "source": [
      "If we call it with a negative number, the first branch of the `if`\n",
      "returns -1. If we call it with 0, the `return` in the second `if` is\n",
      "executed, and if we call it with a positive number, neither of the `if`\n",
      "branches is taken, so we [fall through](glossary.html#fall-through) to\n",
      "the final `return`, which produces the value 1:"
     ]
    },
    {
     "cell_type": "code",
     "collapsed": false,
     "input": [
      "print -5, '=>', sign(-5)\n",
      "print 0, '=>', sign(0)\n",
      "print 241, '=>', sign(241)"
     ],
     "language": "python",
     "metadata": {},
     "outputs": [
      {
       "output_type": "stream",
       "stream": "stdout",
       "text": [
        "-5 => -1\n",
        "0 => 0\n",
        "241 => 1\n"
       ]
      }
     ],
     "prompt_number": 2
    },
    {
     "cell_type": "markdown",
     "metadata": {},
     "source": [
      "One common use of multiple return statements is to handle special cases\n",
      "at the start of a function. For example, suppose we decide that we want\n",
      "the average of an empty list to be zero after all. We could modify our\n",
      "averaging function to check for this case before doing anything else:"
     ]
    },
    {
     "cell_type": "code",
     "collapsed": false,
     "input": [
      "def average(values):\n",
      "\n",
      "    # The average of no values is 0.0.\n",
      "    if len(values) == 0:\n",
      "        return 0.0\n",
      "\n",
      "    # Handle actual values.\n",
      "    result = 0.0\n",
      "    for v in values:\n",
      "        result += v\n",
      "    return result / len(values)"
     ],
     "language": "python",
     "metadata": {},
     "outputs": [],
     "prompt_number": 3
    },
    {
     "cell_type": "markdown",
     "metadata": {},
     "source": [
      "The early `return` statement (plus a comment) makes it very clear to\n",
      "whoever is reading this code that we are handling an empty list in a\n",
      "special way. Compare this to an implementation that uses `if` and `else`\n",
      "to separate the two cases while keeping a single `return` statement at\n",
      "the end of the function:"
     ]
    },
    {
     "cell_type": "code",
     "collapsed": false,
     "input": [
      "def average(values):\n",
      "\n",
      "    # The average of no values is 0.0.\n",
      "    if len(values) == 0:\n",
      "        result = 0.0\n",
      "\n",
      "    # Handle actual values.\n",
      "    else:\n",
      "        result = 0.0\n",
      "        for v in values:\n",
      "            result += v\n",
      "        result /= len(values)\n",
      "\n",
      "    # Return final result.\n",
      "    return result"
     ],
     "language": "python",
     "metadata": {},
     "outputs": [],
     "prompt_number": 4
    },
    {
     "cell_type": "markdown",
     "metadata": {},
     "source": [
      "This version is easier to understand in one way, but harder in another.\n",
      "What makes it harder is our limited short-term memory: the body of the\n",
      "`else` is only four lines long, but reading and understanding those\n",
      "lines may push the special handling of the empty list out of our mind.\n",
      "In this case, the code is short enough that we will probably be able to\n",
      "retain the special case, but if the calculation was more complex, we\n",
      "would lose sight of the big picture.\n",
      "\n",
      "What makes it easier is its regularity: each possible case of input\n",
      "(empty or non-empty) is handled in a conditional branch, and each\n",
      "branch's job is to assign a value to `result` for the function to\n",
      "return. If there were six or seven special cases, this pattern would\n",
      "help us keep track of what what going on\u2014provided we knew (or\n",
      "recognized) the pattern.\n",
      "\n",
      "The psychological term for what's going on here is\n",
      "[chunking](glossary.html#chunk), which refers to the way people group\n",
      "items together in memory. For example, when you look at the five dots on\n",
      "a dice:"
     ]
    },
    {
     "cell_type": "markdown",
     "metadata": {},
     "source": [
      "FIXME: diagram"
     ]
    },
    {
     "cell_type": "markdown",
     "metadata": {},
     "source": [
      "what you actually \"see\" is the X pattern, and what you remember is that\n",
      "pattern rather than five individual dots. rather than remembering five\n",
      "individual dots. Similarly, you remember common words such as \"common\"\n",
      "as words, not as sequences of letters, and so on.\n",
      "\n",
      "One of the key differences between experts and novices is that experts\n",
      "are better at chunking: they don't actually have larger short-term\n",
      "memories, but since they recognize a broader repertoire of patterns,\n",
      "they are able to manage more information. Turning that over, the more\n",
      "recognizable patterns are used in a program, the easier it is for people\n",
      "to keep it in their heads. And as Chase and Simon discuss in their\n",
      "classic paper \"[Perception in chess](bib.html#chase-simon-chess)\",\n",
      "things that *don't* conform to patterns can actually be *harder* for\n",
      "experts to recognize, since their brains will mis-match and \"correct\"\n",
      "what's actually there.\n",
      "\n",
      "Here's a third version of our function that doesn't use an early return.\n",
      "and only has one conditional branch:"
     ]
    },
    {
     "cell_type": "code",
     "collapsed": false,
     "input": [
      "def average(values):\n",
      "    result = 0.0\n",
      "    if len(values) > 0:\n",
      "        for v in values:\n",
      "            result += v\n",
      "        result /= len(values)\n",
      "    return result"
     ],
     "language": "python",
     "metadata": {},
     "outputs": [],
     "prompt_number": 5
    },
    {
     "cell_type": "markdown",
     "metadata": {},
     "source": [
      "Many people find this version harder to understand than either of the\n",
      "previous two, even though it is shorter. The reason is that the special\n",
      "case isn't handled explicitly. Instead, this function returns 0 for the\n",
      "empty list because of the code that *isn't* executed: if the list is\n",
      "empty, the loop doesn't run, so the initial value of `result` becomes\n",
      "the function's final value by default. Spotting this, and keeping track\n",
      "of what the function isn't doing as well as what it is, is difficult\n",
      "enough that many people won't realize there is a special case at all.\n",
      "\n",
      "One last thing to note about functions in Python is that every function\n",
      "returns something: if there isn't an explicit `return` statement, the\n",
      "value returned is `None`. For example, let's comment out the last line\n",
      "of our sign function:"
     ]
    },
    {
     "cell_type": "code",
     "collapsed": false,
     "input": [
      "def sign(num):\n",
      "    if num < 0:\n",
      "        return -1\n",
      "    if num == 0:\n",
      "        return 0\n",
      "#    return 1\n",
      "\n",
      "print -5, '=>', sign(-5)\n",
      "print 0, '=>', sign(0)\n",
      "print 241, '=>', sign(241)"
     ],
     "language": "python",
     "metadata": {},
     "outputs": [
      {
       "output_type": "stream",
       "stream": "stdout",
       "text": [
        "-5 => -1\n",
        "0 => 0\n",
        "241 => None\n"
       ]
      }
     ],
     "prompt_number": 7
    },
    {
     "cell_type": "markdown",
     "metadata": {},
     "source": [
      "The sign of 241 is now `None` instead of 1, because when the function is\n",
      "called with a positive value, neither of the `if` branches is taken, and\n",
      "execution \"falls off\" the end of the function.\n",
      "\n",
      "Other languages do this differently. In C, for example, trying to use\n",
      "the \"result\" of a function that doesn't explicitly return something is a\n",
      "compilation error\u2014the program can't even be run. No matter what the\n",
      "language, this is one reason why commenting out blocks of code is a bad\n",
      "idea: it's all too easy to accidentally disable a `return` statement\n",
      "buried inside the code that's no longer being executed."
     ]
    },
    {
     "cell_type": "markdown",
     "metadata": {},
     "source": [
      "## Key Points\n",
      "\n",
      "-   A function may return values at any point.\n",
      "-   A function should have zero or more `return` statements at its start\n",
      "    to handle special cases, and then one at the end to handle the\n",
      "    general case.\n",
      "-   \"Accidentally\" correct behavior is hard to understand.\n",
      "-   If a function ends without an explicit `return`, it returns `None`."
     ]
    }
   ],
   "metadata": {}
  }
 ]
}