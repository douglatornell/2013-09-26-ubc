{
 "metadata": {
  "name": "pyblocks-functions-instructor"
 },
 "nbformat": 3,
 "nbformat_minor": 0,
 "worksheets": [
  {
   "cells": [
    {
     "cell_type": "heading",
     "level": 1,
     "metadata": {},
     "source": [
      "Basic Programming Using Python: Functions (Instructor Version)"
     ]
    },
    {
     "cell_type": "markdown",
     "metadata": {},
     "source": [
      "## Objectives\n",
      "\n",
      "-   Explain the benefits of breaking a program up into functions.\n",
      "-   Define a function of a single parameter.\n",
      "-   Explain what a call stack is, what a variable's scope is, and how\n",
      "    the two concepts are related.\n",
      "-   Trace values as they are passed into and returned by functions.\n",
      "-   Compose function calls."
     ]
    },
    {
     "cell_type": "markdown",
     "metadata": {},
     "source": [
      "## Lesson\n",
      "\n",
      "We have called functions many times in this lesson. It is now time to\n",
      "see how to create new functions ourselves. A function's job is to bundle\n",
      "several steps together so that they can be used as if they were a single\n",
      "command. The simplest possible function is one that produces the same\n",
      "value over and over again:"
     ]
    },
    {
     "cell_type": "code",
     "collapsed": false,
     "input": [
      "def zero():\n",
      "    return 0"
     ],
     "language": "python",
     "metadata": {},
     "outputs": [],
     "prompt_number": 1
    },
    {
     "cell_type": "markdown",
     "metadata": {},
     "source": [
      "We create functions in Python using the keyword `def`, followed by the\n",
      "function's name. The empty parentheses signal that the function doesn't\n",
      "take any inputs\u2014we'll see functions that do in a moment\u2014and the colon\n",
      "signals the start of a new block of code. The body of the function is\n",
      "then indented, just like the body of a loop. The keyword `return` then\n",
      "specifies the value that the function produces.\n",
      "\n",
      "Defining a function tells the computer how to do something, but doesn't\n",
      "actually do whatever that \"something\" is. To do that, we need to call\n",
      "the function:"
     ]
    },
    {
     "cell_type": "code",
     "collapsed": false,
     "input": [
      "result = zero()\n",
      "print 'zero produces', result"
     ],
     "language": "python",
     "metadata": {},
     "outputs": [
      {
       "output_type": "stream",
       "stream": "stdout",
       "text": [
        "zero produces 0\n"
       ]
      }
     ],
     "prompt_number": 2
    },
    {
     "cell_type": "markdown",
     "metadata": {},
     "source": [
      "When Python sees the call `zero()` it sets aside whatever it was doing,\n",
      "goes and does whatever the function `zero` tells it to do, and then\n",
      "continues with its original calculation using the function's result. In\n",
      "this case, the overall effect is to assign 0 to `result`, which is then\n",
      "printed.\n",
      "\n",
      "Functions that always produce the same value aren't particularly useful,\n",
      "so most functions take input values, usually called\n",
      "[parameters](glossary.html#parameter) or\n",
      "[arguments](glossary.html#argument). A parameter is a variable that is\n",
      "given a new value each time the function is called. For example, the\n",
      "function `fahr_to_kelvin` defined below has a single parameter `temp`,\n",
      "which is assigned the value 32 the first time it is called, and the\n",
      "value 212 the second time:"
     ]
    },
    {
     "cell_type": "code",
     "collapsed": false,
     "input": [
      "def fahr_to_kelvin(temp):\n",
      "    return ((temp - 32.0) * 5.0/9.0) + 273.15\n",
      "\n",
      "print 'water freezes at', fahr_to_kelvin(32)\n",
      "print 'water boils at', fahr_to_kelvin(212)"
     ],
     "language": "python",
     "metadata": {},
     "outputs": [
      {
       "output_type": "stream",
       "stream": "stdout",
       "text": [
        "water freezes at 273.15\n",
        "water boils at 373.15\n"
       ]
      }
     ],
     "prompt_number": 3
    },
    {
     "cell_type": "markdown",
     "metadata": {},
     "source": [
      "The functions we have seen so far have had only one parameter. When we\n",
      "define a function, however, we can give it any number of parameters.\n",
      "When the function is called and a new stack frame is created, a new\n",
      "variable is defined for each of those parameters, and the actual values\n",
      "given by the caller are assigned to the parameters in order from left to\n",
      "right. For example, if we define `average3` to calculate the average of\n",
      "three numbers:"
     ]
    },
    {
     "cell_type": "code",
     "collapsed": false,
     "input": [
      "def average3(a, b, c):\n",
      "    return (a + b + c) / 3.0"
     ],
     "language": "python",
     "metadata": {},
     "outputs": [],
     "prompt_number": 5
    },
    {
     "cell_type": "markdown",
     "metadata": {},
     "source": [
      "and call it like this:"
     ]
    },
    {
     "cell_type": "code",
     "collapsed": false,
     "input": [
      "x = 2\n",
      "y = 2\n",
      "z = 5\n",
      "print average3(x, y, z)"
     ],
     "language": "python",
     "metadata": {},
     "outputs": [
      {
       "output_type": "stream",
       "stream": "stdout",
       "text": [
        "3.0\n"
       ]
      }
     ],
     "prompt_number": 6
    },
    {
     "cell_type": "markdown",
     "metadata": {},
     "source": [
      "then just before the function returns, the program's memory is as shown here:"
     ]
    },
    {
     "cell_type": "markdown",
     "metadata": {},
     "source": [
      "FIXME: figure"
     ]
    },
    {
     "cell_type": "markdown",
     "metadata": {},
     "source": [
      "Calling this function with the wrong number of values is an error:"
     ]
    },
    {
     "cell_type": "code",
     "collapsed": false,
     "input": [
      "print average3(1, 5)"
     ],
     "language": "python",
     "metadata": {},
     "outputs": [
      {
       "ename": "TypeError",
       "evalue": "average3() takes exactly 3 arguments (2 given)",
       "output_type": "pyerr",
       "traceback": [
        "\u001b[0;31m---------------------------------------------------------------------------\u001b[0m\n\u001b[0;31mTypeError\u001b[0m                                 Traceback (most recent call last)",
        "\u001b[0;32m<ipython-input-7-26a826b6ac10>\u001b[0m in \u001b[0;36m<module>\u001b[0;34m()\u001b[0m\n\u001b[0;32m----> 1\u001b[0;31m \u001b[0;32mprint\u001b[0m \u001b[0maverage3\u001b[0m\u001b[0;34m(\u001b[0m\u001b[0;36m1\u001b[0m\u001b[0;34m,\u001b[0m \u001b[0;36m5\u001b[0m\u001b[0;34m)\u001b[0m\u001b[0;34m\u001b[0m\u001b[0m\n\u001b[0m",
        "\u001b[0;31mTypeError\u001b[0m: average3() takes exactly 3 arguments (2 given)"
       ]
      }
     ],
     "prompt_number": 7
    },
    {
     "cell_type": "markdown",
     "metadata": {},
     "source": [
      "This is only sensible: if we pass two values to `average3`, Python has\n",
      "no way of knowing what third value to use. We can create functions that\n",
      "have [default values](glossary.html#default-value) for parameters simply\n",
      "by providing those values when the function is defined:"
     ]
    },
    {
     "cell_type": "code",
     "collapsed": false,
     "input": [
      "def average3(a=0.0, b=0.0, c=0.0):\n",
      "    return (a + b + c) / 3.0"
     ],
     "language": "python",
     "metadata": {},
     "outputs": [],
     "prompt_number": 8
    },
    {
     "cell_type": "markdown",
     "metadata": {},
     "source": [
      "The meaning is straightforward: if the caller doesn't tell the function\n",
      "what value to use for `a`, the function should use 0.0, and similarly\n",
      "for the other parameters. We can now call our function in four different\n",
      "ways:"
     ]
    },
    {
     "cell_type": "markdown",
     "metadata": {},
     "source": [
      "<table>\n",
      "<tr>\n",
      "  <th>Call</th>\n",
      "  <th><code>a</code></th>\n",
      "  <th><code>b</code></th>\n",
      "  <th><code>c</code></th>\n",
      "  <th>Result</th>\n",
      "</tr>\n",
      "<tr>\n",
      "  <td><code>average3()</code></td>\n",
      "  <td>0.0</td>\n",
      "  <td>0.0</td>\n",
      "  <td>0.0</td>\n",
      "  <td>0.0</td>\n",
      "</tr>\n",
      "<tr>\n",
      "  <td><code>average3(3.0)</code></td>\n",
      "  <td>3.0</td>\n",
      "  <td>0.0</td>\n",
      "  <td>0.0</td>\n",
      "  <td>1.0</td>\n",
      "</tr>\n",
      "<tr>\n",
      "  <td><code>average3(3.0, 6.0)</code></td>\n",
      "  <td>3.0</td>\n",
      "  <td>6.0</td>\n",
      "  <td>0.0</td>\n",
      "  <td>3.0</td>\n",
      "</tr>\n",
      "<tr>\n",
      "  <td><code>average3(3.0, 6.0, 9.0)</code></td>\n",
      "  <td>3.0</td>\n",
      "  <td>6.0</td>\n",
      "  <td>9.0</td>\n",
      "  <td>6.0</td>\n",
      "</tr>\n",
      "</table>"
     ]
    },
    {
     "cell_type": "markdown",
     "metadata": {},
     "source": [
      "We still can't call this function with more than three parameters,\n",
      "though, since once again Python wouldn't know where to put the fourth\n",
      "and higher.\n",
      "\n",
      "One restriction on functions with default values is that all of the\n",
      "parameters that have default values must come *after* all of the\n",
      "parameters that don't. To see why, imagine we were allowed to mix\n",
      "defaulting and non-defaulting parameters like this:"
     ]
    },
    {
     "cell_type": "markdown",
     "metadata": {},
     "source": [
      "    def average(start=None, values, end=None):\n",
      "        if start is None:\n",
      "            start = 0\n",
      "        if end is None:\n",
      "            end = len(values)\n",
      "        result = 0.0\n",
      "        i = start\n",
      "        while i < end:\n",
      "            result += values[i]\n",
      "            i += 1\n",
      "        return result / (end - start)"
     ]
    },
    {
     "cell_type": "markdown",
     "metadata": {},
     "source": [
      "If we call the function with just one parameter, it's pretty clear that\n",
      "its value has to be assigned to `values`. But what should Python do if\n",
      "the function is called with two parameters, like\n",
      "`average([1.0, 2.0, 5.0], 1)`? Should it use the provided values for the\n",
      "first and second parameters, and the default for the third? Or should it\n",
      "use the first parameter's default, and assign the given values to the\n",
      "second and third? We know what we want, but Python doesn't: remember, it\n",
      "can't infer anything from variables' names. We could define some sort of\n",
      "rule to tell it what to do in this case, but it's simpler and safer to\n",
      "disallow the problem in the first place."
     ]
    },
    {
     "cell_type": "markdown",
     "metadata": {},
     "source": [
      "### *How Older Languages Do It*\n",
      "\n",
      "<em>\n",
      "    If the language we are using doesn't let us define default parameter\n",
      "    values, we would have to write two functions:\n",
      "</em>"
     ]
    },
    {
     "cell_type": "code",
     "collapsed": false,
     "input": [
      "def is_close_diff(left, right, difference):\n",
      "    return abs(left - right) < difference\n",
      "\n",
      "def is_close_default(left, right):\n",
      "    return is_close_diff(left, right, 1.0e-6)"
     ],
     "language": "python",
     "metadata": {},
     "outputs": [],
     "prompt_number": 10
    },
    {
     "cell_type": "markdown",
     "metadata": {},
     "source": [
      "<em>\n",
      "    This is a common [design pattern](glossary.html#design-pattern) in many\n",
      "    programming languages. We start by defining the most general function we\n",
      "    can think of\u2014in this case, one that uses a user-specified difference\u2014and\n",
      "    then write [wrapper functions](glossary.html#wrapper-function) as\n",
      "    easy-to-use shortcuts for common cases. These wrapper functions do *not*\n",
      "    duplicate what's in the general function; instead, they call it, filling\n",
      "    in some or all of the parameters it requires with sensible defaults.\n",
      "</em>\n",
      "\n",
      "<em>\n",
      "    The problem with this approach is that we have to come up with names for\n",
      "    all those little functions. Default parameters were invented to solve\n",
      "    this problem: instead of writing lots of functions, we write one, and\n",
      "    provide default values for some or all of its parameters.\n",
      "</em>"
     ]
    },
    {
     "cell_type": "markdown",
     "metadata": {},
     "source": [
      "## Key Points\n",
      "\n",
      "-   Define a function using `def name(...)`\n",
      "-   The body of a function must be indented.\n",
      "-   Use `name(...)` to call a function.\n",
      "-   Use `return` to return a value from a function.\n",
      "-   The values passed into a function are assigned to its parameters in\n",
      "    left-to-right order.\n",
      "-   Function calls are recorded on a call stack.\n",
      "-   Every function call creates a new stack frame.\n",
      "-   The variables in a stack frame are discarded when the function call\n",
      "    completes.\n",
      "-   Grouping operations in functions makes code easier to understand and\n",
      "    re-use."
     ]
    }
   ],
   "metadata": {}
  }
 ]
}