{
 "metadata": {
  "name": "pyblocks-types-learner"
 },
 "nbformat": 3,
 "nbformat_minor": 0,
 "worksheets": [
  {
   "cells": [
    {
     "cell_type": "heading",
     "level": 1,
     "metadata": {},
     "source": [
      "Basic Python Using Python: Values and Types (Learner Version)"
     ]
    },
    {
     "cell_type": "markdown",
     "metadata": {},
     "source": [
      "## Objectives\n",
      "\n",
      "-   Explain what a data type is.\n",
      "-   Identify the types of integers, floating-point numbers, and strings.\n",
      "-   Call simple built-in functions correctly."
     ]
    },
    {
     "cell_type": "markdown",
     "metadata": {},
     "source": [
      "## Lesson\n",
      "\n",
      "* Code so far:"
     ]
    },
    {
     "cell_type": "code",
     "collapsed": false,
     "input": [
      "temp_fahr = 98.6\n",
      "temp_kelvin = (temp_fahr - 32.0) * (5.0 / 9.0) + 273.15\n",
      "print 'body temperature in Kelvin:', temp_kelvin"
     ],
     "language": "python",
     "metadata": {},
     "outputs": [
      {
       "output_type": "stream",
       "stream": "stdout",
       "text": [
        "body temperature in Kelvin: 310.15\n"
       ]
      }
     ],
     "prompt_number": 1
    },
    {
     "cell_type": "markdown",
     "metadata": {},
     "source": [
      "* Why 5.0/9.0 instead of 5/9?"
     ]
    },
    {
     "cell_type": "code",
     "collapsed": false,
     "input": [
      "temp_fahr = 98.6\n",
      "temp_kelvin = (temp_fahr - 32.0) * (5 / 9) + 273.15\n",
      "print 'body temperature in Kelvin:', temp_kelvin"
     ],
     "language": "python",
     "metadata": {},
     "outputs": [
      {
       "output_type": "stream",
       "stream": "stdout",
       "text": [
        "body temperature in Kelvin: 273.15\n"
       ]
      }
     ],
     "prompt_number": 2
    },
    {
     "cell_type": "markdown",
     "metadata": {},
     "source": [
      "* 5 and 9 are integers, and integer/integer division truncates:"
     ]
    },
    {
     "cell_type": "code",
     "collapsed": false,
     "input": [
      "print 5/9"
     ],
     "language": "python",
     "metadata": {},
     "outputs": [
      {
       "output_type": "stream",
       "stream": "stdout",
       "text": [
        "0\n"
       ]
      }
     ],
     "prompt_number": 3
    },
    {
     "cell_type": "markdown",
     "metadata": {},
     "source": [
      "* If either value is a floating point number, fractional part is retained:"
     ]
    },
    {
     "cell_type": "code",
     "collapsed": false,
     "input": [
      "10/3"
     ],
     "language": "python",
     "metadata": {},
     "outputs": [
      {
       "output_type": "pyout",
       "prompt_number": 4,
       "text": [
        "3"
       ]
      }
     ],
     "prompt_number": 4
    },
    {
     "cell_type": "code",
     "collapsed": false,
     "input": [
      "10.0/3"
     ],
     "language": "python",
     "metadata": {},
     "outputs": [
      {
       "output_type": "pyout",
       "prompt_number": 5,
       "text": [
        "3.3333333333333335"
       ]
      }
     ],
     "prompt_number": 5
    },
    {
     "cell_type": "markdown",
     "metadata": {},
     "source": [
      "* Python also has a remainder operator '%'"
     ]
    },
    {
     "cell_type": "code",
     "collapsed": false,
     "input": [
      "10 % 3"
     ],
     "language": "python",
     "metadata": {},
     "outputs": [
      {
       "output_type": "pyout",
       "prompt_number": 6,
       "text": [
        "1"
       ]
      }
     ],
     "prompt_number": 6
    },
    {
     "cell_type": "code",
     "collapsed": false,
     "input": [
      "15 % 6"
     ],
     "language": "python",
     "metadata": {},
     "outputs": [
      {
       "output_type": "pyout",
       "prompt_number": 7,
       "text": [
        "3"
       ]
      }
     ],
     "prompt_number": 7
    },
    {
     "cell_type": "markdown",
     "metadata": {},
     "source": [
      "* Use `type` function to determine a value's type:"
     ]
    },
    {
     "cell_type": "code",
     "collapsed": false,
     "input": [
      "type(12)"
     ],
     "language": "python",
     "metadata": {},
     "outputs": [
      {
       "output_type": "pyout",
       "prompt_number": 8,
       "text": [
        "int"
       ]
      }
     ],
     "prompt_number": 8
    },
    {
     "cell_type": "code",
     "collapsed": false,
     "input": [
      "type(12.0)"
     ],
     "language": "python",
     "metadata": {},
     "outputs": [
      {
       "output_type": "pyout",
       "prompt_number": 9,
       "text": [
        "float"
       ]
      }
     ],
     "prompt_number": 9
    },
    {
     "cell_type": "markdown",
     "metadata": {},
     "source": [
      "* Create character strings using matching double or single quotes"
     ]
    },
    {
     "cell_type": "code",
     "collapsed": false,
     "input": [
      "name = \"Alan Turing\"\n",
      "born = 'June 23, 1912'\n",
      "print name, born"
     ],
     "language": "python",
     "metadata": {},
     "outputs": [
      {
       "output_type": "stream",
       "stream": "stdout",
       "text": [
        "Alan Turing June 23, 1912\n"
       ]
      }
     ],
     "prompt_number": 10
    },
    {
     "cell_type": "markdown",
     "metadata": {},
     "source": [
      "* Add (concatenate) and multiply strings"
     ]
    },
    {
     "cell_type": "code",
     "collapsed": false,
     "input": [
      "full = name + \" (\" + born + \")\"\n",
      "print full"
     ],
     "language": "python",
     "metadata": {},
     "outputs": [
      {
       "output_type": "stream",
       "stream": "stdout",
       "text": [
        "Alan Turing (June 23, 1912)\n"
       ]
      }
     ],
     "prompt_number": 12
    },
    {
     "cell_type": "code",
     "collapsed": false,
     "input": [
      "print \"xo\" * 3"
     ],
     "language": "python",
     "metadata": {},
     "outputs": [
      {
       "output_type": "stream",
       "stream": "stdout",
       "text": [
        "xoxoxo\n"
       ]
      }
     ],
     "prompt_number": 13
    },
    {
     "cell_type": "markdown",
     "metadata": {},
     "source": [
      "* Cannot add strings and numbers because result would be ambiguous"
     ]
    },
    {
     "cell_type": "code",
     "collapsed": false,
     "input": [
      "print 2 + \"three\""
     ],
     "language": "python",
     "metadata": {},
     "outputs": [
      {
       "ename": "TypeError",
       "evalue": "unsupported operand type(s) for +: 'int' and 'str'",
       "output_type": "pyerr",
       "traceback": [
        "\u001b[0;31m---------------------------------------------------------------------------\u001b[0m\n\u001b[0;31mTypeError\u001b[0m                                 Traceback (most recent call last)",
        "\u001b[0;32m<ipython-input-14-f6f99c093ec8>\u001b[0m in \u001b[0;36m<module>\u001b[0;34m()\u001b[0m\n\u001b[0;32m----> 1\u001b[0;31m \u001b[0;32mprint\u001b[0m \u001b[0;36m2\u001b[0m \u001b[0;34m+\u001b[0m \u001b[0;34m\"three\"\u001b[0m\u001b[0;34m\u001b[0m\u001b[0m\n\u001b[0m",
        "\u001b[0;31mTypeError\u001b[0m: unsupported operand type(s) for +: 'int' and 'str'"
       ]
      }
     ],
     "prompt_number": 14
    },
    {
     "cell_type": "markdown",
     "metadata": {},
     "source": [
      "* Use `int` and `str` functions to convert"
     ]
    },
    {
     "cell_type": "code",
     "collapsed": false,
     "input": [
      "print 2 + int(\"3\")"
     ],
     "language": "python",
     "metadata": {},
     "outputs": [
      {
       "output_type": "stream",
       "stream": "stdout",
       "text": [
        "5\n"
       ]
      }
     ],
     "prompt_number": 15
    },
    {
     "cell_type": "code",
     "collapsed": false,
     "input": [
      "print str(2) + \"3\""
     ],
     "language": "python",
     "metadata": {},
     "outputs": [
      {
       "output_type": "stream",
       "stream": "stdout",
       "text": [
        "23\n"
       ]
      }
     ],
     "prompt_number": 17
    },
    {
     "cell_type": "markdown",
     "metadata": {},
     "source": [
      "* Variables are just names --- they don't have types"
     ]
    },
    {
     "cell_type": "code",
     "collapsed": false,
     "input": [
      "temp = 'temperature'\n",
      "print temp, type(temp)"
     ],
     "language": "python",
     "metadata": {},
     "outputs": [
      {
       "output_type": "stream",
       "stream": "stdout",
       "text": [
        "temperature <type 'str'>\n"
       ]
      }
     ],
     "prompt_number": 18
    },
    {
     "cell_type": "code",
     "collapsed": false,
     "input": [
      "temp = 37.2\n",
      "print temp, type(temp)"
     ],
     "language": "python",
     "metadata": {},
     "outputs": [
      {
       "output_type": "stream",
       "stream": "stdout",
       "text": [
        "37.2 <type 'float'>\n"
       ]
      }
     ],
     "prompt_number": 19
    },
    {
     "cell_type": "markdown",
     "metadata": {},
     "source": [
      "## Key Points\n",
      "\n",
      "-   The most commonly used data types in Python are integers (`int`),\n",
      "    floating-point numbers (`float`), and strings (`str`).\n",
      "-   Strings can start and end with either single quote (') or double\n",
      "    quote (\").\n",
      "-   Division ('/') produces an `int` result when given `int` values: one\n",
      "    or both arguments must be `float` to get a `float` result.\n",
      "-   The modulo operator ('%') produces the remainder from integer\n",
      "    division.\n",
      "-   \"Adding\" strings concatenates them, multiplying strings by numbers\n",
      "    repeats them.\n",
      "-   Strings and numbers cannot be added because the behavior is\n",
      "    ambiguous: convert one to the other type first.\n",
      "-   Variables in Python do not have types, but values do."
     ]
    }
   ],
   "metadata": {}
  }
 ]
}