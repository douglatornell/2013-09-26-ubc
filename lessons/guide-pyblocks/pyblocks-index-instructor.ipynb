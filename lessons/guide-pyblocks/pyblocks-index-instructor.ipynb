{
 "metadata": {
  "name": "pyblocks-index-instructor"
 },
 "nbformat": 3,
 "nbformat_minor": 0,
 "worksheets": [
  {
   "cells": [
    {
     "cell_type": "heading",
     "level": 1,
     "metadata": {},
     "source": [
      "Basic Programming Using Pythons: Indexing (Instructor Version)"
     ]
    },
    {
     "cell_type": "markdown",
     "metadata": {},
     "source": [
      "## Objectives\n",
      "\n",
      "-   Select single elements of a sequence using indexes.\n",
      "-   Use negative indices to select elements relative to the end of a\n",
      "    sequence.\n",
      "-   Select and operate on multiple elements of a sequence using slices.\n",
      "-   Use strides to select non-adjacent sequence elements."
     ]
    },
    {
     "cell_type": "markdown",
     "metadata": {},
     "source": [
      "## Lesson\n",
      "\n",
      "A `for` loop is one way to tell the computer to do something many times.\n",
      "Another is to tell it where to do things, and let it figure out how best\n",
      "to take action.\n",
      "\n",
      "To see how this works, let's first revisit indexing. We have seen that\n",
      "`grid[0, 1]` refers to a single block in a grid. Many other things in\n",
      "Python can be indexed as well, like strings:"
     ]
    },
    {
     "cell_type": "code",
     "collapsed": false,
     "input": [
      "print \"Darwin\"[2]"
     ],
     "language": "python",
     "metadata": {},
     "outputs": [
      {
       "output_type": "stream",
       "stream": "stdout",
       "text": [
        "r\n"
       ]
      }
     ],
     "prompt_number": 1
    },
    {
     "cell_type": "markdown",
     "metadata": {},
     "source": [
      "Here's something that *doesn't* work:"
     ]
    },
    {
     "cell_type": "code",
     "collapsed": false,
     "input": [
      "print \"Darwin\"[999]"
     ],
     "language": "python",
     "metadata": {},
     "outputs": [
      {
       "ename": "IndexError",
       "evalue": "string index out of range",
       "output_type": "pyerr",
       "traceback": [
        "\u001b[0;31m---------------------------------------------------------------------------\u001b[0m\n\u001b[0;31mIndexError\u001b[0m                                Traceback (most recent call last)",
        "\u001b[0;32m<ipython-input-2-473773823293>\u001b[0m in \u001b[0;36m<module>\u001b[0;34m()\u001b[0m\n\u001b[0;32m----> 1\u001b[0;31m \u001b[0;32mprint\u001b[0m \u001b[0;34m\"Darwin\"\u001b[0m\u001b[0;34m[\u001b[0m\u001b[0;36m999\u001b[0m\u001b[0;34m]\u001b[0m\u001b[0;34m\u001b[0m\u001b[0m\n\u001b[0m",
        "\u001b[0;31mIndexError\u001b[0m: string index out of range"
       ]
      }
     ],
     "prompt_number": 2
    },
    {
     "cell_type": "markdown",
     "metadata": {},
     "source": [
      "The string `\"Darwin\"` only has six characters, so `\"Darwin\"[999]`\n",
      "doesn't exist. Rather than giving us some default value such as a blank\n",
      "or the empty string, Python considers this an error. The reasoning is\n",
      "the same as that given [earlier](#a:creating-variables): if we haven't\n",
      "defined a value, our program shouldn't guess what we might have wanted.\n",
      "\n",
      "Given that, you might be surprised to learn that Python actually lets\n",
      "use use negative indices:"
     ]
    },
    {
     "cell_type": "code",
     "collapsed": false,
     "input": [
      "print \"Darwin\"[-1]"
     ],
     "language": "python",
     "metadata": {},
     "outputs": [
      {
       "output_type": "stream",
       "stream": "stdout",
       "text": [
        "n\n"
       ]
      }
     ],
     "prompt_number": 3
    },
    {
     "cell_type": "markdown",
     "metadata": {},
     "source": [
      "As the diagram below shows, these count backwards from the end of the string."
     ]
    },
    {
     "cell_type": "markdown",
     "metadata": {},
     "source": [
      "FIXME: diagram"
     ]
    },
    {
     "cell_type": "markdown",
     "metadata": {},
     "source": [
      "Negative indices aren't actually necessary: if we want to get\n",
      "the last element of the string referred to by the variable `thing`, we\n",
      "can always write:"
     ]
    },
    {
     "cell_type": "markdown",
     "metadata": {},
     "source": [
      "    thing[len(thing) - 1]"
     ]
    },
    {
     "cell_type": "markdown",
     "metadata": {},
     "source": [
      "However, this is harder both to type and to read."
     ]
    },
    {
     "cell_type": "markdown",
     "metadata": {},
     "source": [
      "All of the indices we have seen so far have specified single items, such\n",
      "as a single cell in an image grid or a single character, but that\n",
      "doesn't have to be the case. We can instead specify ranges of values,\n",
      "also called a [slice](glossary.html#slice).\n",
      "Slices are written as `[lower:upper]`. Python interprets them according\n",
      "to the following rules:\n",
      "\n",
      "-   A slice runs from its lower bound up to, but not including, its\n",
      "    upper bound, so that the total number of elements selected is\n",
      "    upper-lower. (In mathematical terms, a slice is either \"half open\"\n",
      "    or \"half closed\".)\n",
      "-   This means that a slice whose lower and upper bounds are the same,\n",
      "    like `[5:5]`, selects nothing. It also means that if the upper bound\n",
      "    is less than the lower bound, as in `[5:2]`, nothing is selected as\n",
      "    well.\n",
      "-   Slices are more lenient than single indices: if one of the bounds is\n",
      "    out of range, it is treated as being 0 or the length of the object,\n",
      "    so that `name[5:999]` is legal even when there are only 11\n",
      "    characters in `name`. Some of us think this inconsistency is a bug;\n",
      "    others think it is a useful feature.\n",
      "-   Negative indices count backward as always, so `name[5:-1]` goes from\n",
      "    the fifth character up to, but not including, the last character.\n",
      "-   As a result, `thing[1:-1]` is everything in `thing` except the first\n",
      "    and last element. This is often useful in scientific programming\n",
      "    when we want to select the interior of a range of values.\n",
      "-   If we omit the lower bound, it defaults to 0; if we omit the upper,\n",
      "    it defaults to the length of the thing we're slicing. Thus,\n",
      "    `name[:6]` is the same as `name[0:6]` and `name[6:]` is the same as\n",
      "    `name[6:len(name)]`.\n",
      "-   So by extension, if we omit both bounds, we simply select the entire\n",
      "    thing.\n",
      "\n",
      "Here are a few examples."
     ]
    },
    {
     "cell_type": "code",
     "collapsed": false,
     "input": [
      "name = \"Alan Turing\"\n",
      "print name[3:8]"
     ],
     "language": "python",
     "metadata": {},
     "outputs": [
      {
       "output_type": "stream",
       "stream": "stdout",
       "text": [
        "n Tur\n"
       ]
      }
     ],
     "prompt_number": 4
    },
    {
     "cell_type": "code",
     "collapsed": false,
     "input": [
      "print name[5:5]"
     ],
     "language": "python",
     "metadata": {},
     "outputs": [
      {
       "output_type": "stream",
       "stream": "stdout",
       "text": [
        "\n"
       ]
      }
     ],
     "prompt_number": 5
    },
    {
     "cell_type": "code",
     "collapsed": false,
     "input": [
      "print name[5:2]"
     ],
     "language": "python",
     "metadata": {},
     "outputs": [
      {
       "output_type": "stream",
       "stream": "stdout",
       "text": [
        "\n"
       ]
      }
     ],
     "prompt_number": 6
    },
    {
     "cell_type": "code",
     "collapsed": false,
     "input": [
      "print name[5:999]"
     ],
     "language": "python",
     "metadata": {},
     "outputs": [
      {
       "output_type": "stream",
       "stream": "stdout",
       "text": [
        "Turing\n"
       ]
      }
     ],
     "prompt_number": 7
    },
    {
     "cell_type": "code",
     "collapsed": false,
     "input": [
      "print name[5:-1]"
     ],
     "language": "python",
     "metadata": {},
     "outputs": [
      {
       "output_type": "stream",
       "stream": "stdout",
       "text": [
        "Turin\n"
       ]
      }
     ],
     "prompt_number": 8
    },
    {
     "cell_type": "code",
     "collapsed": false,
     "input": [
      "print name[1:-1]"
     ],
     "language": "python",
     "metadata": {},
     "outputs": [
      {
       "output_type": "stream",
       "stream": "stdout",
       "text": [
        "lan Turin\n"
       ]
      }
     ],
     "prompt_number": 9
    },
    {
     "cell_type": "code",
     "collapsed": false,
     "input": [
      "print name[:6]"
     ],
     "language": "python",
     "metadata": {},
     "outputs": [
      {
       "output_type": "stream",
       "stream": "stdout",
       "text": [
        "Alan T\n"
       ]
      }
     ],
     "prompt_number": 10
    },
    {
     "cell_type": "code",
     "collapsed": false,
     "input": [
      "print name[6:]"
     ],
     "language": "python",
     "metadata": {},
     "outputs": [
      {
       "output_type": "stream",
       "stream": "stdout",
       "text": [
        "uring\n"
       ]
      }
     ],
     "prompt_number": 11
    },
    {
     "cell_type": "code",
     "collapsed": false,
     "input": [
      "print name[:]"
     ],
     "language": "python",
     "metadata": {},
     "outputs": [
      {
       "output_type": "stream",
       "stream": "stdout",
       "text": [
        "Alan Turing\n"
       ]
      }
     ],
     "prompt_number": 12
    },
    {
     "cell_type": "markdown",
     "metadata": {},
     "source": [
      "Slices work in two dimensions as well as one. To see this, let's create\n",
      "a grid and then change the color of the upper left corner:"
     ]
    },
    {
     "cell_type": "code",
     "collapsed": false,
     "input": [
      "from ipythonblocks import ImageGrid\n",
      "grid = ImageGrid(5, 5)\n",
      "grid[0:3, 0:3] = (255, 0, 128)\n",
      "grid.show()"
     ],
     "language": "python",
     "metadata": {},
     "outputs": [
      {
       "html": [
        "<style type=\"text/css\">table.blockgrid {border: none;} .blockgrid tr {border: none;} .blockgrid td {padding: 0px;} #blocks8e0bbf6c-21ae-41ec-a5ca-3ffd441e106b td {border: 1px solid white;}</style><table id=\"blocks8e0bbf6c-21ae-41ec-a5ca-3ffd441e106b\" class=\"blockgrid\"><tbody><tr><td title=\"Index: [0, 4]&#10;Color: (0, 0, 0)\" style=\"width: 20px; height: 20px;background-color: rgb(0, 0, 0);\"></td><td title=\"Index: [1, 4]&#10;Color: (0, 0, 0)\" style=\"width: 20px; height: 20px;background-color: rgb(0, 0, 0);\"></td><td title=\"Index: [2, 4]&#10;Color: (0, 0, 0)\" style=\"width: 20px; height: 20px;background-color: rgb(0, 0, 0);\"></td><td title=\"Index: [3, 4]&#10;Color: (0, 0, 0)\" style=\"width: 20px; height: 20px;background-color: rgb(0, 0, 0);\"></td><td title=\"Index: [4, 4]&#10;Color: (0, 0, 0)\" style=\"width: 20px; height: 20px;background-color: rgb(0, 0, 0);\"></td></tr><tr><td title=\"Index: [0, 3]&#10;Color: (0, 0, 0)\" style=\"width: 20px; height: 20px;background-color: rgb(0, 0, 0);\"></td><td title=\"Index: [1, 3]&#10;Color: (0, 0, 0)\" style=\"width: 20px; height: 20px;background-color: rgb(0, 0, 0);\"></td><td title=\"Index: [2, 3]&#10;Color: (0, 0, 0)\" style=\"width: 20px; height: 20px;background-color: rgb(0, 0, 0);\"></td><td title=\"Index: [3, 3]&#10;Color: (0, 0, 0)\" style=\"width: 20px; height: 20px;background-color: rgb(0, 0, 0);\"></td><td title=\"Index: [4, 3]&#10;Color: (0, 0, 0)\" style=\"width: 20px; height: 20px;background-color: rgb(0, 0, 0);\"></td></tr><tr><td title=\"Index: [0, 2]&#10;Color: (255, 0, 128)\" style=\"width: 20px; height: 20px;background-color: rgb(255, 0, 128);\"></td><td title=\"Index: [1, 2]&#10;Color: (255, 0, 128)\" style=\"width: 20px; height: 20px;background-color: rgb(255, 0, 128);\"></td><td title=\"Index: [2, 2]&#10;Color: (255, 0, 128)\" style=\"width: 20px; height: 20px;background-color: rgb(255, 0, 128);\"></td><td title=\"Index: [3, 2]&#10;Color: (0, 0, 0)\" style=\"width: 20px; height: 20px;background-color: rgb(0, 0, 0);\"></td><td title=\"Index: [4, 2]&#10;Color: (0, 0, 0)\" style=\"width: 20px; height: 20px;background-color: rgb(0, 0, 0);\"></td></tr><tr><td title=\"Index: [0, 1]&#10;Color: (255, 0, 128)\" style=\"width: 20px; height: 20px;background-color: rgb(255, 0, 128);\"></td><td title=\"Index: [1, 1]&#10;Color: (255, 0, 128)\" style=\"width: 20px; height: 20px;background-color: rgb(255, 0, 128);\"></td><td title=\"Index: [2, 1]&#10;Color: (255, 0, 128)\" style=\"width: 20px; height: 20px;background-color: rgb(255, 0, 128);\"></td><td title=\"Index: [3, 1]&#10;Color: (0, 0, 0)\" style=\"width: 20px; height: 20px;background-color: rgb(0, 0, 0);\"></td><td title=\"Index: [4, 1]&#10;Color: (0, 0, 0)\" style=\"width: 20px; height: 20px;background-color: rgb(0, 0, 0);\"></td></tr><tr><td title=\"Index: [0, 0]&#10;Color: (255, 0, 128)\" style=\"width: 20px; height: 20px;background-color: rgb(255, 0, 128);\"></td><td title=\"Index: [1, 0]&#10;Color: (255, 0, 128)\" style=\"width: 20px; height: 20px;background-color: rgb(255, 0, 128);\"></td><td title=\"Index: [2, 0]&#10;Color: (255, 0, 128)\" style=\"width: 20px; height: 20px;background-color: rgb(255, 0, 128);\"></td><td title=\"Index: [3, 0]&#10;Color: (0, 0, 0)\" style=\"width: 20px; height: 20px;background-color: rgb(0, 0, 0);\"></td><td title=\"Index: [4, 0]&#10;Color: (0, 0, 0)\" style=\"width: 20px; height: 20px;background-color: rgb(0, 0, 0);\"></td></tr></tbody></table>"
       ],
       "output_type": "display_data",
       "text": [
        "<IPython.core.display.HTML at 0x100442b50>"
       ]
      }
     ],
     "prompt_number": 1
    },
    {
     "cell_type": "markdown",
     "metadata": {},
     "source": [
      "As this example shows, the slices in each dimension are combined to\n",
      "select a range of elements. Assigning to that range then changes the\n",
      "color of all those elements at once."
     ]
    },
    {
     "cell_type": "markdown",
     "metadata": {},
     "source": [
      "By default, a slice selects every value between its bounds. We can\n",
      "optionally provide a [stride](glossary.html#stride) to select\n",
      "regularly-spaced elements instead:"
     ]
    },
    {
     "cell_type": "code",
     "collapsed": false,
     "input": [
      "grid = ImageGrid(8, 8, fill=(255, 128, 0))\n",
      "grid[0:8:3, :] = (0, 128, 255)\n",
      "grid.show()"
     ],
     "language": "python",
     "metadata": {},
     "outputs": [
      {
       "html": [
        "<style type=\"text/css\">table.blockgrid {border: none;} .blockgrid tr {border: none;} .blockgrid td {padding: 0px;} #blocks5a743dc9-f075-4e87-a4a7-4ad8aa03604c td {border: 1px solid white;}</style><table id=\"blocks5a743dc9-f075-4e87-a4a7-4ad8aa03604c\" class=\"blockgrid\"><tbody><tr><td title=\"Index: [0, 7]&#10;Color: (0, 128, 255)\" style=\"width: 20px; height: 20px;background-color: rgb(0, 128, 255);\"></td><td title=\"Index: [1, 7]&#10;Color: (255, 128, 0)\" style=\"width: 20px; height: 20px;background-color: rgb(255, 128, 0);\"></td><td title=\"Index: [2, 7]&#10;Color: (255, 128, 0)\" style=\"width: 20px; height: 20px;background-color: rgb(255, 128, 0);\"></td><td title=\"Index: [3, 7]&#10;Color: (0, 128, 255)\" style=\"width: 20px; height: 20px;background-color: rgb(0, 128, 255);\"></td><td title=\"Index: [4, 7]&#10;Color: (255, 128, 0)\" style=\"width: 20px; height: 20px;background-color: rgb(255, 128, 0);\"></td><td title=\"Index: [5, 7]&#10;Color: (255, 128, 0)\" style=\"width: 20px; height: 20px;background-color: rgb(255, 128, 0);\"></td><td title=\"Index: [6, 7]&#10;Color: (0, 128, 255)\" style=\"width: 20px; height: 20px;background-color: rgb(0, 128, 255);\"></td><td title=\"Index: [7, 7]&#10;Color: (255, 128, 0)\" style=\"width: 20px; height: 20px;background-color: rgb(255, 128, 0);\"></td></tr><tr><td title=\"Index: [0, 6]&#10;Color: (0, 128, 255)\" style=\"width: 20px; height: 20px;background-color: rgb(0, 128, 255);\"></td><td title=\"Index: [1, 6]&#10;Color: (255, 128, 0)\" style=\"width: 20px; height: 20px;background-color: rgb(255, 128, 0);\"></td><td title=\"Index: [2, 6]&#10;Color: (255, 128, 0)\" style=\"width: 20px; height: 20px;background-color: rgb(255, 128, 0);\"></td><td title=\"Index: [3, 6]&#10;Color: (0, 128, 255)\" style=\"width: 20px; height: 20px;background-color: rgb(0, 128, 255);\"></td><td title=\"Index: [4, 6]&#10;Color: (255, 128, 0)\" style=\"width: 20px; height: 20px;background-color: rgb(255, 128, 0);\"></td><td title=\"Index: [5, 6]&#10;Color: (255, 128, 0)\" style=\"width: 20px; height: 20px;background-color: rgb(255, 128, 0);\"></td><td title=\"Index: [6, 6]&#10;Color: (0, 128, 255)\" style=\"width: 20px; height: 20px;background-color: rgb(0, 128, 255);\"></td><td title=\"Index: [7, 6]&#10;Color: (255, 128, 0)\" style=\"width: 20px; height: 20px;background-color: rgb(255, 128, 0);\"></td></tr><tr><td title=\"Index: [0, 5]&#10;Color: (0, 128, 255)\" style=\"width: 20px; height: 20px;background-color: rgb(0, 128, 255);\"></td><td title=\"Index: [1, 5]&#10;Color: (255, 128, 0)\" style=\"width: 20px; height: 20px;background-color: rgb(255, 128, 0);\"></td><td title=\"Index: [2, 5]&#10;Color: (255, 128, 0)\" style=\"width: 20px; height: 20px;background-color: rgb(255, 128, 0);\"></td><td title=\"Index: [3, 5]&#10;Color: (0, 128, 255)\" style=\"width: 20px; height: 20px;background-color: rgb(0, 128, 255);\"></td><td title=\"Index: [4, 5]&#10;Color: (255, 128, 0)\" style=\"width: 20px; height: 20px;background-color: rgb(255, 128, 0);\"></td><td title=\"Index: [5, 5]&#10;Color: (255, 128, 0)\" style=\"width: 20px; height: 20px;background-color: rgb(255, 128, 0);\"></td><td title=\"Index: [6, 5]&#10;Color: (0, 128, 255)\" style=\"width: 20px; height: 20px;background-color: rgb(0, 128, 255);\"></td><td title=\"Index: [7, 5]&#10;Color: (255, 128, 0)\" style=\"width: 20px; height: 20px;background-color: rgb(255, 128, 0);\"></td></tr><tr><td title=\"Index: [0, 4]&#10;Color: (0, 128, 255)\" style=\"width: 20px; height: 20px;background-color: rgb(0, 128, 255);\"></td><td title=\"Index: [1, 4]&#10;Color: (255, 128, 0)\" style=\"width: 20px; height: 20px;background-color: rgb(255, 128, 0);\"></td><td title=\"Index: [2, 4]&#10;Color: (255, 128, 0)\" style=\"width: 20px; height: 20px;background-color: rgb(255, 128, 0);\"></td><td title=\"Index: [3, 4]&#10;Color: (0, 128, 255)\" style=\"width: 20px; height: 20px;background-color: rgb(0, 128, 255);\"></td><td title=\"Index: [4, 4]&#10;Color: (255, 128, 0)\" style=\"width: 20px; height: 20px;background-color: rgb(255, 128, 0);\"></td><td title=\"Index: [5, 4]&#10;Color: (255, 128, 0)\" style=\"width: 20px; height: 20px;background-color: rgb(255, 128, 0);\"></td><td title=\"Index: [6, 4]&#10;Color: (0, 128, 255)\" style=\"width: 20px; height: 20px;background-color: rgb(0, 128, 255);\"></td><td title=\"Index: [7, 4]&#10;Color: (255, 128, 0)\" style=\"width: 20px; height: 20px;background-color: rgb(255, 128, 0);\"></td></tr><tr><td title=\"Index: [0, 3]&#10;Color: (0, 128, 255)\" style=\"width: 20px; height: 20px;background-color: rgb(0, 128, 255);\"></td><td title=\"Index: [1, 3]&#10;Color: (255, 128, 0)\" style=\"width: 20px; height: 20px;background-color: rgb(255, 128, 0);\"></td><td title=\"Index: [2, 3]&#10;Color: (255, 128, 0)\" style=\"width: 20px; height: 20px;background-color: rgb(255, 128, 0);\"></td><td title=\"Index: [3, 3]&#10;Color: (0, 128, 255)\" style=\"width: 20px; height: 20px;background-color: rgb(0, 128, 255);\"></td><td title=\"Index: [4, 3]&#10;Color: (255, 128, 0)\" style=\"width: 20px; height: 20px;background-color: rgb(255, 128, 0);\"></td><td title=\"Index: [5, 3]&#10;Color: (255, 128, 0)\" style=\"width: 20px; height: 20px;background-color: rgb(255, 128, 0);\"></td><td title=\"Index: [6, 3]&#10;Color: (0, 128, 255)\" style=\"width: 20px; height: 20px;background-color: rgb(0, 128, 255);\"></td><td title=\"Index: [7, 3]&#10;Color: (255, 128, 0)\" style=\"width: 20px; height: 20px;background-color: rgb(255, 128, 0);\"></td></tr><tr><td title=\"Index: [0, 2]&#10;Color: (0, 128, 255)\" style=\"width: 20px; height: 20px;background-color: rgb(0, 128, 255);\"></td><td title=\"Index: [1, 2]&#10;Color: (255, 128, 0)\" style=\"width: 20px; height: 20px;background-color: rgb(255, 128, 0);\"></td><td title=\"Index: [2, 2]&#10;Color: (255, 128, 0)\" style=\"width: 20px; height: 20px;background-color: rgb(255, 128, 0);\"></td><td title=\"Index: [3, 2]&#10;Color: (0, 128, 255)\" style=\"width: 20px; height: 20px;background-color: rgb(0, 128, 255);\"></td><td title=\"Index: [4, 2]&#10;Color: (255, 128, 0)\" style=\"width: 20px; height: 20px;background-color: rgb(255, 128, 0);\"></td><td title=\"Index: [5, 2]&#10;Color: (255, 128, 0)\" style=\"width: 20px; height: 20px;background-color: rgb(255, 128, 0);\"></td><td title=\"Index: [6, 2]&#10;Color: (0, 128, 255)\" style=\"width: 20px; height: 20px;background-color: rgb(0, 128, 255);\"></td><td title=\"Index: [7, 2]&#10;Color: (255, 128, 0)\" style=\"width: 20px; height: 20px;background-color: rgb(255, 128, 0);\"></td></tr><tr><td title=\"Index: [0, 1]&#10;Color: (0, 128, 255)\" style=\"width: 20px; height: 20px;background-color: rgb(0, 128, 255);\"></td><td title=\"Index: [1, 1]&#10;Color: (255, 128, 0)\" style=\"width: 20px; height: 20px;background-color: rgb(255, 128, 0);\"></td><td title=\"Index: [2, 1]&#10;Color: (255, 128, 0)\" style=\"width: 20px; height: 20px;background-color: rgb(255, 128, 0);\"></td><td title=\"Index: [3, 1]&#10;Color: (0, 128, 255)\" style=\"width: 20px; height: 20px;background-color: rgb(0, 128, 255);\"></td><td title=\"Index: [4, 1]&#10;Color: (255, 128, 0)\" style=\"width: 20px; height: 20px;background-color: rgb(255, 128, 0);\"></td><td title=\"Index: [5, 1]&#10;Color: (255, 128, 0)\" style=\"width: 20px; height: 20px;background-color: rgb(255, 128, 0);\"></td><td title=\"Index: [6, 1]&#10;Color: (0, 128, 255)\" style=\"width: 20px; height: 20px;background-color: rgb(0, 128, 255);\"></td><td title=\"Index: [7, 1]&#10;Color: (255, 128, 0)\" style=\"width: 20px; height: 20px;background-color: rgb(255, 128, 0);\"></td></tr><tr><td title=\"Index: [0, 0]&#10;Color: (0, 128, 255)\" style=\"width: 20px; height: 20px;background-color: rgb(0, 128, 255);\"></td><td title=\"Index: [1, 0]&#10;Color: (255, 128, 0)\" style=\"width: 20px; height: 20px;background-color: rgb(255, 128, 0);\"></td><td title=\"Index: [2, 0]&#10;Color: (255, 128, 0)\" style=\"width: 20px; height: 20px;background-color: rgb(255, 128, 0);\"></td><td title=\"Index: [3, 0]&#10;Color: (0, 128, 255)\" style=\"width: 20px; height: 20px;background-color: rgb(0, 128, 255);\"></td><td title=\"Index: [4, 0]&#10;Color: (255, 128, 0)\" style=\"width: 20px; height: 20px;background-color: rgb(255, 128, 0);\"></td><td title=\"Index: [5, 0]&#10;Color: (255, 128, 0)\" style=\"width: 20px; height: 20px;background-color: rgb(255, 128, 0);\"></td><td title=\"Index: [6, 0]&#10;Color: (0, 128, 255)\" style=\"width: 20px; height: 20px;background-color: rgb(0, 128, 255);\"></td><td title=\"Index: [7, 0]&#10;Color: (255, 128, 0)\" style=\"width: 20px; height: 20px;background-color: rgb(255, 128, 0);\"></td></tr></tbody></table>"
       ],
       "output_type": "display_data",
       "text": [
        "<IPython.core.display.HTML at 0x102f00e10>"
       ]
      }
     ],
     "prompt_number": 17
    },
    {
     "cell_type": "code",
     "collapsed": false,
     "input": [
      "grid[:, ::2] = (255, 0, 128)\n",
      "grid.show()"
     ],
     "language": "python",
     "metadata": {},
     "outputs": [
      {
       "html": [
        "<style type=\"text/css\">table.blockgrid {border: none;} .blockgrid tr {border: none;} .blockgrid td {padding: 0px;} #blocks847c6440-72cd-4cd8-a10d-4ef490fadc5f td {border: 1px solid white;}</style><table id=\"blocks847c6440-72cd-4cd8-a10d-4ef490fadc5f\" class=\"blockgrid\"><tbody><tr><td title=\"Index: [0, 7]&#10;Color: (0, 128, 255)\" style=\"width: 20px; height: 20px;background-color: rgb(0, 128, 255);\"></td><td title=\"Index: [1, 7]&#10;Color: (255, 128, 0)\" style=\"width: 20px; height: 20px;background-color: rgb(255, 128, 0);\"></td><td title=\"Index: [2, 7]&#10;Color: (255, 128, 0)\" style=\"width: 20px; height: 20px;background-color: rgb(255, 128, 0);\"></td><td title=\"Index: [3, 7]&#10;Color: (0, 128, 255)\" style=\"width: 20px; height: 20px;background-color: rgb(0, 128, 255);\"></td><td title=\"Index: [4, 7]&#10;Color: (255, 128, 0)\" style=\"width: 20px; height: 20px;background-color: rgb(255, 128, 0);\"></td><td title=\"Index: [5, 7]&#10;Color: (255, 128, 0)\" style=\"width: 20px; height: 20px;background-color: rgb(255, 128, 0);\"></td><td title=\"Index: [6, 7]&#10;Color: (0, 128, 255)\" style=\"width: 20px; height: 20px;background-color: rgb(0, 128, 255);\"></td><td title=\"Index: [7, 7]&#10;Color: (255, 128, 0)\" style=\"width: 20px; height: 20px;background-color: rgb(255, 128, 0);\"></td></tr><tr><td title=\"Index: [0, 6]&#10;Color: (255, 0, 128)\" style=\"width: 20px; height: 20px;background-color: rgb(255, 0, 128);\"></td><td title=\"Index: [1, 6]&#10;Color: (255, 0, 128)\" style=\"width: 20px; height: 20px;background-color: rgb(255, 0, 128);\"></td><td title=\"Index: [2, 6]&#10;Color: (255, 0, 128)\" style=\"width: 20px; height: 20px;background-color: rgb(255, 0, 128);\"></td><td title=\"Index: [3, 6]&#10;Color: (255, 0, 128)\" style=\"width: 20px; height: 20px;background-color: rgb(255, 0, 128);\"></td><td title=\"Index: [4, 6]&#10;Color: (255, 0, 128)\" style=\"width: 20px; height: 20px;background-color: rgb(255, 0, 128);\"></td><td title=\"Index: [5, 6]&#10;Color: (255, 0, 128)\" style=\"width: 20px; height: 20px;background-color: rgb(255, 0, 128);\"></td><td title=\"Index: [6, 6]&#10;Color: (255, 0, 128)\" style=\"width: 20px; height: 20px;background-color: rgb(255, 0, 128);\"></td><td title=\"Index: [7, 6]&#10;Color: (255, 0, 128)\" style=\"width: 20px; height: 20px;background-color: rgb(255, 0, 128);\"></td></tr><tr><td title=\"Index: [0, 5]&#10;Color: (0, 128, 255)\" style=\"width: 20px; height: 20px;background-color: rgb(0, 128, 255);\"></td><td title=\"Index: [1, 5]&#10;Color: (255, 128, 0)\" style=\"width: 20px; height: 20px;background-color: rgb(255, 128, 0);\"></td><td title=\"Index: [2, 5]&#10;Color: (255, 128, 0)\" style=\"width: 20px; height: 20px;background-color: rgb(255, 128, 0);\"></td><td title=\"Index: [3, 5]&#10;Color: (0, 128, 255)\" style=\"width: 20px; height: 20px;background-color: rgb(0, 128, 255);\"></td><td title=\"Index: [4, 5]&#10;Color: (255, 128, 0)\" style=\"width: 20px; height: 20px;background-color: rgb(255, 128, 0);\"></td><td title=\"Index: [5, 5]&#10;Color: (255, 128, 0)\" style=\"width: 20px; height: 20px;background-color: rgb(255, 128, 0);\"></td><td title=\"Index: [6, 5]&#10;Color: (0, 128, 255)\" style=\"width: 20px; height: 20px;background-color: rgb(0, 128, 255);\"></td><td title=\"Index: [7, 5]&#10;Color: (255, 128, 0)\" style=\"width: 20px; height: 20px;background-color: rgb(255, 128, 0);\"></td></tr><tr><td title=\"Index: [0, 4]&#10;Color: (255, 0, 128)\" style=\"width: 20px; height: 20px;background-color: rgb(255, 0, 128);\"></td><td title=\"Index: [1, 4]&#10;Color: (255, 0, 128)\" style=\"width: 20px; height: 20px;background-color: rgb(255, 0, 128);\"></td><td title=\"Index: [2, 4]&#10;Color: (255, 0, 128)\" style=\"width: 20px; height: 20px;background-color: rgb(255, 0, 128);\"></td><td title=\"Index: [3, 4]&#10;Color: (255, 0, 128)\" style=\"width: 20px; height: 20px;background-color: rgb(255, 0, 128);\"></td><td title=\"Index: [4, 4]&#10;Color: (255, 0, 128)\" style=\"width: 20px; height: 20px;background-color: rgb(255, 0, 128);\"></td><td title=\"Index: [5, 4]&#10;Color: (255, 0, 128)\" style=\"width: 20px; height: 20px;background-color: rgb(255, 0, 128);\"></td><td title=\"Index: [6, 4]&#10;Color: (255, 0, 128)\" style=\"width: 20px; height: 20px;background-color: rgb(255, 0, 128);\"></td><td title=\"Index: [7, 4]&#10;Color: (255, 0, 128)\" style=\"width: 20px; height: 20px;background-color: rgb(255, 0, 128);\"></td></tr><tr><td title=\"Index: [0, 3]&#10;Color: (0, 128, 255)\" style=\"width: 20px; height: 20px;background-color: rgb(0, 128, 255);\"></td><td title=\"Index: [1, 3]&#10;Color: (255, 128, 0)\" style=\"width: 20px; height: 20px;background-color: rgb(255, 128, 0);\"></td><td title=\"Index: [2, 3]&#10;Color: (255, 128, 0)\" style=\"width: 20px; height: 20px;background-color: rgb(255, 128, 0);\"></td><td title=\"Index: [3, 3]&#10;Color: (0, 128, 255)\" style=\"width: 20px; height: 20px;background-color: rgb(0, 128, 255);\"></td><td title=\"Index: [4, 3]&#10;Color: (255, 128, 0)\" style=\"width: 20px; height: 20px;background-color: rgb(255, 128, 0);\"></td><td title=\"Index: [5, 3]&#10;Color: (255, 128, 0)\" style=\"width: 20px; height: 20px;background-color: rgb(255, 128, 0);\"></td><td title=\"Index: [6, 3]&#10;Color: (0, 128, 255)\" style=\"width: 20px; height: 20px;background-color: rgb(0, 128, 255);\"></td><td title=\"Index: [7, 3]&#10;Color: (255, 128, 0)\" style=\"width: 20px; height: 20px;background-color: rgb(255, 128, 0);\"></td></tr><tr><td title=\"Index: [0, 2]&#10;Color: (255, 0, 128)\" style=\"width: 20px; height: 20px;background-color: rgb(255, 0, 128);\"></td><td title=\"Index: [1, 2]&#10;Color: (255, 0, 128)\" style=\"width: 20px; height: 20px;background-color: rgb(255, 0, 128);\"></td><td title=\"Index: [2, 2]&#10;Color: (255, 0, 128)\" style=\"width: 20px; height: 20px;background-color: rgb(255, 0, 128);\"></td><td title=\"Index: [3, 2]&#10;Color: (255, 0, 128)\" style=\"width: 20px; height: 20px;background-color: rgb(255, 0, 128);\"></td><td title=\"Index: [4, 2]&#10;Color: (255, 0, 128)\" style=\"width: 20px; height: 20px;background-color: rgb(255, 0, 128);\"></td><td title=\"Index: [5, 2]&#10;Color: (255, 0, 128)\" style=\"width: 20px; height: 20px;background-color: rgb(255, 0, 128);\"></td><td title=\"Index: [6, 2]&#10;Color: (255, 0, 128)\" style=\"width: 20px; height: 20px;background-color: rgb(255, 0, 128);\"></td><td title=\"Index: [7, 2]&#10;Color: (255, 0, 128)\" style=\"width: 20px; height: 20px;background-color: rgb(255, 0, 128);\"></td></tr><tr><td title=\"Index: [0, 1]&#10;Color: (0, 128, 255)\" style=\"width: 20px; height: 20px;background-color: rgb(0, 128, 255);\"></td><td title=\"Index: [1, 1]&#10;Color: (255, 128, 0)\" style=\"width: 20px; height: 20px;background-color: rgb(255, 128, 0);\"></td><td title=\"Index: [2, 1]&#10;Color: (255, 128, 0)\" style=\"width: 20px; height: 20px;background-color: rgb(255, 128, 0);\"></td><td title=\"Index: [3, 1]&#10;Color: (0, 128, 255)\" style=\"width: 20px; height: 20px;background-color: rgb(0, 128, 255);\"></td><td title=\"Index: [4, 1]&#10;Color: (255, 128, 0)\" style=\"width: 20px; height: 20px;background-color: rgb(255, 128, 0);\"></td><td title=\"Index: [5, 1]&#10;Color: (255, 128, 0)\" style=\"width: 20px; height: 20px;background-color: rgb(255, 128, 0);\"></td><td title=\"Index: [6, 1]&#10;Color: (0, 128, 255)\" style=\"width: 20px; height: 20px;background-color: rgb(0, 128, 255);\"></td><td title=\"Index: [7, 1]&#10;Color: (255, 128, 0)\" style=\"width: 20px; height: 20px;background-color: rgb(255, 128, 0);\"></td></tr><tr><td title=\"Index: [0, 0]&#10;Color: (255, 0, 128)\" style=\"width: 20px; height: 20px;background-color: rgb(255, 0, 128);\"></td><td title=\"Index: [1, 0]&#10;Color: (255, 0, 128)\" style=\"width: 20px; height: 20px;background-color: rgb(255, 0, 128);\"></td><td title=\"Index: [2, 0]&#10;Color: (255, 0, 128)\" style=\"width: 20px; height: 20px;background-color: rgb(255, 0, 128);\"></td><td title=\"Index: [3, 0]&#10;Color: (255, 0, 128)\" style=\"width: 20px; height: 20px;background-color: rgb(255, 0, 128);\"></td><td title=\"Index: [4, 0]&#10;Color: (255, 0, 128)\" style=\"width: 20px; height: 20px;background-color: rgb(255, 0, 128);\"></td><td title=\"Index: [5, 0]&#10;Color: (255, 0, 128)\" style=\"width: 20px; height: 20px;background-color: rgb(255, 0, 128);\"></td><td title=\"Index: [6, 0]&#10;Color: (255, 0, 128)\" style=\"width: 20px; height: 20px;background-color: rgb(255, 0, 128);\"></td><td title=\"Index: [7, 0]&#10;Color: (255, 0, 128)\" style=\"width: 20px; height: 20px;background-color: rgb(255, 0, 128);\"></td></tr></tbody></table>"
       ],
       "output_type": "display_data",
       "text": [
        "<IPython.core.display.HTML at 0x102b85410>"
       ]
      }
     ],
     "prompt_number": 19
    },
    {
     "cell_type": "markdown",
     "metadata": {},
     "source": [
      "Slicing is an example of [declarative programming](glossary.html#declarative-programming). Instead of telling\n",
      "the computer *how* to do something, we tell it *what* to do, and let it\n",
      "figure out what steps to take to achieve that goal. Behind the scenes,\n",
      "the computer might use a `for` loop to re-color each block in the grid.\n",
      "It might also use some of the advanced features of the CPU to change\n",
      "several blocks simultaneously, or distribute the work between different\n",
      "CPUs if we have a powerful enough machine. We don't need to know: we\n",
      "just need to know that the right thing will happen, and that we can\n",
      "spend our time worrying about more important things."
     ]
    },
    {
     "cell_type": "markdown",
     "metadata": {},
     "source": [
      "## Key Points\n",
      "\n",
      "-   The index of the first element of a collection is 0; the index of\n",
      "    the last element is `len(list)-1`.\n",
      "-   Negative indices count backward from the end of the collection, so\n",
      "    `thing[-1]` is the last element.\n",
      "-   Trying to access an element with an out-of-bounds index is an error.\n",
      "-   Use a slice to select multiple elements.\n",
      "-   Provide a stride to select regularly-spaced elements."
     ]
    }
   ],
   "metadata": {}
  }
 ]
}