{
 "metadata": {
  "name": "pyblocks-scope-instructor"
 },
 "nbformat": 3,
 "nbformat_minor": 0,
 "worksheets": [
  {
   "cells": [
    {
     "cell_type": "heading",
     "level": 1,
     "metadata": {},
     "source": [
      "Basic Programming Using Python: Scope (Instructor Version)"
     ]
    },
    {
     "cell_type": "markdown",
     "metadata": {},
     "source": [
      "## Objectives\n",
      "\n",
      "-   Explain what a call stack and a stack frame are.\n",
      "-   Correctly trace the execution of individual and nested function calls.\n",
      "-   Correctly identify the scope of a variable in a program.\n",
      "-   Explain what global scope is, and how it differs from local scope."
     ]
    },
    {
     "cell_type": "markdown",
     "metadata": {},
     "source": [
      "## Lesson\n",
      "\n",
      "If one function is good, two must be better. Let's write a function to\n",
      "convert Kelvin to Celsius:"
     ]
    },
    {
     "cell_type": "code",
     "collapsed": false,
     "input": [
      "def kelvin_to_celsius(temp):\n",
      "    return temp - 273.15\n",
      "\n",
      "print 'absolute zero is', kelvin_to_celsius(0)"
     ],
     "language": "python",
     "metadata": {},
     "outputs": [
      {
       "output_type": "stream",
       "stream": "stdout",
       "text": [
        "absolute zero is -273.15\n"
       ]
      }
     ],
     "prompt_number": 3
    },
    {
     "cell_type": "markdown",
     "metadata": {},
     "source": [
      "Instead of writing a third equation to translate Fahrenheit into\n",
      "Celsius, we can now combine the two functions we have to do the required\n",
      "calculation:"
     ]
    },
    {
     "cell_type": "code",
     "collapsed": false,
     "input": [
      "def fahr_to_kelvin(temp):\n",
      "    return ((temp - 32.0) * 5.0/9.0) + 273.15\n",
      "\n",
      "def fahr_to_celsius(temp):\n",
      "    degrees_k = fahr_to_kelvin(temp)\n",
      "    return kelvin_to_celsius(degrees_k)\n",
      "\n",
      "temp_f = 32.0\n",
      "temp_c = fahr_to_celsius(temp_f)\n",
      "print 'water freezes at', temp_c"
     ],
     "language": "python",
     "metadata": {},
     "outputs": [
      {
       "output_type": "stream",
       "stream": "stdout",
       "text": [
        "water freezes at 0.0\n"
       ]
      }
     ],
     "prompt_number": 4
    },
    {
     "cell_type": "markdown",
     "metadata": {},
     "source": [
      "But look closely.\n",
      "All three functions have a parameter called `temp`.\n",
      "How does Python keep track of them?\n",
      "\n",
      "To understand, and to understand what happens when we combine functions this way, we\n",
      "need to understand the [function call stack](glossary.html#call-stack).  To start,\n",
      "let's call one of the functions and print `temp`'s value after the call:"
     ]
    },
    {
     "cell_type": "code",
     "collapsed": false,
     "input": [
      "def kelvin_to_celsius(temp):\n",
      "    return temp - 273.15\n",
      "\n",
      "absolute_zero = 0.0\n",
      "result = kelvin_to_celsius(absolute_zero)\n",
      "print 'temp after function call is', temp"
     ],
     "language": "python",
     "metadata": {},
     "outputs": [
      {
       "ename": "NameError",
       "evalue": "name 'temp' is not defined",
       "output_type": "pyerr",
       "traceback": [
        "\u001b[0;31m---------------------------------------------------------------------------\u001b[0m\n\u001b[0;31mNameError\u001b[0m                                 Traceback (most recent call last)",
        "\u001b[0;32m<ipython-input-5-d95ff7f4bd2c>\u001b[0m in \u001b[0;36m<module>\u001b[0;34m()\u001b[0m\n\u001b[1;32m      4\u001b[0m \u001b[0mabsolute_zero\u001b[0m \u001b[0;34m=\u001b[0m \u001b[0;36m0.0\u001b[0m\u001b[0;34m\u001b[0m\u001b[0m\n\u001b[1;32m      5\u001b[0m \u001b[0mresult\u001b[0m \u001b[0;34m=\u001b[0m \u001b[0mkelvin_to_celsius\u001b[0m\u001b[0;34m(\u001b[0m\u001b[0mabsolute_zero\u001b[0m\u001b[0;34m)\u001b[0m\u001b[0;34m\u001b[0m\u001b[0m\n\u001b[0;32m----> 6\u001b[0;31m \u001b[0;32mprint\u001b[0m \u001b[0;34m'temp after function call is'\u001b[0m\u001b[0;34m,\u001b[0m \u001b[0mtemp\u001b[0m\u001b[0;34m\u001b[0m\u001b[0m\n\u001b[0m",
        "\u001b[0;31mNameError\u001b[0m: name 'temp' is not defined"
       ]
      },
      {
       "output_type": "stream",
       "stream": "stdout",
       "text": [
        "temp after function call is"
       ]
      }
     ],
     "prompt_number": 5
    },
    {
     "cell_type": "markdown",
     "metadata": {},
     "source": [
      "Why isn't `temp` defined? And if it isn't, why did we get an error for\n",
      "the last line of our program, rather than when we used `temp` inside\n",
      "`kelvin_to_celsius`?\n",
      "\n",
      "The answer is that Python doesn't actually create a variable called\n",
      "`temp` when the function is defined. Instead, it makes a note that it is\n",
      "supposed to create such a variable when `kelvin_to_celsius` is called,\n",
      "and then throw it away when the function finishes executing.\n",
      "\n",
      "This is easier to explain with pictures. After executing line 4 of our\n",
      "program, Python knows that `kelvin_to_celsius` refers to a function, and\n",
      "that `absolute_zero` refers to the value 0.0:"
     ]
    },
    {
     "cell_type": "markdown",
     "metadata": {},
     "source": [
      "FIXME: diagram"
     ]
    },
    {
     "cell_type": "markdown",
     "metadata": {},
     "source": [
      "The first thing it does when it executes line 5 is call\n",
      "`kelvin_to_celsius`. To do this, it creates a new storage area for\n",
      "variables and puts it on top of the one that holds `kelvin_to_celsius`\n",
      "and `absolute_zero`. Since the function has one parameter, `temp`,\n",
      "Python creates a variable with that name in the new storage area and\n",
      "gives it the value 0.0 (since that's what we passed in when we called\n",
      "the function). The program's memory is now in the state shown below:"
     ]
    },
    {
     "cell_type": "markdown",
     "metadata": {},
     "source": [
      "This variable storage area is called a [stack frame](glossary.html#stack-frame): stack, because it is stacked on top\n",
      "of the previous area, and frame, because\u2026well, just because. Every time\n",
      "a function is called\u2014any function\u2014Python creates a new frame to holds\n",
      "the function's variables and puts it on top of the stack. While it is\n",
      "executing that function's code, Python looks in the top stack frame to\n",
      "find variables; when the function returns, Python discards the top stack\n",
      "frame and starts using the one underneath it again.\n",
      "\n",
      "Since the rest of the statement on line 5 (the line containing the\n",
      "function call) assigns the function's value to `not_used`, memory looks\n",
      "like this after line 5 is finished:"
     ]
    },
    {
     "cell_type": "markdown",
     "metadata": {},
     "source": [
      "FIXME: diagram"
     ]
    },
    {
     "cell_type": "markdown",
     "metadata": {},
     "source": [
      "It should now be clear why we got the error we did, and why we got it\n",
      "*where* we did. When Python executes line 6, the uppermost frame of the\n",
      "stack doesn't contain a variable called `temp`. The frame that *did*\n",
      "contain that variable was discarded when the call to `kelvin_to_celsius`\n",
      "finished.\n",
      "\n",
      "To understand why Python (and other languages) do all of this, let's go\n",
      "back to `fahr_to_celsius` again. Its definition, and the definitions of\n",
      "the functions it calls, are:"
     ]
    },
    {
     "cell_type": "code",
     "collapsed": false,
     "input": [
      "def fahr_to_kelvin(temp):\n",
      "    return ((temp - 32.0) * 5.0/9.0) + 273.15\n",
      "\n",
      "def kelvin_to_celsius(temp):\n",
      "    return temp - 273.15\n",
      "\n",
      "def fahr_to_celsius(temp):\n",
      "    degrees_k = fahr_to_kelvin(temp)\n",
      "    return kelvin_to_celsius(degrees_k)"
     ],
     "language": "python",
     "metadata": {},
     "outputs": [
      {
       "output_type": "stream",
       "stream": "stdout",
       "text": [
        "\n"
       ]
      }
     ],
     "prompt_number": 6
    },
    {
     "cell_type": "markdown",
     "metadata": {},
     "source": [
      "These nine lines of code define the variable `temp` three times\u2014once in\n",
      "each function\u2014but those three `temp`s are *not* the same variable. The\n",
      "first `temp`, defined on line 1, is created each time `fahr_to_kelvin`\n",
      "is called, and only lasts as long as that call is in progress. In\n",
      "computer science jargon, it is [local](glossary.html#local-scope) to the\n",
      "function. Similarly, the second `temp` (on line 4) is local to\n",
      "`kelvin_to_celsius`, and the third (on line 7) to `fahr_to_celsius`.\n",
      "They only exist while the functions that own them are being executed,\n",
      "and can only be \"seen\" inside those functions.\n",
      "\n",
      "Again, some pictures will make this clearer (and it does need to be\n",
      "clear, since everything else about functions depends on this idea).\n",
      "Let's call `fahr_to_celsius` as before:"
     ]
    },
    {
     "cell_type": "code",
     "collapsed": false,
     "input": [
      "temp_f = 32.0\n",
      "temp_c = fahr_to_celsius(temp_f)\n",
      "print 'water freezes at', temp_c"
     ],
     "language": "python",
     "metadata": {},
     "outputs": [
      {
       "output_type": "stream",
       "stream": "stdout",
       "text": [
        "water freezes at 0.0\n"
       ]
      }
     ],
     "prompt_number": 7
    },
    {
     "cell_type": "markdown",
     "metadata": {},
     "source": [
      "Just before line 9 runs, the stack consists of a single frame, which\n",
      "contains the three functions and the variable `temp_f`:"
     ]
    },
    {
     "cell_type": "markdown",
     "metadata": {},
     "source": [
      "FIXME: diagram"
     ]
    },
    {
     "cell_type": "markdown",
     "metadata": {},
     "source": [
      "When we call `fahr_to_celsius`, Python creates a new stack frame\n",
      "containing the variable `temp` and assigns it the value 32.0 (which it\n",
      "got from `temp_f`). Memory is now as shown below:"
     ]
    },
    {
     "cell_type": "markdown",
     "metadata": {},
     "source": [
      "FIXME: diagram"
     ]
    },
    {
     "cell_type": "markdown",
     "metadata": {},
     "source": [
      "`fahr_to_celsius` immediately calls `fahr_to_kelvin`, so Python creates\n",
      "another stack frame to hold `fahr_to_kelvin`'s local variables. This\n",
      "frame also contains a variable called `temp`, but since it's in a\n",
      "different frame, it's a different variable than `fahr_to_celsius`'s\n",
      "`temp`:"
     ]
    },
    {
     "cell_type": "markdown",
     "metadata": {},
     "source": [
      "FIXME: diagram"
     ]
    },
    {
     "cell_type": "markdown",
     "metadata": {},
     "source": [
      "Using its `temp`, `fahr_to_kelvin` calculates a result of 273.15. When\n",
      "it returns that value, Python discards `fahr_to_kelvin`'s stack frame:"
     ]
    },
    {
     "cell_type": "markdown",
     "metadata": {},
     "source": [
      "FIXME: diagram"
     ]
    },
    {
     "cell_type": "markdown",
     "metadata": {},
     "source": [
      "and creates a new variable `degrees_k` to hold that value in what is now\n",
      "the top frame\u2014the one belonging to `fahr_to_celsius`:"
     ]
    },
    {
     "cell_type": "markdown",
     "metadata": {},
     "source": [
      "FIXME: diagram"
     ]
    },
    {
     "cell_type": "markdown",
     "metadata": {},
     "source": [
      "Python then goes through the same steps for the call to\n",
      "`kelvin_to_celsius`. It creates a stack frame with a variable `temp`,\n",
      "which it assigns the value 273.15:"
     ]
    },
    {
     "cell_type": "markdown",
     "metadata": {},
     "source": [
      "FIXME: diagram"
     ]
    },
    {
     "cell_type": "markdown",
     "metadata": {},
     "source": [
      "does its calculations, and then discards the stack frame when the\n",
      "function is finished. Since `fahr_to_celsius` is also now done, Python\n",
      "discards its stack frame, creates a variable called `temp_c` in the\n",
      "original (bottom) frame, and assigns it the value 0.0:"
     ]
    },
    {
     "cell_type": "markdown",
     "metadata": {},
     "source": [
      "Every modern programming language uses this model to manage\n",
      "calculations. Each function call creates a new stack frame with its own\n",
      "variables. While the function is running, it uses the variables in its\n",
      "own frame, and when the function call is finished, the stack frame is\n",
      "discarded.\n",
      "\n",
      "The area of the program in which a particular variable is visible is\n",
      "called its [scope](glossary.html#scope). As a rule, programming\n",
      "languages do not let functions access variables in other functions'\n",
      "scopes because doing so would make large programs almost impossible to\n",
      "write. For example, imagine we used two functions to sum the squares of\n",
      "the values in a list:"
     ]
    },
    {
     "cell_type": "code",
     "collapsed": false,
     "input": [
      "def sum(numbers):                       #  1\n",
      "    result = 0                          #  2\n",
      "    for x in numbers:                   #  3\n",
      "        result = result + square(x)     #  4\n",
      "    return result                       #  5\n",
      "                                        #  6\n",
      "def square(val):                        #  7\n",
      "    result = val * val                  #  8\n",
      "    return result                       #  9\n",
      "                                        # 10\n",
      "print sum([1, 2])                       # 11"
     ],
     "language": "python",
     "metadata": {},
     "outputs": [
      {
       "output_type": "stream",
       "stream": "stdout",
       "text": [
        "5\n"
       ]
      }
     ],
     "prompt_number": 8
    },
    {
     "cell_type": "markdown",
     "metadata": {},
     "source": [
      "We expect to get 1<sup>2</sup>+2<sup>2</sup> = 5 via the following steps:\n",
      "\n",
      "<table border=\"1\">\n",
      "<tr>\n",
      "  <th></th><th><code>sum</code></th><th><code>sum</code></th><th><code>square</code></th><th><code>square</code></th>\n",
      "</tr>\n",
      "<tr>\n",
      "  <th>Line</th><th><code>result</code></th><th><code>x</code></th><th><code>val</code></th><th><code>result</code></th>\n",
      "</tr>\n",
      "<tr>\n",
      "  <td>2</td><td>0</td><td></td><td></td><td></td>\n",
      "</tr>\n",
      "<tr>\n",
      "  <td>3</td><td>0</td><td>1</td><td></td><td></td>\n",
      "</tr>\n",
      "<tr>\n",
      "  <td>7</td><td>0</td><td>1</td><td>1</td><td></td>\n",
      "</tr>\n",
      "<tr>\n",
      "  <td>8</td><td>0</td><td>1</td><td>1</td><td>1</td>\n",
      "</tr>\n",
      "<tr>\n",
      "  <td>4</td><td>1</td><td>1</td><td></td><td></td>\n",
      "</tr>\n",
      "<tr>\n",
      "  <td>3</td><td>1</td><td>2</td><td></td><td></td>\n",
      "</tr>\n",
      "<tr>\n",
      "  <td>7</td><td>1</td><td>2</td><td>2</td><td></td>\n",
      "</tr>\n",
      "<tr>\n",
      "  <td>8</td><td>1</td><td>2</td><td>2</td><td>4</td>\n",
      "</tr>\n",
      "<tr>\n",
      "  <td>4</td><td>1</td><td>5</td><td></td><td></td>\n",
      "</tr>\n",
      "<tr>\n",
      "  <td>5</td><td>1</td><td>5</td><td></td><td></td>\n",
      "</tr>\n",
      "</table>"
     ]
    },
    {
     "cell_type": "markdown",
     "metadata": {},
     "source": [
      "If `sum`'s `result` and `square`'s `result` were the same variable,\n",
      "though, we would get 8 instead:\n",
      "\n",
      "<table border=\"1\">\n",
      "<tr>\n",
      "  <th>Line</th><th><code>result</code></th><th><code>x</code></th><th><code>val</code></th>\n",
      "</tr>\n",
      "<tr>\n",
      "  <td>2</td><td>0</td><td></td><td></td>\n",
      "</tr>\n",
      "<tr>\n",
      "  <td>3</td><td>0</td><td>1</td><td></td>\n",
      "</tr>\n",
      "<tr>\n",
      "  <td>7</td><td>0</td><td>1</td><td>1</td>\n",
      "</tr>\n",
      "<tr>\n",
      "  <td>8</td><td>1</td><td>1</td><td>1</td>\n",
      "</tr>\n",
      "<tr>\n",
      "  <td>4</td><td>2</td><td>1</td><td></td>\n",
      "</tr>\n",
      "<tr>\n",
      "  <td>3</td><td>2</td><td>2</td><td></td>\n",
      "</tr>\n",
      "<tr>\n",
      "  <td>7</td><td>2</td><td>2</td><td>2</td>\n",
      "</tr>\n",
      "<tr>\n",
      "  <td>8</td><td>4</td><td>2</td><td>2</td>\n",
      "</tr>\n",
      "<tr>\n",
      "  <td>4</td><td>8</td><td>2</td><td></td>\n",
      "</tr>\n",
      "<tr>\n",
      "  <td>5</td><td>8</td><td>2</td><td></td>\n",
      "</tr>\n",
      "</table>"
     ]
    },
    {
     "cell_type": "markdown",
     "metadata": {},
     "source": [
      "What's worse, if we changed the name of the variable in `square` from\n",
      "`result` to `y`, the final answer would be 5 again. Changing the name of\n",
      "a variable shouldn't matter: *f(x)=x<sup>2</sup>* and *f(y)=y<sup>2</sup>* ought to\n",
      "calculate the same value, and if changing a variable name in one part of\n",
      "our program can change the result calculated by another, we will have to\n",
      "keep the entire program in our head in order to make any change safely.\n",
      "\n",
      "The fundamental issue here is one of evolution rather than one of\n",
      "technology. Human short-term memory can only hold a few items at a time;\n",
      "the value is sometimes given as \"seven plus or minus two\", and while\n",
      "that is an over-simplification, it's a good guideline. If we need to\n",
      "remember more unrelated bits of information than that for more than a\n",
      "few seconds, they become jumbled and we start making mistakes.\n",
      "\n",
      "If we have to keep more than half a dozen things straight in our mind in\n",
      "order to understand or change a piece of code, we will therefore start\n",
      "making mistakes. Most programming languages therefore enforce a \"local\n",
      "scope only\" rule so that programmers can ignore what's inside the\n",
      "functions they are calling, or what's outside the functions they are\n",
      "writing, and use their short-term memory for the task at hand instead.\n",
      "\n",
      "There is one important pragmatic exception to the \"local scope only\"\n",
      "rule mentioned at the end of the previous section. Every function also\n",
      "has access to the [global scope](glossary.html#global-scope), which is\n",
      "all the top-level definitions in the program (i.e., ones that aren't\n",
      "inside any particular function). In our pictures, the global scope is\n",
      "the bottom-most frame on the stack, which is there when the program\n",
      "starts and never goes away:"
     ]
    },
    {
     "cell_type": "markdown",
     "metadata": {},
     "source": [
      "FIXME: diagram"
     ]
    },
    {
     "cell_type": "markdown",
     "metadata": {},
     "source": [
      "Functions need access to the global scope because that is where other\n",
      "functions are defined. Going back to our temperature calculator, if\n",
      "`fahr_to_celsius` could only see variables defined in its local scope,\n",
      "it wouldn't be able to see either `fahr_to_kelvin` or\n",
      "`kelvin_to_celsius`, and therefore wouldn't be able to call them."
     ]
    },
    {
     "cell_type": "markdown",
     "metadata": {},
     "source": [
      "## Key Points\n",
      "\n",
      "-   Every function call creates a new scope.\n",
      "-   Every function has access to its own variable and to variables\n",
      "    defined in the global scope."
     ]
    }
   ],
   "metadata": {}
  }
 ]
}