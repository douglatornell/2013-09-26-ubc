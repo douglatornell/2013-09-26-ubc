{
 "metadata": {
  "name": "pyblocks-overview"
 },
 "nbformat": 3,
 "nbformat_minor": 0,
 "worksheets": [
  {
   "cells": [
    {
     "cell_type": "heading",
     "level": 1,
     "metadata": {},
     "source": [
      "Basic Programming Using Python"
     ]
    },
    {
     "cell_type": "markdown",
     "metadata": {},
     "source": [
      "<h2>Motivation</h2>\n",
      "\n",
      "Valerie Visual is studying the way people interpret missing or noisy\n",
      "information. For one of her experiments, she wants to introduce\n",
      "successively larger amounts of random noise into a series of pictures to\n",
      "see when people start to notice it.\n",
      "\n",
      "If Valerie only wanted one or two images, the simplest way to create\n",
      "them might be to use a tool like Photoshop. However, she wants to show\n",
      "each test subject several hundred images. Creating these by hand would\n",
      "take longer than actually running her experiments, so she's going to\n",
      "learn how to program, and that's what this lesson is about.\n",
      "\n",
      "We will use a programming language called Python for our examples.\n",
      "Python is free, reasonably well documented, and widely used in science\n",
      "and engineering. Our main reason for choosing it, though, is that\n",
      "newcomers find it easier to read than most other languages. It also\n",
      "allows people to do useful things without first having to master\n",
      "advanced concepts like object-oriented programming.\n",
      "\n",
      "The particular version of Python we'll use is called IPython. It was\n",
      "developed by and for scientists, and comes with many extra tools which\n",
      "we'll explore as we go along. The most important of these is an\n",
      "electronic lab notebook that allows us to view and annotate our work as\n",
      "we go along.\n",
      "\n",
      "Finally, our programs will use two libraries that were specifically\n",
      "written for novices. Both work on grids of pixels, but the first does\n",
      "this directly in the browser, so that we can see what we're doing as we\n",
      "go along, while the second manipulates photographs and other image\n",
      "files."
     ]
    },
    {
     "cell_type": "markdown",
     "metadata": {},
     "source": [
      "<h2>For Instructors</h2>\n",
      "\n",
      "FIXME"
     ]
    },
    {
     "cell_type": "markdown",
     "metadata": {},
     "source": [
      "<h2>Lessons</h2>\n",
      "\n",
      "FIXME: add links"
     ]
    },
    {
     "cell_type": "markdown",
     "metadata": {},
     "source": [
      "<h2>Summary</h2>\n",
      "\n",
      "FIXME"
     ]
    }
   ],
   "metadata": {}
  }
 ]
}