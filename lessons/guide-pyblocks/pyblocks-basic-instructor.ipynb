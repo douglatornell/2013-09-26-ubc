{
 "metadata": {
  "name": "pyblocks-basic-instructor"
 },
 "nbformat": 3,
 "nbformat_minor": 0,
 "worksheets": [
  {
   "cells": [
    {
     "cell_type": "heading",
     "level": 1,
     "metadata": {},
     "source": [
      "Basic Programming Using Python: Getting Started (Instructor Version)"
     ]
    },
    {
     "cell_type": "markdown",
     "metadata": {},
     "source": [
      "## Objectives\n",
      "\n",
      "* Run and use the IPython Notebook.\n",
      "* Do basic arithmetic in Python.\n",
      "* Assign values to variables, and use those variables in expressions.\n",
      "* Explain how variable names should be chosen, and choose appropriate names for variables."
     ]
    },
    {
     "cell_type": "markdown",
     "metadata": {},
     "source": [
      "## Lesson\n",
      "\n",
      "The best way to learn how to program is to start programming, so open a\n",
      "shell and run the IPython Notebook by typing:"
     ]
    },
    {
     "cell_type": "markdown",
     "metadata": {},
     "source": [
      "    $ ipython notebook\n",
      "    [NotebookApp] Using existing profile dir: u'/Users/gwilson/.ipython/profile_default'\n",
      "    [NotebookApp] Serving notebooks from /Users/gwilson\n",
      "    [NotebookApp] The IPython Notebook is running at: http://127.0.0.1:8888/\n",
      "    [NotebookApp] Use Control-C to stop this server and shut down all kernels."
     ]
    },
    {
     "cell_type": "markdown",
     "metadata": {},
     "source": [
      "If everything has been installed correctly, you will see something like\n",
      "the output shown above, which tells you that IPython has started\n",
      "running. You will also see something like [Figure XXX](#f:ipython_welcome) in your browser."
     ]
    },
    {
     "cell_type": "markdown",
     "metadata": {},
     "source": [
      "FIXME: screenshot"
     ]
    },
    {
     "cell_type": "markdown",
     "metadata": {},
     "source": [
      "If you click on the \"New Notebook\" button, a new tab will open in your\n",
      "browser with an empty notebook ([Figure XXX](#f:empty_notebook))."
     ]
    },
    {
     "cell_type": "markdown",
     "metadata": {},
     "source": [
      "FIXME: screenshot"
     ]
    },
    {
     "cell_type": "markdown",
     "metadata": {},
     "source": [
      "At this point, you're ready to go, so type the following line into the text\n",
      "box and choose \"Run\" from the \"Cell\" menu. You should get the output\n",
      "shown."
     ]
    },
    {
     "cell_type": "code",
     "collapsed": false,
     "input": [
      "print 1 + 1"
     ],
     "language": "python",
     "metadata": {},
     "outputs": [
      {
       "output_type": "stream",
       "stream": "stdout",
       "text": [
        "2\n"
       ]
      }
     ],
     "prompt_number": 1
    },
    {
     "cell_type": "markdown",
     "metadata": {},
     "source": [
      "[Figure XXX](#f:architecture) shows what just happened. When we type\n",
      "something into the notebook and run it, the browser sends the contents\n",
      "of the cell to IPython, which is running in the background. IPython runs\n",
      "our commands and sends output back to the browser, which displays it and\n",
      "gives us another box for input."
     ]
    },
    {
     "cell_type": "markdown",
     "metadata": {},
     "source": [
      "FIXME: diagram"
     ]
    },
    {
     "cell_type": "markdown",
     "metadata": {},
     "source": [
      "### *Shortcuts*\n",
      "\n",
      "<em>\n",
      "    We can access all of the Notebook's commands through its menus, but it's\n",
      "    often easier to use keyboard shortcuts. Typing Control-M follows by 'h'\n",
      "    (for \"help\") displays a list of these; along with the usual copy, paste,\n",
      "    and delete, the most commonly used are:\n",
      "</em>\n",
      "\n",
      "<table>\n",
      "  <tr>\n",
      "    <td>Shift-Enter</td>\n",
      "    <td>Run the current cell and move to the next one.</td>\n",
      "  </tr>\n",
      "  <tr>\n",
      "    <td>Control-Enter</td>\n",
      "    <td>Run the current cell and stay in it.</td>\n",
      "  </tr>\n",
      "  <tr>\n",
      "    <td>Control-M + L</td>\n",
      "    <td>Turn line numbering on or off.</td>\n",
      "  </tr>\n",
      "  <tr>\n",
      "    <td>Control-M + A</td>\n",
      "    <td>Insert a new cell above the current one.</td>\n",
      "  </tr>\n",
      "  <tr>\n",
      "    <td>Control-M + B</td>\n",
      "    <td>Insert a new cell below the current one.</td>\n",
      "  </tr>\n",
      "</table>"
     ]
    },
    {
     "cell_type": "markdown",
     "metadata": {},
     "source": [
      "Now enter and run this:"
     ]
    },
    {
     "cell_type": "code",
     "collapsed": false,
     "input": [
      "x = 1+1"
     ],
     "language": "python",
     "metadata": {},
     "outputs": [],
     "prompt_number": 1
    },
    {
     "cell_type": "markdown",
     "metadata": {},
     "source": [
      "Python doesn't display anything this time (except a new cell). Instead,\n",
      "as [Figure XXX](#f:first_variable) shows, it creates a\n",
      "[variable](glossary.html#variable) called `x` and assigns it the value\n",
      "2."
     ]
    },
    {
     "cell_type": "markdown",
     "metadata": {},
     "source": [
      "FIXME: diagram"
     ]
    },
    {
     "cell_type": "markdown",
     "metadata": {},
     "source": [
      "We can then display that variable's value simply by entering its name:"
     ]
    },
    {
     "cell_type": "code",
     "collapsed": false,
     "input": [
      "print x"
     ],
     "language": "python",
     "metadata": {},
     "outputs": [
      {
       "output_type": "stream",
       "stream": "stdout",
       "text": [
        "2\n"
       ]
      }
     ],
     "prompt_number": 3
    },
    {
     "cell_type": "markdown",
     "metadata": {},
     "source": [
      "### <em>Statements vs. Expressions</em>\n",
      "\n",
      "<em>\n",
      "    Python is a fairly relaxed language, but there are some things it won't\n",
      "    let us do. For example, this doesn't work:\n",
      "</em>"
     ]
    },
    {
     "cell_type": "code",
     "collapsed": false,
     "input": [
      "print x = 2 + 2"
     ],
     "language": "python",
     "metadata": {},
     "outputs": [
      {
       "ename": "SyntaxError",
       "evalue": "invalid syntax (<ipython-input-2-86ae9fd1f449>, line 1)",
       "output_type": "pyerr",
       "traceback": [
        "\u001b[0;36m  File \u001b[0;32m\"<ipython-input-2-86ae9fd1f449>\"\u001b[0;36m, line \u001b[0;32m1\u001b[0m\n\u001b[0;31m    print x = 2 + 2\u001b[0m\n\u001b[0m            ^\u001b[0m\n\u001b[0;31mSyntaxError\u001b[0m\u001b[0;31m:\u001b[0m invalid syntax\n"
       ]
      }
     ],
     "prompt_number": 2
    },
    {
     "cell_type": "markdown",
     "metadata": {},
     "source": [
      "<em>\n",
      "    The problem is that printing and assignment are both\n",
      "    [statements](glossary.html#statement). A statement is a complete,\n",
      "    self-contained action in a programming language, and statements cannot\n",
      "    be combined. 1+2, on the other hand, is an\n",
      "    [expression](glossary.html#expression)\u2014something that produces a new\n",
      "    value\u2014and expressions can be combined in many ways. Except for\n",
      "    assignment, every statement in Python begins with a keyword like\n",
      "    `print`, so it's usually easy to tell them apart.\n",
      "</em>"
     ]
    },
    {
     "cell_type": "markdown",
     "metadata": {},
     "source": [
      "We can now use the value of `x` in new calculations:"
     ]
    },
    {
     "cell_type": "code",
     "collapsed": false,
     "input": [
      "print x * 2"
     ],
     "language": "python",
     "metadata": {},
     "outputs": [
      {
       "output_type": "stream",
       "stream": "stdout",
       "text": [
        "4\n"
       ]
      }
     ],
     "prompt_number": 3
    },
    {
     "cell_type": "markdown",
     "metadata": {},
     "source": [
      "including ones that create more variables:"
     ]
    },
    {
     "cell_type": "code",
     "collapsed": false,
     "input": [
      "y = x * 2\n",
      "print y"
     ],
     "language": "python",
     "metadata": {},
     "outputs": [
      {
       "output_type": "stream",
       "stream": "stdout",
       "text": [
        "4\n"
       ]
      }
     ],
     "prompt_number": 4
    },
    {
     "cell_type": "markdown",
     "metadata": {},
     "source": [
      "We can change a variable's value by assigning something new to it:"
     ]
    },
    {
     "cell_type": "code",
     "collapsed": false,
     "input": [
      "x = 10\n",
      "print x"
     ],
     "language": "python",
     "metadata": {},
     "outputs": [
      {
       "output_type": "stream",
       "stream": "stdout",
       "text": [
        "10\n"
       ]
      }
     ],
     "prompt_number": 6
    },
    {
     "cell_type": "markdown",
     "metadata": {},
     "source": [
      "As [Figure XXX](#f:assign_new_value) shows, assigning something to `x`\n",
      "changes what it points to, but does not change anything else. In\n",
      "particular, `y` still has the value 4 after this assignment\u2014it is not\n",
      "automatically updated when `x`'s value changes, as it would in a\n",
      "spreadsheet:"
     ]
    },
    {
     "cell_type": "code",
     "collapsed": false,
     "input": [
      "print y"
     ],
     "language": "python",
     "metadata": {},
     "outputs": [
      {
       "output_type": "stream",
       "stream": "stdout",
       "text": [
        "4\n"
       ]
      }
     ],
     "prompt_number": 7
    },
    {
     "cell_type": "markdown",
     "metadata": {},
     "source": [
      "FIXME: diagram"
     ]
    },
    {
     "cell_type": "markdown",
     "metadata": {},
     "source": [
      "Notice, by the way, that some of our input cells contain several lines\n",
      "of Python. Referring back to [Figure XXX](#f:architecture), everything\n",
      "in a cell is sent to IPython for execution at once, and all of the\n",
      "output from those lines comes back as a single new output cell."
     ]
    },
    {
     "cell_type": "markdown",
     "metadata": {},
     "source": [
      "### <em>When to Print</em>\n",
      "\n",
      "<em>\n",
      "    If the last thing in a cell is an expression on a line of its own, the\n",
      "    notebook displays its value as the cell's output. If we want to display\n",
      "    things from the middle of a cell, we need to use a `print` statement.\n",
      "</em>"
     ]
    },
    {
     "cell_type": "markdown",
     "metadata": {},
     "source": [
      "Here's a more complex calculation:"
     ]
    },
    {
     "cell_type": "code",
     "collapsed": false,
     "input": [
      "x = 98.6\n",
      "y = (x - 32.0) * (5.0 / 9.0) + 273.15\n",
      "print y"
     ],
     "language": "python",
     "metadata": {},
     "outputs": [
      {
       "output_type": "stream",
       "stream": "stdout",
       "text": [
        "310.15\n"
       ]
      }
     ],
     "prompt_number": 8
    },
    {
     "cell_type": "markdown",
     "metadata": {},
     "source": [
      "Its meaning becomes clearer if we rewrite it as:"
     ]
    },
    {
     "cell_type": "code",
     "collapsed": false,
     "input": [
      "temp_fahr = 98.6\n",
      "temp_kelvin = (temp_fahr - 32.0) * (5.0 / 9.0) + 273.15\n",
      "print 'body temperature in Kelvin:', temp_kelvin\n",
      "temp_kelvin = (temp_fahr - 32.0) * (5.0 / 9.0) + 273.15ature in Kelvin:', temp_kelvin"
     ],
     "language": "python",
     "metadata": {},
     "outputs": [
      {
       "output_type": "stream",
       "stream": "stdout",
       "text": [
        "body temperature in Kelvin: 310.15\n"
       ]
      }
     ],
     "prompt_number": 9
    },
    {
     "cell_type": "markdown",
     "metadata": {},
     "source": [
      "The first line creates a new variable called `temp_fahr` (short for\n",
      "\"temperature in Fahrenheit\") and gives it the value 98.6\n",
      "([Figure XXX](#f:first_memory_model)). The second line creates another variable\n",
      "to hold the temperature in Kelvin (hence its name). It calculates a\n",
      "value for this variable that depends on the value of `temp_fahr`. The\n",
      "last line prints the result; the [character string](glossary.html#string) (or just \"string\" for short) inside quotes\n",
      "is printed as-is, followed by the value of `temp_kelvin`."
     ]
    },
    {
     "cell_type": "markdown",
     "metadata": {},
     "source": [
      "FIXME: diagram"
     ]
    },
    {
     "cell_type": "markdown",
     "metadata": {},
     "source": [
      "Like every program, this one stores data and does calculations. We use\n",
      "variables to do the first, and write instructions that use those\n",
      "variables to do the second. And like every *good* program, it is written\n",
      "with human beings in mind. Computers get faster every year, but our\n",
      "brains don't. As a result, the biggest bottleneck in scientific\n",
      "computing is often not how fast the program is, but how long it takes us\n",
      "to write it. This is why we use variable names like `temp_fahr` and\n",
      "`temp_kelvin` instead of `x` and `y`: they optimize the performance of\n",
      "the most expensive hardware we have."
     ]
    },
    {
     "cell_type": "markdown",
     "metadata": {},
     "source": [
      "### *Creating Variables*\n",
      "\n",
      "<em>\n",
      "    Python creates a variable whenever a value is assigned to a name, but\n",
      "    won't let us get the value of a variable that hasn't been assigned one.\n",
      "    For example, we can't do this:\n",
      "</em>"
     ]
    },
    {
     "cell_type": "code",
     "collapsed": false,
     "input": [
      "double_temp = temp_celsius * 2"
     ],
     "language": "python",
     "metadata": {},
     "outputs": [
      {
       "ename": "NameError",
       "evalue": "name 'temp_celsius' is not defined",
       "output_type": "pyerr",
       "traceback": [
        "\u001b[0;31m---------------------------------------------------------------------------\u001b[0m\n\u001b[0;31mNameError\u001b[0m                                 Traceback (most recent call last)",
        "\u001b[0;32m<ipython-input-9-0fae4d15df1c>\u001b[0m in \u001b[0;36m<module>\u001b[0;34m()\u001b[0m\n\u001b[0;32m----> 1\u001b[0;31m \u001b[0mdouble_temp\u001b[0m \u001b[0;34m=\u001b[0m \u001b[0mtemp_celsius\u001b[0m \u001b[0;34m*\u001b[0m \u001b[0;36m2\u001b[0m\u001b[0;34m\u001b[0m\u001b[0m\n\u001b[0m",
        "\u001b[0;31mNameError\u001b[0m: name 'temp_celsius' is not defined"
       ]
      }
     ],
     "prompt_number": 9
    },
    {
     "cell_type": "markdown",
     "metadata": {},
     "source": [
      "<em>\n",
      "    We'll explain what \"module\" means [later](#s:lib). What's important now\n",
      "    is that this strictness helps catch a lot of typing mistakes. If we\n",
      "    mistakenly type `temp_far` instead of `temp_fahr`:\n",
      "</em>"
     ]
    },
    {
     "cell_type": "code",
     "collapsed": false,
     "input": [
      "temp_kelvin = (temp_far - 32.0) * (5.0 / 9.0) + 273.15"
     ],
     "language": "python",
     "metadata": {},
     "outputs": [
      {
       "ename": "NameError",
       "evalue": "name 'temp_far' is not defined",
       "output_type": "pyerr",
       "traceback": [
        "\u001b[0;31m---------------------------------------------------------------------------\u001b[0m\n\u001b[0;31mNameError\u001b[0m                                 Traceback (most recent call last)",
        "\u001b[0;32m<ipython-input-10-7a2e5ea30a74>\u001b[0m in \u001b[0;36m<module>\u001b[0;34m()\u001b[0m\n\u001b[0;32m----> 1\u001b[0;31m \u001b[0mtemp_kelvin\u001b[0m \u001b[0;34m=\u001b[0m \u001b[0;34m(\u001b[0m\u001b[0mtemp_far\u001b[0m \u001b[0;34m-\u001b[0m \u001b[0;36m32.0\u001b[0m\u001b[0;34m)\u001b[0m \u001b[0;34m*\u001b[0m \u001b[0;34m(\u001b[0m\u001b[0;36m5.0\u001b[0m \u001b[0;34m/\u001b[0m \u001b[0;36m9.0\u001b[0m\u001b[0;34m)\u001b[0m \u001b[0;34m+\u001b[0m \u001b[0;36m273.15\u001b[0m\u001b[0;34m\u001b[0m\u001b[0m\n\u001b[0m",
        "\u001b[0;31mNameError\u001b[0m: name 'temp_far' is not defined"
       ]
      }
     ],
     "prompt_number": 10
    },
    {
     "cell_type": "markdown",
     "metadata": {},
     "source": [
      "<em>\n",
      "    then Python will tell us something's gone wrong. It can't help us if we\n",
      "    type 3.20 instead of 32.0, though; if we want to catch that mistake,\n",
      "    we'll actually have to [test our program](quality.html).\n",
      "</em>\n",
      "\n",
      "<em>\n",
      "    Readability is also why we put the temperature in Fahrenheit in a\n",
      "    variable, then use that variable in line 2, rather than just putting\n",
      "    98.6 directly in the calculation. If we ever want to convert another\n",
      "    temperature, it's easier to see and change the value on line 1 than it\n",
      "    would be to find it buried in the middle of a line of arithmetic.\n",
      "</em>"
     ]
    },
    {
     "cell_type": "markdown",
     "metadata": {},
     "source": [
      "### *Tab Completion*\n",
      "\n",
      "<em>\n",
      "    Using longer variable names doesn't necessarily mean doing more typing.\n",
      "    Like the shell, IPython supports [tab completion](shell.html#a:tab-completion): if we have created variables\n",
      "    called `temp_fahr` and `temp_kelvin`, then type \"te\" and press tab, the\n",
      "    notebook will display a list of completions for us to choose from\n",
      "    ([Figure XXX](#f:tab_completion). If we get as far as typing \"temp\\_f\"\n",
      "    and press tab, the rest of the name will be filled in completely because\n",
      "    there's only one possible choice.\n",
      "</em>"
     ]
    },
    {
     "cell_type": "markdown",
     "metadata": {},
     "source": [
      "FIXME: diagram"
     ]
    },
    {
     "cell_type": "markdown",
     "metadata": {},
     "source": [
      "<em>\n",
      "    After a while, some programmers start to choose variable names to\n",
      "    optimize tab completion (whether they're conscious of doing so or not).\n",
      "    For example, they might use `t_fahr` and `t_kelvin` for temperatures so\n",
      "    that they only have to type three characters and press tab to fill in\n",
      "    the rest of the variable name. Others find that using slightly longer\n",
      "    but more comprehensible names is a better balance between typing time\n",
      "    and reading time. The most important thing is to be consistent, because\n",
      "    every inconsistency makes reading harder and slower.\n",
      "</em>"
     ]
    },
    {
     "cell_type": "markdown",
     "metadata": {},
     "source": [
      "## Key Points\n",
      "\n",
      "* Use '=' to assign a value to a variable.\n",
      "* Variables are created when values are assigned to them.\n",
      "* Variables cannot be used until they have been created.\n",
      "* Assigning to one variable does not change the values associated with other variables.\n",
      "* Use `print` to display multiple values at once.\n",
      "* Addition ('+'), subtraction ('-'), and multiplication ('*') work as usual in Python.\n",
      "* Using readable names for variables improves programmer performance."
     ]
    }
   ],
   "metadata": {}
  }
 ]
}