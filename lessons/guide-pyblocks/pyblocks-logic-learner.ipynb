{
 "metadata": {
  "name": "pyblocks-logic-learner"
 },
 "nbformat": 3,
 "nbformat_minor": 0,
 "worksheets": [
  {
   "cells": [
    {
     "cell_type": "heading",
     "level": 1,
     "metadata": {},
     "source": [
      "Basic Programming Using Python: Making Choices (Learner Version)"
     ]
    },
    {
     "cell_type": "markdown",
     "metadata": {},
     "source": [
      "## Objectives\n",
      "\n",
      "-   Control which statements are executed using conditionals.\n",
      "-   Combine multiple tests using Boolean operators.\n",
      "-   Use in-place operators to update variables, and explain the\n",
      "    advantages of doing so."
     ]
    },
    {
     "cell_type": "markdown",
     "metadata": {},
     "source": [
      "## Lesson\n",
      "\n",
      "* Use conditional statements to make choices in programs"
     ]
    },
    {
     "cell_type": "code",
     "collapsed": false,
     "input": [
      "if 5 > 0:\n",
      "    print \"5 is greater than 0\"\n",
      "if 5 < 0:\n",
      "    print \"5 is less than 0\""
     ],
     "language": "python",
     "metadata": {},
     "outputs": [
      {
       "output_type": "stream",
       "stream": "stdout",
       "text": [
        "5 is greater than 0\n"
       ]
      }
     ],
     "prompt_number": 1
    },
    {
     "cell_type": "markdown",
     "metadata": {},
     "source": [
      "* Use double equals `==` to test for equality"
     ]
    },
    {
     "cell_type": "code",
     "collapsed": false,
     "input": [
      "for char in \"GATTACA\":\n",
      "    if char == \"A\":\n",
      "        print \"found an A\""
     ],
     "language": "python",
     "metadata": {},
     "outputs": [
      {
       "output_type": "stream",
       "stream": "stdout",
       "text": [
        "found an A\n",
        "found an A\n",
        "found an A\n"
       ]
      }
     ],
     "prompt_number": 1
    },
    {
     "cell_type": "markdown",
     "metadata": {},
     "source": [
      "* Use `else` to provide an alternative to an `if`"
     ]
    },
    {
     "cell_type": "code",
     "collapsed": false,
     "input": [
      "VOWELS = \"AEIOU\"\n",
      "num_vowels = 0\n",
      "num_other = 0\n",
      "for char in \"GATTACA\":\n",
      "    if char in VOWELS:\n",
      "        num_vowels = num_vowels + 1\n",
      "    else:\n",
      "        num_other = num_other + 1\n",
      "print num_vowels, \"vowels and\", num_other, \"other characters\""
     ],
     "language": "python",
     "metadata": {},
     "outputs": [
      {
       "output_type": "stream",
       "stream": "stdout",
       "text": [
        "3 vowels and 4 other characters\n"
       ]
      }
     ],
     "prompt_number": 2
    },
    {
     "cell_type": "markdown",
     "metadata": {},
     "source": [
      "FIXME: diagram"
     ]
    },
    {
     "cell_type": "markdown",
     "metadata": {},
     "source": [
      "* Use in-place operators like `+=` to update variables"
     ]
    },
    {
     "cell_type": "code",
     "collapsed": false,
     "input": [
      "num_vowels = 0\n",
      "num_other = 0\n",
      "for char in \"GATTACA\":\n",
      "    if char in VOWELS:\n",
      "        num_vowels += 1\n",
      "    else:\n",
      "        num_other += 1\n",
      "print num_vowels, \"vowels and\", num_other, \"other characters\""
     ],
     "language": "python",
     "metadata": {},
     "outputs": [
      {
       "output_type": "stream",
       "stream": "stdout",
       "text": [
        "3 vowels and 4 other characters\n"
       ]
      }
     ],
     "prompt_number": 3
    },
    {
     "cell_type": "markdown",
     "metadata": {},
     "source": [
      "* Use `elif` to provide an alternative test\n",
      "* A conditional can have any number of `elif`s between the `if` and the `else`"
     ]
    },
    {
     "cell_type": "code",
     "collapsed": false,
     "input": [
      "from ipythonblocks import ImageGrid, colors\n",
      "grid = ImageGrid(10, 5)\n",
      "for x in range(grid.width):\n",
      "    for y in range(grid.height):\n",
      "        if x < y:\n",
      "            grid[x, y] = colors['Red']\n",
      "        elif x == y:\n",
      "            grid[x, y] = colors['Blue']\n",
      "        else:\n",
      "            grid[x, y] = colors['Green']\n",
      "grid.show()"
     ],
     "language": "python",
     "metadata": {},
     "outputs": [
      {
       "html": [
        "<style type=\"text/css\">table.blockgrid {border: none;} .blockgrid tr {border: none;} .blockgrid td {padding: 0px;} #blocks8cf62845-066c-4e25-a440-16cc52626761 td {border: 1px solid white;}</style><table id=\"blocks8cf62845-066c-4e25-a440-16cc52626761\" class=\"blockgrid\"><tbody><tr><td title=\"Index: [0, 4]&#10;Color: (255, 0, 0)\" style=\"width: 20px; height: 20px;background-color: rgb(255, 0, 0);\"></td><td title=\"Index: [1, 4]&#10;Color: (255, 0, 0)\" style=\"width: 20px; height: 20px;background-color: rgb(255, 0, 0);\"></td><td title=\"Index: [2, 4]&#10;Color: (255, 0, 0)\" style=\"width: 20px; height: 20px;background-color: rgb(255, 0, 0);\"></td><td title=\"Index: [3, 4]&#10;Color: (255, 0, 0)\" style=\"width: 20px; height: 20px;background-color: rgb(255, 0, 0);\"></td><td title=\"Index: [4, 4]&#10;Color: (0, 0, 255)\" style=\"width: 20px; height: 20px;background-color: rgb(0, 0, 255);\"></td><td title=\"Index: [5, 4]&#10;Color: (0, 128, 0)\" style=\"width: 20px; height: 20px;background-color: rgb(0, 128, 0);\"></td><td title=\"Index: [6, 4]&#10;Color: (0, 128, 0)\" style=\"width: 20px; height: 20px;background-color: rgb(0, 128, 0);\"></td><td title=\"Index: [7, 4]&#10;Color: (0, 128, 0)\" style=\"width: 20px; height: 20px;background-color: rgb(0, 128, 0);\"></td><td title=\"Index: [8, 4]&#10;Color: (0, 128, 0)\" style=\"width: 20px; height: 20px;background-color: rgb(0, 128, 0);\"></td><td title=\"Index: [9, 4]&#10;Color: (0, 128, 0)\" style=\"width: 20px; height: 20px;background-color: rgb(0, 128, 0);\"></td></tr><tr><td title=\"Index: [0, 3]&#10;Color: (255, 0, 0)\" style=\"width: 20px; height: 20px;background-color: rgb(255, 0, 0);\"></td><td title=\"Index: [1, 3]&#10;Color: (255, 0, 0)\" style=\"width: 20px; height: 20px;background-color: rgb(255, 0, 0);\"></td><td title=\"Index: [2, 3]&#10;Color: (255, 0, 0)\" style=\"width: 20px; height: 20px;background-color: rgb(255, 0, 0);\"></td><td title=\"Index: [3, 3]&#10;Color: (0, 0, 255)\" style=\"width: 20px; height: 20px;background-color: rgb(0, 0, 255);\"></td><td title=\"Index: [4, 3]&#10;Color: (0, 128, 0)\" style=\"width: 20px; height: 20px;background-color: rgb(0, 128, 0);\"></td><td title=\"Index: [5, 3]&#10;Color: (0, 128, 0)\" style=\"width: 20px; height: 20px;background-color: rgb(0, 128, 0);\"></td><td title=\"Index: [6, 3]&#10;Color: (0, 128, 0)\" style=\"width: 20px; height: 20px;background-color: rgb(0, 128, 0);\"></td><td title=\"Index: [7, 3]&#10;Color: (0, 128, 0)\" style=\"width: 20px; height: 20px;background-color: rgb(0, 128, 0);\"></td><td title=\"Index: [8, 3]&#10;Color: (0, 128, 0)\" style=\"width: 20px; height: 20px;background-color: rgb(0, 128, 0);\"></td><td title=\"Index: [9, 3]&#10;Color: (0, 128, 0)\" style=\"width: 20px; height: 20px;background-color: rgb(0, 128, 0);\"></td></tr><tr><td title=\"Index: [0, 2]&#10;Color: (255, 0, 0)\" style=\"width: 20px; height: 20px;background-color: rgb(255, 0, 0);\"></td><td title=\"Index: [1, 2]&#10;Color: (255, 0, 0)\" style=\"width: 20px; height: 20px;background-color: rgb(255, 0, 0);\"></td><td title=\"Index: [2, 2]&#10;Color: (0, 0, 255)\" style=\"width: 20px; height: 20px;background-color: rgb(0, 0, 255);\"></td><td title=\"Index: [3, 2]&#10;Color: (0, 128, 0)\" style=\"width: 20px; height: 20px;background-color: rgb(0, 128, 0);\"></td><td title=\"Index: [4, 2]&#10;Color: (0, 128, 0)\" style=\"width: 20px; height: 20px;background-color: rgb(0, 128, 0);\"></td><td title=\"Index: [5, 2]&#10;Color: (0, 128, 0)\" style=\"width: 20px; height: 20px;background-color: rgb(0, 128, 0);\"></td><td title=\"Index: [6, 2]&#10;Color: (0, 128, 0)\" style=\"width: 20px; height: 20px;background-color: rgb(0, 128, 0);\"></td><td title=\"Index: [7, 2]&#10;Color: (0, 128, 0)\" style=\"width: 20px; height: 20px;background-color: rgb(0, 128, 0);\"></td><td title=\"Index: [8, 2]&#10;Color: (0, 128, 0)\" style=\"width: 20px; height: 20px;background-color: rgb(0, 128, 0);\"></td><td title=\"Index: [9, 2]&#10;Color: (0, 128, 0)\" style=\"width: 20px; height: 20px;background-color: rgb(0, 128, 0);\"></td></tr><tr><td title=\"Index: [0, 1]&#10;Color: (255, 0, 0)\" style=\"width: 20px; height: 20px;background-color: rgb(255, 0, 0);\"></td><td title=\"Index: [1, 1]&#10;Color: (0, 0, 255)\" style=\"width: 20px; height: 20px;background-color: rgb(0, 0, 255);\"></td><td title=\"Index: [2, 1]&#10;Color: (0, 128, 0)\" style=\"width: 20px; height: 20px;background-color: rgb(0, 128, 0);\"></td><td title=\"Index: [3, 1]&#10;Color: (0, 128, 0)\" style=\"width: 20px; height: 20px;background-color: rgb(0, 128, 0);\"></td><td title=\"Index: [4, 1]&#10;Color: (0, 128, 0)\" style=\"width: 20px; height: 20px;background-color: rgb(0, 128, 0);\"></td><td title=\"Index: [5, 1]&#10;Color: (0, 128, 0)\" style=\"width: 20px; height: 20px;background-color: rgb(0, 128, 0);\"></td><td title=\"Index: [6, 1]&#10;Color: (0, 128, 0)\" style=\"width: 20px; height: 20px;background-color: rgb(0, 128, 0);\"></td><td title=\"Index: [7, 1]&#10;Color: (0, 128, 0)\" style=\"width: 20px; height: 20px;background-color: rgb(0, 128, 0);\"></td><td title=\"Index: [8, 1]&#10;Color: (0, 128, 0)\" style=\"width: 20px; height: 20px;background-color: rgb(0, 128, 0);\"></td><td title=\"Index: [9, 1]&#10;Color: (0, 128, 0)\" style=\"width: 20px; height: 20px;background-color: rgb(0, 128, 0);\"></td></tr><tr><td title=\"Index: [0, 0]&#10;Color: (0, 0, 255)\" style=\"width: 20px; height: 20px;background-color: rgb(0, 0, 255);\"></td><td title=\"Index: [1, 0]&#10;Color: (0, 128, 0)\" style=\"width: 20px; height: 20px;background-color: rgb(0, 128, 0);\"></td><td title=\"Index: [2, 0]&#10;Color: (0, 128, 0)\" style=\"width: 20px; height: 20px;background-color: rgb(0, 128, 0);\"></td><td title=\"Index: [3, 0]&#10;Color: (0, 128, 0)\" style=\"width: 20px; height: 20px;background-color: rgb(0, 128, 0);\"></td><td title=\"Index: [4, 0]&#10;Color: (0, 128, 0)\" style=\"width: 20px; height: 20px;background-color: rgb(0, 128, 0);\"></td><td title=\"Index: [5, 0]&#10;Color: (0, 128, 0)\" style=\"width: 20px; height: 20px;background-color: rgb(0, 128, 0);\"></td><td title=\"Index: [6, 0]&#10;Color: (0, 128, 0)\" style=\"width: 20px; height: 20px;background-color: rgb(0, 128, 0);\"></td><td title=\"Index: [7, 0]&#10;Color: (0, 128, 0)\" style=\"width: 20px; height: 20px;background-color: rgb(0, 128, 0);\"></td><td title=\"Index: [8, 0]&#10;Color: (0, 128, 0)\" style=\"width: 20px; height: 20px;background-color: rgb(0, 128, 0);\"></td><td title=\"Index: [9, 0]&#10;Color: (0, 128, 0)\" style=\"width: 20px; height: 20px;background-color: rgb(0, 128, 0);\"></td></tr></tbody></table>"
       ],
       "output_type": "display_data",
       "text": [
        "<IPython.core.display.HTML at 0x1024ed110>"
       ]
      }
     ],
     "prompt_number": 5
    },
    {
     "cell_type": "markdown",
     "metadata": {},
     "source": [
      "* Use `grid[x,y].red`, `.green`, and `.blue` to access components of colors"
     ]
    },
    {
     "cell_type": "code",
     "collapsed": false,
     "input": [
      "for x in range(grid.width):\n",
      "    for y in range(grid.height):\n",
      "        if grid[x, y].red == 0:\n",
      "            grid[x, y].red = 128\n",
      "grid.show()"
     ],
     "language": "python",
     "metadata": {},
     "outputs": [
      {
       "html": [
        "<style type=\"text/css\">table.blockgrid {border: none;} .blockgrid tr {border: none;} .blockgrid td {padding: 0px;} #blocks024f375f-5d48-43f5-883e-665a11799d38 td {border: 1px solid white;}</style><table id=\"blocks024f375f-5d48-43f5-883e-665a11799d38\" class=\"blockgrid\"><tbody><tr><td title=\"Index: [0, 4]&#10;Color: (255, 0, 0)\" style=\"width: 20px; height: 20px;background-color: rgb(255, 0, 0);\"></td><td title=\"Index: [1, 4]&#10;Color: (255, 0, 0)\" style=\"width: 20px; height: 20px;background-color: rgb(255, 0, 0);\"></td><td title=\"Index: [2, 4]&#10;Color: (255, 0, 0)\" style=\"width: 20px; height: 20px;background-color: rgb(255, 0, 0);\"></td><td title=\"Index: [3, 4]&#10;Color: (255, 0, 0)\" style=\"width: 20px; height: 20px;background-color: rgb(255, 0, 0);\"></td><td title=\"Index: [4, 4]&#10;Color: (128, 0, 255)\" style=\"width: 20px; height: 20px;background-color: rgb(128, 0, 255);\"></td><td title=\"Index: [5, 4]&#10;Color: (128, 128, 0)\" style=\"width: 20px; height: 20px;background-color: rgb(128, 128, 0);\"></td><td title=\"Index: [6, 4]&#10;Color: (128, 128, 0)\" style=\"width: 20px; height: 20px;background-color: rgb(128, 128, 0);\"></td><td title=\"Index: [7, 4]&#10;Color: (128, 128, 0)\" style=\"width: 20px; height: 20px;background-color: rgb(128, 128, 0);\"></td><td title=\"Index: [8, 4]&#10;Color: (128, 128, 0)\" style=\"width: 20px; height: 20px;background-color: rgb(128, 128, 0);\"></td><td title=\"Index: [9, 4]&#10;Color: (128, 128, 0)\" style=\"width: 20px; height: 20px;background-color: rgb(128, 128, 0);\"></td></tr><tr><td title=\"Index: [0, 3]&#10;Color: (255, 0, 0)\" style=\"width: 20px; height: 20px;background-color: rgb(255, 0, 0);\"></td><td title=\"Index: [1, 3]&#10;Color: (255, 0, 0)\" style=\"width: 20px; height: 20px;background-color: rgb(255, 0, 0);\"></td><td title=\"Index: [2, 3]&#10;Color: (255, 0, 0)\" style=\"width: 20px; height: 20px;background-color: rgb(255, 0, 0);\"></td><td title=\"Index: [3, 3]&#10;Color: (128, 0, 255)\" style=\"width: 20px; height: 20px;background-color: rgb(128, 0, 255);\"></td><td title=\"Index: [4, 3]&#10;Color: (128, 128, 0)\" style=\"width: 20px; height: 20px;background-color: rgb(128, 128, 0);\"></td><td title=\"Index: [5, 3]&#10;Color: (128, 128, 0)\" style=\"width: 20px; height: 20px;background-color: rgb(128, 128, 0);\"></td><td title=\"Index: [6, 3]&#10;Color: (128, 128, 0)\" style=\"width: 20px; height: 20px;background-color: rgb(128, 128, 0);\"></td><td title=\"Index: [7, 3]&#10;Color: (128, 128, 0)\" style=\"width: 20px; height: 20px;background-color: rgb(128, 128, 0);\"></td><td title=\"Index: [8, 3]&#10;Color: (128, 128, 0)\" style=\"width: 20px; height: 20px;background-color: rgb(128, 128, 0);\"></td><td title=\"Index: [9, 3]&#10;Color: (128, 128, 0)\" style=\"width: 20px; height: 20px;background-color: rgb(128, 128, 0);\"></td></tr><tr><td title=\"Index: [0, 2]&#10;Color: (255, 0, 0)\" style=\"width: 20px; height: 20px;background-color: rgb(255, 0, 0);\"></td><td title=\"Index: [1, 2]&#10;Color: (255, 0, 0)\" style=\"width: 20px; height: 20px;background-color: rgb(255, 0, 0);\"></td><td title=\"Index: [2, 2]&#10;Color: (128, 0, 255)\" style=\"width: 20px; height: 20px;background-color: rgb(128, 0, 255);\"></td><td title=\"Index: [3, 2]&#10;Color: (128, 128, 0)\" style=\"width: 20px; height: 20px;background-color: rgb(128, 128, 0);\"></td><td title=\"Index: [4, 2]&#10;Color: (128, 128, 0)\" style=\"width: 20px; height: 20px;background-color: rgb(128, 128, 0);\"></td><td title=\"Index: [5, 2]&#10;Color: (128, 128, 0)\" style=\"width: 20px; height: 20px;background-color: rgb(128, 128, 0);\"></td><td title=\"Index: [6, 2]&#10;Color: (128, 128, 0)\" style=\"width: 20px; height: 20px;background-color: rgb(128, 128, 0);\"></td><td title=\"Index: [7, 2]&#10;Color: (128, 128, 0)\" style=\"width: 20px; height: 20px;background-color: rgb(128, 128, 0);\"></td><td title=\"Index: [8, 2]&#10;Color: (128, 128, 0)\" style=\"width: 20px; height: 20px;background-color: rgb(128, 128, 0);\"></td><td title=\"Index: [9, 2]&#10;Color: (128, 128, 0)\" style=\"width: 20px; height: 20px;background-color: rgb(128, 128, 0);\"></td></tr><tr><td title=\"Index: [0, 1]&#10;Color: (255, 0, 0)\" style=\"width: 20px; height: 20px;background-color: rgb(255, 0, 0);\"></td><td title=\"Index: [1, 1]&#10;Color: (128, 0, 255)\" style=\"width: 20px; height: 20px;background-color: rgb(128, 0, 255);\"></td><td title=\"Index: [2, 1]&#10;Color: (128, 128, 0)\" style=\"width: 20px; height: 20px;background-color: rgb(128, 128, 0);\"></td><td title=\"Index: [3, 1]&#10;Color: (128, 128, 0)\" style=\"width: 20px; height: 20px;background-color: rgb(128, 128, 0);\"></td><td title=\"Index: [4, 1]&#10;Color: (128, 128, 0)\" style=\"width: 20px; height: 20px;background-color: rgb(128, 128, 0);\"></td><td title=\"Index: [5, 1]&#10;Color: (128, 128, 0)\" style=\"width: 20px; height: 20px;background-color: rgb(128, 128, 0);\"></td><td title=\"Index: [6, 1]&#10;Color: (128, 128, 0)\" style=\"width: 20px; height: 20px;background-color: rgb(128, 128, 0);\"></td><td title=\"Index: [7, 1]&#10;Color: (128, 128, 0)\" style=\"width: 20px; height: 20px;background-color: rgb(128, 128, 0);\"></td><td title=\"Index: [8, 1]&#10;Color: (128, 128, 0)\" style=\"width: 20px; height: 20px;background-color: rgb(128, 128, 0);\"></td><td title=\"Index: [9, 1]&#10;Color: (128, 128, 0)\" style=\"width: 20px; height: 20px;background-color: rgb(128, 128, 0);\"></td></tr><tr><td title=\"Index: [0, 0]&#10;Color: (128, 0, 255)\" style=\"width: 20px; height: 20px;background-color: rgb(128, 0, 255);\"></td><td title=\"Index: [1, 0]&#10;Color: (128, 128, 0)\" style=\"width: 20px; height: 20px;background-color: rgb(128, 128, 0);\"></td><td title=\"Index: [2, 0]&#10;Color: (128, 128, 0)\" style=\"width: 20px; height: 20px;background-color: rgb(128, 128, 0);\"></td><td title=\"Index: [3, 0]&#10;Color: (128, 128, 0)\" style=\"width: 20px; height: 20px;background-color: rgb(128, 128, 0);\"></td><td title=\"Index: [4, 0]&#10;Color: (128, 128, 0)\" style=\"width: 20px; height: 20px;background-color: rgb(128, 128, 0);\"></td><td title=\"Index: [5, 0]&#10;Color: (128, 128, 0)\" style=\"width: 20px; height: 20px;background-color: rgb(128, 128, 0);\"></td><td title=\"Index: [6, 0]&#10;Color: (128, 128, 0)\" style=\"width: 20px; height: 20px;background-color: rgb(128, 128, 0);\"></td><td title=\"Index: [7, 0]&#10;Color: (128, 128, 0)\" style=\"width: 20px; height: 20px;background-color: rgb(128, 128, 0);\"></td><td title=\"Index: [8, 0]&#10;Color: (128, 128, 0)\" style=\"width: 20px; height: 20px;background-color: rgb(128, 128, 0);\"></td><td title=\"Index: [9, 0]&#10;Color: (128, 128, 0)\" style=\"width: 20px; height: 20px;background-color: rgb(128, 128, 0);\"></td></tr></tbody></table>"
       ],
       "output_type": "display_data",
       "text": [
        "<IPython.core.display.HTML at 0x1024d69d0>"
       ]
      }
     ],
     "prompt_number": 6
    },
    {
     "cell_type": "markdown",
     "metadata": {},
     "source": [
      "## Key Points\n",
      "\n",
      "FIXME"
     ]
    }
   ],
   "metadata": {}
  }
 ]
}