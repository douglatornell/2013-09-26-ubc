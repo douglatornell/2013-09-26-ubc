{
 "metadata": {
  "name": "pyblocks-logic-instructor"
 },
 "nbformat": 3,
 "nbformat_minor": 0,
 "worksheets": [
  {
   "cells": [
    {
     "cell_type": "heading",
     "level": 1,
     "metadata": {},
     "source": [
      "Basic Programming Using Python: Making Choices (Instructor Version)"
     ]
    },
    {
     "cell_type": "markdown",
     "metadata": {},
     "source": [
      "## Objectives\n",
      "\n",
      "-   Control which statements are executed using conditionals.\n",
      "-   Combine multiple tests using Boolean operators.\n",
      "-   Use in-place operators to update variables, and explain the\n",
      "    advantages of doing so."
     ]
    },
    {
     "cell_type": "markdown",
     "metadata": {},
     "source": [
      "## Lesson\n",
      "\n",
      "The program we have written so far have all done the same operations\n",
      "regardless of their data. In many cases, though, we want to choose what\n",
      "operations to perform based on the data we're given. The usual way to do\n",
      "this is to use [conditional](glossary.html#conditional) statements.\n",
      "Let's start with a simple example:"
     ]
    },
    {
     "cell_type": "code",
     "collapsed": false,
     "input": [
      "if 5 > 0:\n",
      "    print \"5 is greater than 0\"\n",
      "if 5 < 0:\n",
      "    print \"5 is less than 0\""
     ],
     "language": "python",
     "metadata": {},
     "outputs": [
      {
       "output_type": "stream",
       "stream": "stdout",
       "text": [
        "5 is greater than 0\n"
       ]
      }
     ],
     "prompt_number": 1
    },
    {
     "cell_type": "markdown",
     "metadata": {},
     "source": [
      "The logic is fairly easy to follow. The keyword `if` is followed by an\n",
      "expression. If that expression is true, Python executes the indented\n",
      "block of code that belongs to the `if`; if the expression is false, it\n",
      "doesn't. In this case, since 5 actually is greater than 0, the first\n",
      "`print` statement runs, but not the second.\n",
      "\n",
      "Now let's try this:"
     ]
    },
    {
     "cell_type": "code",
     "collapsed": false,
     "input": [
      "for char in \"GATTACA\":\n",
      "    if char == \"A\":\n",
      "        print \"found an A\""
     ],
     "language": "python",
     "metadata": {},
     "outputs": [
      {
       "output_type": "stream",
       "stream": "stdout",
       "text": [
        "found an A\n",
        "found an A\n",
        "found an A\n"
       ]
      }
     ],
     "prompt_number": 2
    },
    {
     "cell_type": "markdown",
     "metadata": {},
     "source": [
      "Python uses a double equals sign `==` to test for equality (because the\n",
      "single equals sign `=` is used for assignment). Each time through the\n",
      "loop above, the current value of `char` is compared to the character\n",
      "'A'. When the two are equal, the program prints a message; since the\n",
      "letter appears three times in 'GATTACA', the message is printed three\n",
      "times.\n",
      "\n",
      "All right, how about this?"
     ]
    },
    {
     "cell_type": "code",
     "collapsed": false,
     "input": [
      "VOWELS = \"AEIOU\"\n",
      "num_vowels = 0\n",
      "num_other = 0\n",
      "for char in \"GATTACA\":\n",
      "    if char in VOWELS:\n",
      "        num_vowels = num_vowels + 1\n",
      "    else:\n",
      "        num_other = num_other + 1\n",
      "print num_vowels, \"vowels and\", num_other, \"other characters\""
     ],
     "language": "python",
     "metadata": {},
     "outputs": [
      {
       "output_type": "stream",
       "stream": "stdout",
       "text": [
        "3 vowels and 4 other characters\n"
       ]
      }
     ],
     "prompt_number": 3
    },
    {
     "cell_type": "markdown",
     "metadata": {},
     "source": [
      "This little program introduces two new language features. The first is\n",
      "the `in` operator, which, as its name suggests, tests whether a value\n",
      "(such as a character) is in a collection (such as a string). In this\n",
      "case, we're using it to see if the current character is in our list of\n",
      "vowels.\n",
      "\n",
      "The other feature is the keyword `else`, which is used to introduce an\n",
      "alternative to an `if`. Here, if a character is a vowel, Python\n",
      "increments `num_vowels`. If that test fails\u2014i.e., if the character\n",
      "*isn't* in `VOWELS`\u2014Python executes the both of the `else` and\n",
      "increments `num_other` instead."
     ]
    },
    {
     "cell_type": "markdown",
     "metadata": {},
     "source": [
      "FIXME: diagram"
     ]
    },
    {
     "cell_type": "markdown",
     "metadata": {},
     "source": [
      "We can make this program more readable by rewriting the body of the loop like this:"
     ]
    },
    {
     "cell_type": "code",
     "collapsed": false,
     "input": [
      "num_vowels = 0\n",
      "num_other = 0\n",
      "for char in \"GATTACA\":\n",
      "    if char in VOWELS:\n",
      "        num_vowels += 1\n",
      "    else:\n",
      "        num_other += 1\n",
      "print num_vowels, \"vowels and\", num_other, \"other characters\""
     ],
     "language": "python",
     "metadata": {},
     "outputs": [
      {
       "output_type": "stream",
       "stream": "stdout",
       "text": [
        "3 vowels and 4 other characters\n"
       ]
      }
     ],
     "prompt_number": 4
    },
    {
     "cell_type": "markdown",
     "metadata": {},
     "source": [
      "The notation `x += 1` means, \"Add one to the variable `x`.\" This is\n",
      "called an [in-place operator](glossary.html#in-place-operator), since it\n",
      "reads the current value of `x` and writes a new value back to the same\n",
      "variable. We can similarly use `x += 5` to add 5 to `x`, `x *= 3` to\n",
      "triple it, and so on.\n",
      "\n",
      "With conditionals in hand, let's draw a pattern on a grid:"
     ]
    },
    {
     "cell_type": "code",
     "collapsed": false,
     "input": [
      "from ipythonblocks import ImageGrid, colors\n",
      "grid = ImageGrid(10, 5)\n",
      "for x in range(grid.width):\n",
      "    for y in range(grid.height):\n",
      "        if x < y:\n",
      "            grid[x, y] = colors['Red']\n",
      "        elif x == y:\n",
      "            grid[x, y] = colors['Blue']\n",
      "        else:\n",
      "            grid[x, y] = colors['Green']\n",
      "grid.show()"
     ],
     "language": "python",
     "metadata": {},
     "outputs": [
      {
       "html": [
        "<style type=\"text/css\">table.blockgrid {border: none;} .blockgrid tr {border: none;} .blockgrid td {padding: 0px;} #blocksbc45ac39-c7ea-4ac5-8469-361cf3491470 td {border: 1px solid white;}</style><table id=\"blocksbc45ac39-c7ea-4ac5-8469-361cf3491470\" class=\"blockgrid\"><tbody><tr><td title=\"Index: [0, 4]&#10;Color: (255, 0, 0)\" style=\"width: 20px; height: 20px;background-color: rgb(255, 0, 0);\"></td><td title=\"Index: [1, 4]&#10;Color: (255, 0, 0)\" style=\"width: 20px; height: 20px;background-color: rgb(255, 0, 0);\"></td><td title=\"Index: [2, 4]&#10;Color: (255, 0, 0)\" style=\"width: 20px; height: 20px;background-color: rgb(255, 0, 0);\"></td><td title=\"Index: [3, 4]&#10;Color: (255, 0, 0)\" style=\"width: 20px; height: 20px;background-color: rgb(255, 0, 0);\"></td><td title=\"Index: [4, 4]&#10;Color: (0, 0, 255)\" style=\"width: 20px; height: 20px;background-color: rgb(0, 0, 255);\"></td><td title=\"Index: [5, 4]&#10;Color: (0, 128, 0)\" style=\"width: 20px; height: 20px;background-color: rgb(0, 128, 0);\"></td><td title=\"Index: [6, 4]&#10;Color: (0, 128, 0)\" style=\"width: 20px; height: 20px;background-color: rgb(0, 128, 0);\"></td><td title=\"Index: [7, 4]&#10;Color: (0, 128, 0)\" style=\"width: 20px; height: 20px;background-color: rgb(0, 128, 0);\"></td><td title=\"Index: [8, 4]&#10;Color: (0, 128, 0)\" style=\"width: 20px; height: 20px;background-color: rgb(0, 128, 0);\"></td><td title=\"Index: [9, 4]&#10;Color: (0, 128, 0)\" style=\"width: 20px; height: 20px;background-color: rgb(0, 128, 0);\"></td></tr><tr><td title=\"Index: [0, 3]&#10;Color: (255, 0, 0)\" style=\"width: 20px; height: 20px;background-color: rgb(255, 0, 0);\"></td><td title=\"Index: [1, 3]&#10;Color: (255, 0, 0)\" style=\"width: 20px; height: 20px;background-color: rgb(255, 0, 0);\"></td><td title=\"Index: [2, 3]&#10;Color: (255, 0, 0)\" style=\"width: 20px; height: 20px;background-color: rgb(255, 0, 0);\"></td><td title=\"Index: [3, 3]&#10;Color: (0, 0, 255)\" style=\"width: 20px; height: 20px;background-color: rgb(0, 0, 255);\"></td><td title=\"Index: [4, 3]&#10;Color: (0, 128, 0)\" style=\"width: 20px; height: 20px;background-color: rgb(0, 128, 0);\"></td><td title=\"Index: [5, 3]&#10;Color: (0, 128, 0)\" style=\"width: 20px; height: 20px;background-color: rgb(0, 128, 0);\"></td><td title=\"Index: [6, 3]&#10;Color: (0, 128, 0)\" style=\"width: 20px; height: 20px;background-color: rgb(0, 128, 0);\"></td><td title=\"Index: [7, 3]&#10;Color: (0, 128, 0)\" style=\"width: 20px; height: 20px;background-color: rgb(0, 128, 0);\"></td><td title=\"Index: [8, 3]&#10;Color: (0, 128, 0)\" style=\"width: 20px; height: 20px;background-color: rgb(0, 128, 0);\"></td><td title=\"Index: [9, 3]&#10;Color: (0, 128, 0)\" style=\"width: 20px; height: 20px;background-color: rgb(0, 128, 0);\"></td></tr><tr><td title=\"Index: [0, 2]&#10;Color: (255, 0, 0)\" style=\"width: 20px; height: 20px;background-color: rgb(255, 0, 0);\"></td><td title=\"Index: [1, 2]&#10;Color: (255, 0, 0)\" style=\"width: 20px; height: 20px;background-color: rgb(255, 0, 0);\"></td><td title=\"Index: [2, 2]&#10;Color: (0, 0, 255)\" style=\"width: 20px; height: 20px;background-color: rgb(0, 0, 255);\"></td><td title=\"Index: [3, 2]&#10;Color: (0, 128, 0)\" style=\"width: 20px; height: 20px;background-color: rgb(0, 128, 0);\"></td><td title=\"Index: [4, 2]&#10;Color: (0, 128, 0)\" style=\"width: 20px; height: 20px;background-color: rgb(0, 128, 0);\"></td><td title=\"Index: [5, 2]&#10;Color: (0, 128, 0)\" style=\"width: 20px; height: 20px;background-color: rgb(0, 128, 0);\"></td><td title=\"Index: [6, 2]&#10;Color: (0, 128, 0)\" style=\"width: 20px; height: 20px;background-color: rgb(0, 128, 0);\"></td><td title=\"Index: [7, 2]&#10;Color: (0, 128, 0)\" style=\"width: 20px; height: 20px;background-color: rgb(0, 128, 0);\"></td><td title=\"Index: [8, 2]&#10;Color: (0, 128, 0)\" style=\"width: 20px; height: 20px;background-color: rgb(0, 128, 0);\"></td><td title=\"Index: [9, 2]&#10;Color: (0, 128, 0)\" style=\"width: 20px; height: 20px;background-color: rgb(0, 128, 0);\"></td></tr><tr><td title=\"Index: [0, 1]&#10;Color: (255, 0, 0)\" style=\"width: 20px; height: 20px;background-color: rgb(255, 0, 0);\"></td><td title=\"Index: [1, 1]&#10;Color: (0, 0, 255)\" style=\"width: 20px; height: 20px;background-color: rgb(0, 0, 255);\"></td><td title=\"Index: [2, 1]&#10;Color: (0, 128, 0)\" style=\"width: 20px; height: 20px;background-color: rgb(0, 128, 0);\"></td><td title=\"Index: [3, 1]&#10;Color: (0, 128, 0)\" style=\"width: 20px; height: 20px;background-color: rgb(0, 128, 0);\"></td><td title=\"Index: [4, 1]&#10;Color: (0, 128, 0)\" style=\"width: 20px; height: 20px;background-color: rgb(0, 128, 0);\"></td><td title=\"Index: [5, 1]&#10;Color: (0, 128, 0)\" style=\"width: 20px; height: 20px;background-color: rgb(0, 128, 0);\"></td><td title=\"Index: [6, 1]&#10;Color: (0, 128, 0)\" style=\"width: 20px; height: 20px;background-color: rgb(0, 128, 0);\"></td><td title=\"Index: [7, 1]&#10;Color: (0, 128, 0)\" style=\"width: 20px; height: 20px;background-color: rgb(0, 128, 0);\"></td><td title=\"Index: [8, 1]&#10;Color: (0, 128, 0)\" style=\"width: 20px; height: 20px;background-color: rgb(0, 128, 0);\"></td><td title=\"Index: [9, 1]&#10;Color: (0, 128, 0)\" style=\"width: 20px; height: 20px;background-color: rgb(0, 128, 0);\"></td></tr><tr><td title=\"Index: [0, 0]&#10;Color: (0, 0, 255)\" style=\"width: 20px; height: 20px;background-color: rgb(0, 0, 255);\"></td><td title=\"Index: [1, 0]&#10;Color: (0, 128, 0)\" style=\"width: 20px; height: 20px;background-color: rgb(0, 128, 0);\"></td><td title=\"Index: [2, 0]&#10;Color: (0, 128, 0)\" style=\"width: 20px; height: 20px;background-color: rgb(0, 128, 0);\"></td><td title=\"Index: [3, 0]&#10;Color: (0, 128, 0)\" style=\"width: 20px; height: 20px;background-color: rgb(0, 128, 0);\"></td><td title=\"Index: [4, 0]&#10;Color: (0, 128, 0)\" style=\"width: 20px; height: 20px;background-color: rgb(0, 128, 0);\"></td><td title=\"Index: [5, 0]&#10;Color: (0, 128, 0)\" style=\"width: 20px; height: 20px;background-color: rgb(0, 128, 0);\"></td><td title=\"Index: [6, 0]&#10;Color: (0, 128, 0)\" style=\"width: 20px; height: 20px;background-color: rgb(0, 128, 0);\"></td><td title=\"Index: [7, 0]&#10;Color: (0, 128, 0)\" style=\"width: 20px; height: 20px;background-color: rgb(0, 128, 0);\"></td><td title=\"Index: [8, 0]&#10;Color: (0, 128, 0)\" style=\"width: 20px; height: 20px;background-color: rgb(0, 128, 0);\"></td><td title=\"Index: [9, 0]&#10;Color: (0, 128, 0)\" style=\"width: 20px; height: 20px;background-color: rgb(0, 128, 0);\"></td></tr></tbody></table>"
       ],
       "output_type": "display_data",
       "text": [
        "<IPython.core.display.HTML at 0x1024da350>"
       ]
      }
     ],
     "prompt_number": 5
    },
    {
     "cell_type": "markdown",
     "metadata": {},
     "source": [
      "`elif` is a shorthand for \"else if\": we use it to provide another\n",
      "alternative in a set of conditionals. We can have as many `elif`s as we\n",
      "want between the opening `if` and the optional `else` at the end. Each\n",
      "is tested in order, and the first one whose condition is true is\n",
      "executed.\n",
      "\n",
      "Now that we have this grid, we can write programs that take action based\n",
      "on its values. For example, we can add a bit of red to each block that\n",
      "doesn't have any:"
     ]
    },
    {
     "cell_type": "code",
     "collapsed": false,
     "input": [
      "for x in range(grid.width):\n",
      "    for y in range(grid.height):\n",
      "        if grid[x, y].red == 0:\n",
      "            grid[x, y].red = 128\n",
      "grid.show()"
     ],
     "language": "python",
     "metadata": {},
     "outputs": [
      {
       "html": [
        "<style type=\"text/css\">table.blockgrid {border: none;} .blockgrid tr {border: none;} .blockgrid td {padding: 0px;} #blocks024f375f-5d48-43f5-883e-665a11799d38 td {border: 1px solid white;}</style><table id=\"blocks024f375f-5d48-43f5-883e-665a11799d38\" class=\"blockgrid\"><tbody><tr><td title=\"Index: [0, 4]&#10;Color: (255, 0, 0)\" style=\"width: 20px; height: 20px;background-color: rgb(255, 0, 0);\"></td><td title=\"Index: [1, 4]&#10;Color: (255, 0, 0)\" style=\"width: 20px; height: 20px;background-color: rgb(255, 0, 0);\"></td><td title=\"Index: [2, 4]&#10;Color: (255, 0, 0)\" style=\"width: 20px; height: 20px;background-color: rgb(255, 0, 0);\"></td><td title=\"Index: [3, 4]&#10;Color: (255, 0, 0)\" style=\"width: 20px; height: 20px;background-color: rgb(255, 0, 0);\"></td><td title=\"Index: [4, 4]&#10;Color: (128, 0, 255)\" style=\"width: 20px; height: 20px;background-color: rgb(128, 0, 255);\"></td><td title=\"Index: [5, 4]&#10;Color: (128, 128, 0)\" style=\"width: 20px; height: 20px;background-color: rgb(128, 128, 0);\"></td><td title=\"Index: [6, 4]&#10;Color: (128, 128, 0)\" style=\"width: 20px; height: 20px;background-color: rgb(128, 128, 0);\"></td><td title=\"Index: [7, 4]&#10;Color: (128, 128, 0)\" style=\"width: 20px; height: 20px;background-color: rgb(128, 128, 0);\"></td><td title=\"Index: [8, 4]&#10;Color: (128, 128, 0)\" style=\"width: 20px; height: 20px;background-color: rgb(128, 128, 0);\"></td><td title=\"Index: [9, 4]&#10;Color: (128, 128, 0)\" style=\"width: 20px; height: 20px;background-color: rgb(128, 128, 0);\"></td></tr><tr><td title=\"Index: [0, 3]&#10;Color: (255, 0, 0)\" style=\"width: 20px; height: 20px;background-color: rgb(255, 0, 0);\"></td><td title=\"Index: [1, 3]&#10;Color: (255, 0, 0)\" style=\"width: 20px; height: 20px;background-color: rgb(255, 0, 0);\"></td><td title=\"Index: [2, 3]&#10;Color: (255, 0, 0)\" style=\"width: 20px; height: 20px;background-color: rgb(255, 0, 0);\"></td><td title=\"Index: [3, 3]&#10;Color: (128, 0, 255)\" style=\"width: 20px; height: 20px;background-color: rgb(128, 0, 255);\"></td><td title=\"Index: [4, 3]&#10;Color: (128, 128, 0)\" style=\"width: 20px; height: 20px;background-color: rgb(128, 128, 0);\"></td><td title=\"Index: [5, 3]&#10;Color: (128, 128, 0)\" style=\"width: 20px; height: 20px;background-color: rgb(128, 128, 0);\"></td><td title=\"Index: [6, 3]&#10;Color: (128, 128, 0)\" style=\"width: 20px; height: 20px;background-color: rgb(128, 128, 0);\"></td><td title=\"Index: [7, 3]&#10;Color: (128, 128, 0)\" style=\"width: 20px; height: 20px;background-color: rgb(128, 128, 0);\"></td><td title=\"Index: [8, 3]&#10;Color: (128, 128, 0)\" style=\"width: 20px; height: 20px;background-color: rgb(128, 128, 0);\"></td><td title=\"Index: [9, 3]&#10;Color: (128, 128, 0)\" style=\"width: 20px; height: 20px;background-color: rgb(128, 128, 0);\"></td></tr><tr><td title=\"Index: [0, 2]&#10;Color: (255, 0, 0)\" style=\"width: 20px; height: 20px;background-color: rgb(255, 0, 0);\"></td><td title=\"Index: [1, 2]&#10;Color: (255, 0, 0)\" style=\"width: 20px; height: 20px;background-color: rgb(255, 0, 0);\"></td><td title=\"Index: [2, 2]&#10;Color: (128, 0, 255)\" style=\"width: 20px; height: 20px;background-color: rgb(128, 0, 255);\"></td><td title=\"Index: [3, 2]&#10;Color: (128, 128, 0)\" style=\"width: 20px; height: 20px;background-color: rgb(128, 128, 0);\"></td><td title=\"Index: [4, 2]&#10;Color: (128, 128, 0)\" style=\"width: 20px; height: 20px;background-color: rgb(128, 128, 0);\"></td><td title=\"Index: [5, 2]&#10;Color: (128, 128, 0)\" style=\"width: 20px; height: 20px;background-color: rgb(128, 128, 0);\"></td><td title=\"Index: [6, 2]&#10;Color: (128, 128, 0)\" style=\"width: 20px; height: 20px;background-color: rgb(128, 128, 0);\"></td><td title=\"Index: [7, 2]&#10;Color: (128, 128, 0)\" style=\"width: 20px; height: 20px;background-color: rgb(128, 128, 0);\"></td><td title=\"Index: [8, 2]&#10;Color: (128, 128, 0)\" style=\"width: 20px; height: 20px;background-color: rgb(128, 128, 0);\"></td><td title=\"Index: [9, 2]&#10;Color: (128, 128, 0)\" style=\"width: 20px; height: 20px;background-color: rgb(128, 128, 0);\"></td></tr><tr><td title=\"Index: [0, 1]&#10;Color: (255, 0, 0)\" style=\"width: 20px; height: 20px;background-color: rgb(255, 0, 0);\"></td><td title=\"Index: [1, 1]&#10;Color: (128, 0, 255)\" style=\"width: 20px; height: 20px;background-color: rgb(128, 0, 255);\"></td><td title=\"Index: [2, 1]&#10;Color: (128, 128, 0)\" style=\"width: 20px; height: 20px;background-color: rgb(128, 128, 0);\"></td><td title=\"Index: [3, 1]&#10;Color: (128, 128, 0)\" style=\"width: 20px; height: 20px;background-color: rgb(128, 128, 0);\"></td><td title=\"Index: [4, 1]&#10;Color: (128, 128, 0)\" style=\"width: 20px; height: 20px;background-color: rgb(128, 128, 0);\"></td><td title=\"Index: [5, 1]&#10;Color: (128, 128, 0)\" style=\"width: 20px; height: 20px;background-color: rgb(128, 128, 0);\"></td><td title=\"Index: [6, 1]&#10;Color: (128, 128, 0)\" style=\"width: 20px; height: 20px;background-color: rgb(128, 128, 0);\"></td><td title=\"Index: [7, 1]&#10;Color: (128, 128, 0)\" style=\"width: 20px; height: 20px;background-color: rgb(128, 128, 0);\"></td><td title=\"Index: [8, 1]&#10;Color: (128, 128, 0)\" style=\"width: 20px; height: 20px;background-color: rgb(128, 128, 0);\"></td><td title=\"Index: [9, 1]&#10;Color: (128, 128, 0)\" style=\"width: 20px; height: 20px;background-color: rgb(128, 128, 0);\"></td></tr><tr><td title=\"Index: [0, 0]&#10;Color: (128, 0, 255)\" style=\"width: 20px; height: 20px;background-color: rgb(128, 0, 255);\"></td><td title=\"Index: [1, 0]&#10;Color: (128, 128, 0)\" style=\"width: 20px; height: 20px;background-color: rgb(128, 128, 0);\"></td><td title=\"Index: [2, 0]&#10;Color: (128, 128, 0)\" style=\"width: 20px; height: 20px;background-color: rgb(128, 128, 0);\"></td><td title=\"Index: [3, 0]&#10;Color: (128, 128, 0)\" style=\"width: 20px; height: 20px;background-color: rgb(128, 128, 0);\"></td><td title=\"Index: [4, 0]&#10;Color: (128, 128, 0)\" style=\"width: 20px; height: 20px;background-color: rgb(128, 128, 0);\"></td><td title=\"Index: [5, 0]&#10;Color: (128, 128, 0)\" style=\"width: 20px; height: 20px;background-color: rgb(128, 128, 0);\"></td><td title=\"Index: [6, 0]&#10;Color: (128, 128, 0)\" style=\"width: 20px; height: 20px;background-color: rgb(128, 128, 0);\"></td><td title=\"Index: [7, 0]&#10;Color: (128, 128, 0)\" style=\"width: 20px; height: 20px;background-color: rgb(128, 128, 0);\"></td><td title=\"Index: [8, 0]&#10;Color: (128, 128, 0)\" style=\"width: 20px; height: 20px;background-color: rgb(128, 128, 0);\"></td><td title=\"Index: [9, 0]&#10;Color: (128, 128, 0)\" style=\"width: 20px; height: 20px;background-color: rgb(128, 128, 0);\"></td></tr></tbody></table>"
       ],
       "output_type": "display_data",
       "text": [
        "<IPython.core.display.HTML at 0x1024d69d0>"
       ]
      }
     ],
     "prompt_number": 6
    },
    {
     "cell_type": "markdown",
     "metadata": {},
     "source": [
      "Again, since the author of IPythonBlocks chose sensible names for\n",
      "things, we can read this program with little difficulty. The nested\n",
      "loops iterate through the blocks in row-and-column order. At each block,\n",
      "we test whether the red component of its color is zero. If it is, we set\n",
      "it to 128 (i.e., half the maximum intensity). This leaves the pure red\n",
      "blocks alone, but adds red to green and blue blocks."
     ]
    },
    {
     "cell_type": "markdown",
     "metadata": {},
     "source": [
      "## Key Points\n",
      "\n",
      "FIXME"
     ]
    }
   ],
   "metadata": {}
  }
 ]
}