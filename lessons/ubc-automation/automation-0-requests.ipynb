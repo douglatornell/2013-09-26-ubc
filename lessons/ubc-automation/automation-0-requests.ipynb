{
 "metadata": {
  "name": ""
 },
 "nbformat": 3,
 "nbformat_minor": 0,
 "worksheets": [
  {
   "cells": [
    {
     "cell_type": "markdown",
     "metadata": {},
     "source": [
      "#Automation - Getting Data from the Web"
     ]
    },
    {
     "cell_type": "markdown",
     "metadata": {},
     "source": [
      "##Learning Goals\n",
      "- Use the `requests` library to get data from the Environment Canada Climate Archive web site.\n",
      "- Use our previously written `climate_data.read_climate_file()` function to process data\n",
      "from the web."
     ]
    },
    {
     "cell_type": "markdown",
     "metadata": {},
     "source": [
      "##The Requests Library\n",
      "\n",
      "[Requests](http://docs.python-requests.org/)\n",
      "is a wonderful library that takes away a huge amount of the pain\n",
      "that used to be associated with interacting with the web in Python.\n",
      "\n",
      "We're going to use it to mimic the way that we manually downloaded CSV files\n",
      "in the [Data Exploration lesson](http://douglatornell.github.io/2013-09-26-ubc/lessons/ubc-data-explore/index.html)\n",
      "but you can also use it:\n",
      "\n",
      "- to interact with web service APIs\n",
      "- in combination with other libraries to extract data from HTML on web pages (web scraping)\n",
      "\n",
      "Conveniently,\n",
      "Requests is included in the Anaconda distribution."
     ]
    },
    {
     "cell_type": "markdown",
     "metadata": {},
     "source": [
      "As always,\n",
      "we'll start with some `import` statements:"
     ]
    },
    {
     "cell_type": "code",
     "collapsed": false,
     "input": [
      "import requests\n",
      "from climate_data import read_climate_file"
     ],
     "language": "python",
     "metadata": {},
     "outputs": [],
     "prompt_number": 1
    },
    {
     "cell_type": "markdown",
     "metadata": {},
     "source": [
      "##Browsing the Web with Code\n",
      "It takes some digging around,\n",
      "but it turns out that sending an HTTP GET request to:\n",
      "\n",
      "[http://climate.weather.gc.ca/climateData/bulkdata_e.html?timeframe=1&stationID=51442&Year=2013&Month=8&Day=1&format=csv](http://climate.weather.gc.ca/climateData/bulkdata_e.html?timeframe=1&stationID=51442&Year=2013&Month=8&Day=1&format=csv)\n",
      "\n",
      "will return the hourly data CSV file for YVR that we all downloaded earlier.\n",
      "\n",
      "**Note:** The program that accepts that URL and processes it to return the data \n",
      "is *very* picky about capitalization.\n",
      "That's not good design,\n",
      "but it's what we have to live with."
     ]
    },
    {
     "cell_type": "markdown",
     "metadata": {},
     "source": [
      "We can write that URL more readably in Python by separating it into a string for the URL of the page,\n",
      "and a `dict` containing the keys and values in the query part.\n",
      "Then we can use `requests.get()` function to get the content at that URL:"
     ]
    },
    {
     "cell_type": "code",
     "collapsed": false,
     "input": [
      "url = 'http://climate.weather.gc.ca/climateData/bulkdata_e.html'\n",
      "params = {\n",
      "    'timeframe': 1,\n",
      "    'stationID': 51442,\n",
      "    'Year': 2013,\n",
      "    'Month': 7,\n",
      "    'Day': 1,\n",
      "    'format': 'csv',\n",
      "}\n",
      "response = requests.get(url, params=params)"
     ],
     "language": "python",
     "metadata": {},
     "outputs": [],
     "prompt_number": 14
    },
    {
     "cell_type": "markdown",
     "metadata": {},
     "source": [
      "The `response` object that we get back has a variety of properties and methods.\n",
      "We can look at the response headers to see that:\n",
      "\n",
      "`'content-disposition': 'attachment; filename=\"eng-hourly-08012013-08312013.csv\"'`\n",
      "\n",
      "which is why our browsers download the file with the name that they do,\n",
      "or offer to open it for us in an appropriate application.\n",
      "We can also see that:\n",
      "\n",
      "`'content-type': 'text/csv'`\n",
      "\n",
      "confirms that the server is sending us CSV data."
     ]
    },
    {
     "cell_type": "code",
     "collapsed": false,
     "input": [
      "response.headers"
     ],
     "language": "python",
     "metadata": {},
     "outputs": [
      {
       "metadata": {},
       "output_type": "pyout",
       "prompt_number": 16,
       "text": [
        "CaseInsensitiveDict({'content-disposition': 'attachment; filename=\"eng-hourly-07012013-07312013.csv\"', 'x-powered-by': 'PHP/5.3.2-1ubuntu4.19', 'transfer-encoding': 'chunked', 'set-cookie': 'jsenabled=0; expires=Sat, 21-Sep-2013 20:11:03 GMT; path=/', 'server': 'Apache/2.2.14 (Ubuntu) PHP/5.3.2-1ubuntu4.19 with Suhosin-Patch mod_ssl/2.2.14 OpenSSL/0.9.8k mod_perl/2.0.4 Perl/v5.10.1', 'date': 'Sat, 21 Sep 2013 19:11:03 GMT', 'content-type': 'text/csv'})"
       ]
      }
     ],
     "prompt_number": 16
    },
    {
     "cell_type": "markdown",
     "metadata": {},
     "source": [
      "We're going to take advantage of the fact that `numpy.genfromtxt()` will accept\n",
      "a list of lines from a file in place of a file name.\n",
      "We're also going to use a trick to avoid the encoding problem with the degree symbol."
     ]
    },
    {
     "cell_type": "code",
     "collapsed": false,
     "input": [
      "lines = list(response.iter_lines())\n",
      "data = read_climate_file(lines)\n",
      "print data[0]\n",
      "print data[-1]"
     ],
     "language": "python",
     "metadata": {},
     "outputs": [
      {
       "output_type": "stream",
       "stream": "stdout",
       "text": [
        "('\"2013-07-01 00:00', 2013, 7, 1, '00:00', '**', 19.6, '', 17.8, '', 89.0, '', 13.0, '', 6.0, '', 32.2, '', 101.22, '', nan, '', nan, '', 'NA\"')\n",
        "('\"2013-07-31 23:00', 2013, 7, 31, '23:00', '**', 19.1, '', 13.6, '', 70.0, '', 10.0, '', 8.0, '', 32.2, '', 101.6, '', nan, '', nan, '', 'NA\"')\n"
       ]
      }
     ],
     "prompt_number": 17
    },
    {
     "cell_type": "markdown",
     "metadata": {},
     "source": [
      "**Exercise:**\n",
      "Create a `read_climate_url()` function that takes `url` and `params` as arguments\n",
      "and returns the NumPy array generated by `read_climate_file()`."
     ]
    },
    {
     "cell_type": "code",
     "collapsed": false,
     "input": [
      "def read_climate_url(url, params):\n",
      "    \"\"\"Read climate data from url with query params\n",
      "    and return the result as a NumPy array.\n",
      "    \"\"\""
     ],
     "language": "python",
     "metadata": {},
     "outputs": [],
     "prompt_number": 18
    },
    {
     "cell_type": "markdown",
     "metadata": {},
     "source": [
      "And with that,\n",
      "it's super easy to go and ask the Environment Canada Climate archive site\n",
      "what the minimum and maximum temperatures in July, August, and September\n",
      "of this year have been:"
     ]
    },
    {
     "cell_type": "code",
     "collapsed": false,
     "input": [
      "import numpy as np\n",
      "\n",
      "url = 'http://climate.weather.gc.ca/climateData/bulkdata_e.html'\n",
      "params = {\n",
      "    'timeframe': 1,\n",
      "    'stationID': 51442,\n",
      "    'Year': 2013,\n",
      "    'Month': 7,\n",
      "    'Day': 1,\n",
      "    'format': 'csv',\n",
      "}\n",
      "for month in (7, 8, 9):\n",
      "    params['Month'] = month\n",
      "    data = read_climate_url(url, params)\n",
      "    temps = data['Temp_degC']\n",
      "    not_nan = np.logical_not(np.isnan(temps))\n",
      "    print 'Min/Max temperaures during', params['Year'], '/', month, 'were', \\\n",
      "        temps[not_nan].min(), 'and', temps[not_nan].max(), 'degrees C'"
     ],
     "language": "python",
     "metadata": {},
     "outputs": [
      {
       "output_type": "stream",
       "stream": "stdout",
       "text": [
        "Min/Max temperaures during 2013 / 7 were 11.6 and 27.2 degrees C\n",
        "Min/Max temperaures during"
       ]
      },
      {
       "output_type": "stream",
       "stream": "stdout",
       "text": [
        " 2013 / 8 were 12.5 and 24.6 degrees C\n",
        "Min/Max temperaures during"
       ]
      },
      {
       "output_type": "stream",
       "stream": "stdout",
       "text": [
        " 2013 / 9 were 11.5 and 23.7 degrees C\n"
       ]
      }
     ],
     "prompt_number": 19
    },
    {
     "cell_type": "markdown",
     "metadata": {},
     "source": [
      "`read_climate_url()` looks like a handy function.\n",
      "Let's add it to our `climate_data.py` module by going back to the top\n",
      "of its cell and adding the `%%writefile --append climate_data.py` magic\n",
      "and executing the cell again."
     ]
    },
    {
     "cell_type": "markdown",
     "metadata": {},
     "source": [
      "##Key Points\n",
      "- The `requests` library provides a clean, well documented interface \n",
      "for interacting with web sites and services\n",
      "- NaNs may need to be filtered out of NumPy arrays before you can get\n",
      "meaningful results from calculations"
     ]
    }
   ],
   "metadata": {}
  }
 ]
}