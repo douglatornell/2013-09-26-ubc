{
 "metadata": {
  "name": ""
 },
 "nbformat": 3,
 "nbformat_minor": 0,
 "worksheets": [
  {
   "cells": [
    {
     "cell_type": "markdown",
     "metadata": {},
     "source": [
      "#Data Exploration in Python - Intro to NumPy"
     ]
    },
    {
     "cell_type": "markdown",
     "metadata": {},
     "source": [
      "##Learning Goals\n",
      "- Create NumPy arrays from sequences and via NumPy functions\n",
      "- Explain the similarities and differences between NumPy arrays and Python lists\n",
      "- Use arrays of indices and arrays of Booleans to slice, filter and modify NumPy arrays"
     ]
    },
    {
     "cell_type": "markdown",
     "metadata": {},
     "source": [
      "##What is NumPy ?\n",
      "\n",
      "NumPy is a Python package implementing efficient collections of specific\n",
      "types of data (generally numerical).\n",
      "NumPy arrays differ from lists and tuples in that the data is contiguous in memory.\n",
      "A Python `list`,\n",
      "```[0, 1, 2]```,\n",
      "in contrast,\n",
      "is actually an array of pointers to Python\n",
      "objects representing each number. \n",
      "Contiguous storage in memory allows NumPy arrays to be considerably faster\n",
      "for numerical operations than Python lists/tuples.\n",
      "\n",
      "The NumPy package provides:\n",
      "\n",
      "* a powerful N-dimensional array object\n",
      "* advanced array slicing methods (to select array elements)\n",
      "* convenient array reshaping methods \n",
      "\n",
      "and it also contains 3 libraries of numerical routines:\n",
      "\n",
      "* basic linear algebra functions\n",
      "* basic Fourier transforms\n",
      "* sophisticated random number capabilities \n",
      "\n",
      "NumPy can be extended with C-code for functions where performance is highly time critical.\n",
      "In addition, tools are provided for integrating existing Fortran code.\n",
      "\n",
      "You can use NumPy all by itself to do a lot in the realm of scientific computing,\n",
      "but it is also the foundation of numerous even more powerful packages like SciPy and SymPy.\n"
     ]
    },
    {
     "cell_type": "code",
     "collapsed": false,
     "input": [
      "import numpy as np"
     ],
     "language": "python",
     "metadata": {},
     "outputs": [],
     "prompt_number": 1
    },
    {
     "cell_type": "markdown",
     "metadata": {},
     "source": [
      "##Creating NumPy Arrays\n",
      "Creating a NumPy array is as simple as passing a sequence to `numpy.array()`.\n",
      "The data-type for all elements of the array is inferred from the sequence,\n",
      "but you can also explicitly specify the it if the automatically chosen one would be unsuitable."
     ]
    },
    {
     "cell_type": "code",
     "collapsed": false,
     "input": [
      "a = np.array([1, 2.3, 4])\n",
      "a"
     ],
     "language": "python",
     "metadata": {},
     "outputs": [
      {
       "metadata": {},
       "output_type": "pyout",
       "prompt_number": 4,
       "text": [
        "array([ 1. ,  2.3,  4. ])"
       ]
      }
     ],
     "prompt_number": 4
    },
    {
     "cell_type": "code",
     "collapsed": false,
     "input": [
      "a.dtype"
     ],
     "language": "python",
     "metadata": {},
     "outputs": [
      {
       "metadata": {},
       "output_type": "pyout",
       "prompt_number": 5,
       "text": [
        "dtype('float64')"
       ]
      }
     ],
     "prompt_number": 5
    },
    {
     "cell_type": "code",
     "collapsed": false,
     "input": [
      "b = np.array([1, 2, 3])\n",
      "b"
     ],
     "language": "python",
     "metadata": {},
     "outputs": [
      {
       "metadata": {},
       "output_type": "pyout",
       "prompt_number": 6,
       "text": [
        "array([1, 2, 3])"
       ]
      }
     ],
     "prompt_number": 6
    },
    {
     "cell_type": "code",
     "collapsed": false,
     "input": [
      "b.dtype"
     ],
     "language": "python",
     "metadata": {},
     "outputs": [
      {
       "metadata": {},
       "output_type": "pyout",
       "prompt_number": 7,
       "text": [
        "dtype('int64')"
       ]
      }
     ],
     "prompt_number": 7
    },
    {
     "cell_type": "code",
     "collapsed": false,
     "input": [
      "c = np.array([1, 2, 3], dtype=float)\n",
      "c"
     ],
     "language": "python",
     "metadata": {},
     "outputs": [
      {
       "metadata": {},
       "output_type": "pyout",
       "prompt_number": 8,
       "text": [
        "array([ 1.,  2.,  3.])"
       ]
      }
     ],
     "prompt_number": 8
    },
    {
     "cell_type": "markdown",
     "metadata": {},
     "source": [
      "Creating arrays from sequences is tedious for humans and slow for computers.\n",
      "So,\n",
      "NumPy provides convenience functions to create different types of arrays quickly:"
     ]
    },
    {
     "cell_type": "code",
     "collapsed": false,
     "input": [
      "np.zeros(5)"
     ],
     "language": "python",
     "metadata": {},
     "outputs": [
      {
       "metadata": {},
       "output_type": "pyout",
       "prompt_number": 9,
       "text": [
        "array([ 0.,  0.,  0.,  0.,  0.])"
       ]
      }
     ],
     "prompt_number": 9
    },
    {
     "cell_type": "code",
     "collapsed": false,
     "input": [
      "np.ones(1)"
     ],
     "language": "python",
     "metadata": {},
     "outputs": [
      {
       "metadata": {},
       "output_type": "pyout",
       "prompt_number": 10,
       "text": [
        "array([ 1.])"
       ]
      }
     ],
     "prompt_number": 10
    },
    {
     "cell_type": "code",
     "collapsed": false,
     "input": [
      "x = np.arange(10)\n",
      "x"
     ],
     "language": "python",
     "metadata": {},
     "outputs": [
      {
       "metadata": {},
       "output_type": "pyout",
       "prompt_number": 12,
       "text": [
        "array([0, 1, 2, 3, 4, 5, 6, 7, 8, 9])"
       ]
      }
     ],
     "prompt_number": 12
    },
    {
     "cell_type": "code",
     "collapsed": false,
     "input": [
      "np.ones_like(x)"
     ],
     "language": "python",
     "metadata": {},
     "outputs": [
      {
       "metadata": {},
       "output_type": "pyout",
       "prompt_number": 13,
       "text": [
        "array([1, 1, 1, 1, 1, 1, 1, 1, 1, 1])"
       ]
      }
     ],
     "prompt_number": 13
    },
    {
     "cell_type": "code",
     "collapsed": false,
     "input": [
      "np.identity(3)"
     ],
     "language": "python",
     "metadata": {},
     "outputs": [
      {
       "metadata": {},
       "output_type": "pyout",
       "prompt_number": 15,
       "text": [
        "array([[ 1.,  0.,  0.],\n",
        "       [ 0.,  1.,  0.],\n",
        "       [ 0.,  0.,  1.]])"
       ]
      }
     ],
     "prompt_number": 15
    },
    {
     "cell_type": "markdown",
     "metadata": {},
     "source": [
      "**Exercise:**\n",
      "Create an array with values ranging from 0 to 10, in increments of 0.5.\n",
      "(Remember that Python and IPython have tools to provide you with syntax help!)"
     ]
    },
    {
     "cell_type": "code",
     "collapsed": false,
     "input": [],
     "language": "python",
     "metadata": {},
     "outputs": [],
     "prompt_number": 13
    },
    {
     "cell_type": "markdown",
     "metadata": {},
     "source": [
      "##NumPy Arrays vs. Python Lists\n",
      "Although the printed representation of NumPy arrays may remind you of Python lists,\n",
      "the similarities end pretty quickly.\n",
      "It's better to think of NumPy arrays as mathematic vectors and matrices.\n",
      "\n",
      "You can access elements of NumPy arrays with similar syntax as Python lists:"
     ]
    },
    {
     "cell_type": "code",
     "collapsed": false,
     "input": [
      "a = np.arange(5)\n",
      "a"
     ],
     "language": "python",
     "metadata": {},
     "outputs": [
      {
       "metadata": {},
       "output_type": "pyout",
       "prompt_number": 16,
       "text": [
        "array([0, 1, 2, 3, 4])"
       ]
      }
     ],
     "prompt_number": 16
    },
    {
     "cell_type": "code",
     "collapsed": false,
     "input": [
      "a[3]"
     ],
     "language": "python",
     "metadata": {},
     "outputs": [
      {
       "metadata": {},
       "output_type": "pyout",
       "prompt_number": 17,
       "text": [
        "3"
       ]
      }
     ],
     "prompt_number": 17
    },
    {
     "cell_type": "code",
     "collapsed": false,
     "input": [
      "a[3] = 42\n",
      "a"
     ],
     "language": "python",
     "metadata": {},
     "outputs": [
      {
       "metadata": {},
       "output_type": "pyout",
       "prompt_number": 18,
       "text": [
        "array([ 0,  1,  2, 42,  4])"
       ]
      }
     ],
     "prompt_number": 18
    },
    {
     "cell_type": "markdown",
     "metadata": {},
     "source": [
      "But when it comes to arithmetic,\n",
      "arrays and lists are completely different:"
     ]
    },
    {
     "cell_type": "code",
     "collapsed": false,
     "input": [
      "a = np.arange(5)\n",
      "b = np.arange(5, 10)\n",
      "x = range(5)\n",
      "y = range(5, 10)"
     ],
     "language": "python",
     "metadata": {},
     "outputs": [],
     "prompt_number": 27
    },
    {
     "cell_type": "code",
     "collapsed": false,
     "input": [
      "a + b"
     ],
     "language": "python",
     "metadata": {},
     "outputs": [
      {
       "metadata": {},
       "output_type": "pyout",
       "prompt_number": 28,
       "text": [
        "array([ 5,  7,  9, 11, 13])"
       ]
      }
     ],
     "prompt_number": 28
    },
    {
     "cell_type": "code",
     "collapsed": false,
     "input": [
      "x + y"
     ],
     "language": "python",
     "metadata": {},
     "outputs": [
      {
       "metadata": {},
       "output_type": "pyout",
       "prompt_number": 29,
       "text": [
        "[0, 1, 2, 3, 4, 5, 6, 7, 8, 9]"
       ]
      }
     ],
     "prompt_number": 29
    },
    {
     "cell_type": "markdown",
     "metadata": {},
     "source": [
      "**Exercise:**\n",
      "Explore arithmetic operations on arrays and lists.\n",
      "\n",
      "* Try subtraction and multiplication of 2 arrays and 2 lists.\n",
      "* Try addition, multiplication, and exponentiation of an array and a list by a scalar.\n",
      "\n",
      "What do you conclude?"
     ]
    },
    {
     "cell_type": "code",
     "collapsed": false,
     "input": [],
     "language": "python",
     "metadata": {},
     "outputs": [],
     "prompt_number": 34
    },
    {
     "cell_type": "markdown",
     "metadata": {},
     "source": [
      "##Comparison\n",
      "Comparisons are performed element-wise too,\n",
      "and return arrays of Booleans."
     ]
    },
    {
     "cell_type": "code",
     "collapsed": false,
     "input": [
      "a = np.array([1, 2, 3, 4, 5])\n",
      "b = np.array([1, 1, 3, 3, 5])\n",
      "c = a == b\n",
      "c"
     ],
     "language": "python",
     "metadata": {},
     "outputs": [
      {
       "metadata": {},
       "output_type": "pyout",
       "prompt_number": 37,
       "text": [
        "array([ True, False,  True, False,  True], dtype=bool)"
       ]
      }
     ],
     "prompt_number": 37
    },
    {
     "cell_type": "code",
     "collapsed": false,
     "input": [
      "c.any()"
     ],
     "language": "python",
     "metadata": {},
     "outputs": [
      {
       "metadata": {},
       "output_type": "pyout",
       "prompt_number": 38,
       "text": [
        "True"
       ]
      }
     ],
     "prompt_number": 38
    },
    {
     "cell_type": "code",
     "collapsed": false,
     "input": [
      "c.all()"
     ],
     "language": "python",
     "metadata": {},
     "outputs": [
      {
       "metadata": {},
       "output_type": "pyout",
       "prompt_number": 39,
       "text": [
        "False"
       ]
      }
     ],
     "prompt_number": 39
    },
    {
     "cell_type": "markdown",
     "metadata": {},
     "source": [
      "What happens if you compare arrays of different shapes?"
     ]
    },
    {
     "cell_type": "markdown",
     "metadata": {},
     "source": [
      "##Multi-dimensional Arrays"
     ]
    },
    {
     "cell_type": "code",
     "collapsed": false,
     "input": [
      "np.ones((3, 4))"
     ],
     "language": "python",
     "metadata": {},
     "outputs": [
      {
       "metadata": {},
       "output_type": "pyout",
       "prompt_number": 41,
       "text": [
        "array([[ 1.,  1.,  1.,  1.],\n",
        "       [ 1.,  1.,  1.,  1.],\n",
        "       [ 1.,  1.,  1.,  1.]])"
       ]
      }
     ],
     "prompt_number": 41
    },
    {
     "cell_type": "code",
     "collapsed": false,
     "input": [
      "eye = np.identity(5)\n",
      "eye"
     ],
     "language": "python",
     "metadata": {},
     "outputs": [
      {
       "metadata": {},
       "output_type": "pyout",
       "prompt_number": 43,
       "text": [
        "array([[ 1.,  0.,  0.,  0.,  0.],\n",
        "       [ 0.,  1.,  0.,  0.,  0.],\n",
        "       [ 0.,  0.,  1.,  0.,  0.],\n",
        "       [ 0.,  0.,  0.,  1.,  0.],\n",
        "       [ 0.,  0.,  0.,  0.,  1.]])"
       ]
      }
     ],
     "prompt_number": 43
    },
    {
     "cell_type": "code",
     "collapsed": false,
     "input": [
      "print 'shape:', eye.shape, 'size:', eye.size, 'len:', len(eye)"
     ],
     "language": "python",
     "metadata": {},
     "outputs": [
      {
       "output_type": "stream",
       "stream": "stdout",
       "text": [
        "shape: (5, 5) size: 25 len: 5\n"
       ]
      }
     ],
     "prompt_number": 44
    },
    {
     "cell_type": "markdown",
     "metadata": {},
     "source": [
      "##Multi-dimensional Indexing (aka Slicing)"
     ]
    },
    {
     "cell_type": "code",
     "collapsed": false,
     "input": [
      "c = np.arange(16).reshape(4, 4)\n",
      "c"
     ],
     "language": "python",
     "metadata": {},
     "outputs": [
      {
       "metadata": {},
       "output_type": "pyout",
       "prompt_number": 45,
       "text": [
        "array([[ 0,  1,  2,  3],\n",
        "       [ 4,  5,  6,  7],\n",
        "       [ 8,  9, 10, 11],\n",
        "       [12, 13, 14, 15]])"
       ]
      }
     ],
     "prompt_number": 45
    },
    {
     "cell_type": "code",
     "collapsed": false,
     "input": [
      "print 'element:', c[1, 2]\n",
      "print 'row:', c[1]\n",
      "print 'column:', c[:, 2]"
     ],
     "language": "python",
     "metadata": {},
     "outputs": [
      {
       "output_type": "stream",
       "stream": "stdout",
       "text": [
        "element: 6\n",
        "row: [4 5 6 7]\n",
        "column: [ 2  6 10 14]\n"
       ]
      }
     ],
     "prompt_number": 49
    },
    {
     "cell_type": "markdown",
     "metadata": {},
     "source": [
      "**Excercise:**\n",
      "Using what you've just learned about slicing,\n",
      "print just the upper-left quarter of the 4x4 array `c` defined above."
     ]
    },
    {
     "cell_type": "code",
     "collapsed": false,
     "input": [],
     "language": "python",
     "metadata": {},
     "outputs": [],
     "prompt_number": 55
    },
    {
     "cell_type": "markdown",
     "metadata": {},
     "source": [
      "##Slicing with Arrays\n",
      "Arrays can be sliced with other arrays,\n",
      "either a list or an array of indices,\n",
      "or an array of Booleans of the same length as the array being sliced."
     ]
    },
    {
     "cell_type": "code",
     "collapsed": false,
     "input": [
      "a = np.arange(5, 10)\n",
      "a"
     ],
     "language": "python",
     "metadata": {},
     "outputs": [
      {
       "metadata": {},
       "output_type": "pyout",
       "prompt_number": 61,
       "text": [
        "array([5, 6, 7, 8, 9])"
       ]
      }
     ],
     "prompt_number": 61
    },
    {
     "cell_type": "code",
     "collapsed": false,
     "input": [
      "a[[0, 2, 3]]"
     ],
     "language": "python",
     "metadata": {},
     "outputs": [
      {
       "metadata": {},
       "output_type": "pyout",
       "prompt_number": 64,
       "text": [
        "array([0, 0, 0])"
       ]
      }
     ],
     "prompt_number": 64
    },
    {
     "cell_type": "code",
     "collapsed": false,
     "input": [
      "a[[0, 2, 3]] = 0\n",
      "a"
     ],
     "language": "python",
     "metadata": {},
     "outputs": [
      {
       "metadata": {},
       "output_type": "pyout",
       "prompt_number": 63,
       "text": [
        "array([0, 6, 0, 0, 9])"
       ]
      }
     ],
     "prompt_number": 63
    },
    {
     "cell_type": "code",
     "collapsed": false,
     "input": [
      "import random\n",
      "a = np.array([random.randint(0, 10) for i in range(10)])\n",
      "print 'a:', a\n",
      "mask = a>5\n",
      "print 'mask:', mask\n",
      "a[mask] = 5\n",
      "print 'a:', a"
     ],
     "language": "python",
     "metadata": {},
     "outputs": [
      {
       "output_type": "stream",
       "stream": "stdout",
       "text": [
        "a: [0 9 0 1 2 3 2 2 0 6]\n",
        "mask: [False  True False False False False False False False  True]\n",
        "a: [0 5 0 1 2 3 2 2 0 5]\n"
       ]
      }
     ],
     "prompt_number": 79
    },
    {
     "cell_type": "markdown",
     "metadata": {},
     "source": [
      "**Exercise:**\n",
      "Experiment with Boolean slicing.\n",
      "Try different boolean operators for the mask.\n",
      "\n",
      "Boolean slicing is very often the key to working easily with subsets of data\n",
      "because we can often articulate conditions that describe the data we want to\n",
      "work with,\n",
      "but not it precise location in an array."
     ]
    },
    {
     "cell_type": "code",
     "collapsed": false,
     "input": [],
     "language": "python",
     "metadata": {},
     "outputs": [],
     "prompt_number": 79
    },
    {
     "cell_type": "markdown",
     "metadata": {},
     "source": [
      "##Views vs. Copies\n",
      "In the interest of speed,\n",
      "slices of NumPy arrays almost always return *views* of the original array.\n",
      "That's why the assignments to slices in the above examples change the value\n",
      "of the original arrays.\n",
      "This can be confusing,\n",
      "but here's a [detailed explanation](http://wiki.scipy.org/Tentative_NumPy_Tutorial#head-1529ae93dd5d431ffe3a1001a4ab1a394e70a5f2)\n",
      "in the NumPy docs.\n",
      "\n",
      "The bottom line is that if you need a copy of an array,\n",
      "be explicit and use its `copy()` method."
     ]
    },
    {
     "cell_type": "code",
     "collapsed": false,
     "input": [
      "a = np.arange(5)\n",
      "b = a\n",
      "print 'a:', a\n",
      "print 'b:', b\n",
      "b[2] = 42\n",
      "print 'a:', a\n",
      "print 'b:', b\n",
      "b = a.copy()\n",
      "b[4] = 42\n",
      "print 'a:', a\n",
      "print 'b:', b"
     ],
     "language": "python",
     "metadata": {},
     "outputs": [
      {
       "output_type": "stream",
       "stream": "stdout",
       "text": [
        "a: [0 1 2 3 4]\n",
        "b: [0 1 2 3 4]\n",
        "a: [ 0  1 42  3  4]\n",
        "b: [ 0  1 42  3  4]\n",
        "a: [ 0  1 42  3  4]\n",
        "b: [ 0  1 42  3 42]\n"
       ]
      }
     ],
     "prompt_number": 83
    },
    {
     "cell_type": "markdown",
     "metadata": {},
     "source": [
      "##There's Much, Much More...\n",
      "We've just scratched the surface of the awesomeness of NumPy.\n",
      "We'll touch on some more of the built-in methods that NumPy array objects have in the next section.\n",
      "But,\n",
      "beyond that,\n",
      "there's:\n",
      "\n",
      "* A formal matrix object\n",
      "* A large collection of \"Universal Functions\" (`ufunc`) that provide fast, element-wise operations\n",
      "* Linear algebra\n",
      "* Financial functions\n",
      "* Discrete Fourier transforms\n",
      "* Masked arrays for dealing with sparse or missing data\n",
      "* And more\n",
      "\n",
      "See the [NumPy reference docs](http://docs.scipy.org/doc/numpy/reference/) for details."
     ]
    },
    {
     "cell_type": "markdown",
     "metadata": {},
     "source": [
      "##Key Points\n",
      "- Create NumPy arrays from sequences or via convenience functions\n",
      "- Think about NumPy arrays as vectors and matrices, in contrast to Python lists\n",
      "- Use Boolean slicing to isolate subsections of arrays based on the data rather than its indices\n",
      "- Read the [NumPy reference docs](http://docs.scipy.org/doc/numpy/reference/)"
     ]
    }
   ],
   "metadata": {}
  }
 ]
}