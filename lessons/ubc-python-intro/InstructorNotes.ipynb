{
 "metadata": {
  "name": ""
 },
 "nbformat": 3,
 "nbformat_minor": 0,
 "worksheets": [
  {
   "cells": [
    {
     "cell_type": "markdown",
     "metadata": {},
     "source": [
      "#Intro to Python - Instructor Notes"
     ]
    },
    {
     "cell_type": "markdown",
     "metadata": {},
     "source": [
      "##Resizing and Image\n",
      "- `import`, assign, display, print original size\n",
      "- talk about `print` statement\n",
      "- talk about imports; $cos(\\pi/2)$ exercise\n",
      "- talk about variables and values; mention `NameError`\n",
      "- resize the image; notice that aspect ratio is not preserved\n",
      "- calculate image height that preserves aspect ratio with hard-coded values\n",
      "- calculate height with height and width properties of `picture`\n",
      "- mention `int` vs. `float` and integer division; integers for counting, floats for measuring\n",
      "- save and commit the notebook"
     ]
    },
    {
     "cell_type": "markdown",
     "metadata": {},
     "source": [
      "##Creating Functions\n",
      "- define `zero()` function; talk about indentation\n",
      "- call `zero()` function\n",
      "- write and test `average3()` function\n",
      "- discuss stack frame; show that `middle` is undefined at cell stack level\n",
      "- discuss call stack and variable scope via `fahr_to_celcius()` example\n",
      "- write and test `make_thumbnail()` function\n",
      "- add `width=100` argument to `make_thumbnail()` and test it\n",
      "- discuss why to use functions\n",
      "  - code reuse \n",
      "  - code comprehension; \"seven plus or minus two\", keep functions short\n",
      "- save and commit the notebook"
     ]
    },
    {
     "cell_type": "markdown",
     "metadata": {},
     "source": [
      "##Repeating Things\n",
      "- `for vowel in 'aeiou'`\n",
      "- loop to calculate number of vowels in string; but use builtin `len()`\n",
      "- introduce `ipythonblocks.ImageGrid`; grid properties\n",
      "- use `grid?` and `help(grid)` to illustrate access to docs\n",
      "- does everyone know about RGB colours? If not, play with `ipythonblocks.show_color`\n",
      "- make cell 0,0 of the grid green\n",
      "- write long, ugly code to make left column of 6x3 grid orange\n",
      "  - discuss why it's wrong; introduce DRY principle\n",
      "- change color to a CONSTANT; introduce `colors` module of 865 color constants\n",
      "- introduce `range()` and loop over hard-coded grid height; raspberry exercise\n",
      "- mention `grid.height`, then write and test `color_column()` function\n",
      "- 3 ochre column exercise; loop over columns in solution\n",
      "- talk about nested loops with hard-coded range indices; 8x5 rectangle w/ 3x3 blue patch\n",
      "- talk about inner loop depending on outer loop variable; 5x5 square w/ azure lower half\n",
      "- invert nested loop exercise; make upper half coral\n",
      "- make diagonal celadon\n",
      "- save and commit the notebook"
     ]
    },
    {
     "cell_type": "markdown",
     "metadata": {},
     "source": [
      "##Making Decisions and Programming Defensively\n",
      "- do imports at the top of the notebook; talk about imports only happening once\n",
      "- create a 6x1 row grid with 2 orchid cells; talk about the goal of an `invert()` function\n",
      "that works on any length row\n",
      "- introduce `if` via `for n in range(-2, 3):`\n",
      "- write `invert()` function and test it to discover that colour comparison needs to be\n",
      "against `.rgb` property of pixel/cell\n",
      "- refactor `invert()` to use `.rgb` and to return the inversion as a new grid;\n",
      "talk about mutation, expensive operations, and pre-mature optimization\n",
      "- demo the idea of setting cell colors from a string of `R`s and `G`s\n",
      "- exercise to write `color_from_string()` function and test code for it\n",
      "- demo result of a letter other than `R` or `G` in data string; \n",
      "introduce `assert` to catch error condition\n",
      "- demo result of data string shorter than `grid.width`;\n",
      "add `assert` to catch that error condition\n",
      "- talk about docstrings\n",
      "- talk about string formatting if there is time; improve error messages in `color_from_string()`\n",
      "- save and commit the notebook"
     ]
    },
    {
     "cell_type": "markdown",
     "metadata": {},
     "source": [
      "##Compound Data Types\n",
      "- lists are ordered, indexable, mutable collections of data\n",
      "- create voltages and currents lists\n",
      "- demo indexing; zero-based, negative, slices\n",
      "- exercise to slice voltages to get all but last 2 items\n",
      "- list methods; append and extend, len\n",
      "- demo heterogenous data in a list; compound data types can generally \n",
      "hold hetrogenous data\n",
      "- talk about assignment, names and values\n",
      "- tuples are ordered, indexable, immutable collections; like ordered pairs in math\n",
      "- sets are unordered, mutable collections of unique data; like sets in math\n",
      "- demo creation from sequence; uniqueness\n",
      "- demo or exercise re: intersection\n",
      "- dicts are unordered, mutable collections of key-value pairs, indexable by key\n",
      "- demo creation, value access, new item creation\n",
      "- demo keys and values methods\n",
      "- exercise re: items method \n",
      "- save and commit the notebook"
     ]
    }
   ],
   "metadata": {}
  }
 ]
}